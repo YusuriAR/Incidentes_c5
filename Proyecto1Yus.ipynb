{
 "cells": [
  {
   "cell_type": "code",
   "execution_count": 1,
   "metadata": {},
   "outputs": [],
   "source": [
    "import pandas as pd\n",
    "import numpy as np\n",
    "import plotly.express as px\n",
    "from pandas_profiling import ProfileReport"
   ]
  },
  {
   "cell_type": "code",
   "execution_count": 2,
   "metadata": {},
   "outputs": [
    {
     "ename": "FileNotFoundError",
     "evalue": "[Errno 2] No such file or directory: 'incidentes-viales-c5.csv'",
     "output_type": "error",
     "traceback": [
      "\u001b[1;31m---------------------------------------------------------------------------\u001b[0m",
      "\u001b[1;31mFileNotFoundError\u001b[0m                         Traceback (most recent call last)",
      "\u001b[1;32m<ipython-input-2-b85388cdcc1b>\u001b[0m in \u001b[0;36m<module>\u001b[1;34m\u001b[0m\n\u001b[1;32m----> 1\u001b[1;33m \u001b[0mc5\u001b[0m \u001b[1;33m=\u001b[0m \u001b[0mpd\u001b[0m\u001b[1;33m.\u001b[0m\u001b[0mread_csv\u001b[0m\u001b[1;33m(\u001b[0m\u001b[1;34m'incidentes-viales-c5.csv'\u001b[0m\u001b[1;33m)\u001b[0m\u001b[1;33m\u001b[0m\u001b[1;33m\u001b[0m\u001b[0m\n\u001b[0m",
      "\u001b[1;32m~\\Miniconda3\\lib\\site-packages\\pandas\\io\\parsers.py\u001b[0m in \u001b[0;36mread_csv\u001b[1;34m(filepath_or_buffer, sep, delimiter, header, names, index_col, usecols, squeeze, prefix, mangle_dupe_cols, dtype, engine, converters, true_values, false_values, skipinitialspace, skiprows, skipfooter, nrows, na_values, keep_default_na, na_filter, verbose, skip_blank_lines, parse_dates, infer_datetime_format, keep_date_col, date_parser, dayfirst, cache_dates, iterator, chunksize, compression, thousands, decimal, lineterminator, quotechar, quoting, doublequote, escapechar, comment, encoding, dialect, error_bad_lines, warn_bad_lines, delim_whitespace, low_memory, memory_map, float_precision)\u001b[0m\n\u001b[0;32m    684\u001b[0m     )\n\u001b[0;32m    685\u001b[0m \u001b[1;33m\u001b[0m\u001b[0m\n\u001b[1;32m--> 686\u001b[1;33m     \u001b[1;32mreturn\u001b[0m \u001b[0m_read\u001b[0m\u001b[1;33m(\u001b[0m\u001b[0mfilepath_or_buffer\u001b[0m\u001b[1;33m,\u001b[0m \u001b[0mkwds\u001b[0m\u001b[1;33m)\u001b[0m\u001b[1;33m\u001b[0m\u001b[1;33m\u001b[0m\u001b[0m\n\u001b[0m\u001b[0;32m    687\u001b[0m \u001b[1;33m\u001b[0m\u001b[0m\n\u001b[0;32m    688\u001b[0m \u001b[1;33m\u001b[0m\u001b[0m\n",
      "\u001b[1;32m~\\Miniconda3\\lib\\site-packages\\pandas\\io\\parsers.py\u001b[0m in \u001b[0;36m_read\u001b[1;34m(filepath_or_buffer, kwds)\u001b[0m\n\u001b[0;32m    450\u001b[0m \u001b[1;33m\u001b[0m\u001b[0m\n\u001b[0;32m    451\u001b[0m     \u001b[1;31m# Create the parser.\u001b[0m\u001b[1;33m\u001b[0m\u001b[1;33m\u001b[0m\u001b[1;33m\u001b[0m\u001b[0m\n\u001b[1;32m--> 452\u001b[1;33m     \u001b[0mparser\u001b[0m \u001b[1;33m=\u001b[0m \u001b[0mTextFileReader\u001b[0m\u001b[1;33m(\u001b[0m\u001b[0mfp_or_buf\u001b[0m\u001b[1;33m,\u001b[0m \u001b[1;33m**\u001b[0m\u001b[0mkwds\u001b[0m\u001b[1;33m)\u001b[0m\u001b[1;33m\u001b[0m\u001b[1;33m\u001b[0m\u001b[0m\n\u001b[0m\u001b[0;32m    453\u001b[0m \u001b[1;33m\u001b[0m\u001b[0m\n\u001b[0;32m    454\u001b[0m     \u001b[1;32mif\u001b[0m \u001b[0mchunksize\u001b[0m \u001b[1;32mor\u001b[0m \u001b[0miterator\u001b[0m\u001b[1;33m:\u001b[0m\u001b[1;33m\u001b[0m\u001b[1;33m\u001b[0m\u001b[0m\n",
      "\u001b[1;32m~\\Miniconda3\\lib\\site-packages\\pandas\\io\\parsers.py\u001b[0m in \u001b[0;36m__init__\u001b[1;34m(self, f, engine, **kwds)\u001b[0m\n\u001b[0;32m    934\u001b[0m             \u001b[0mself\u001b[0m\u001b[1;33m.\u001b[0m\u001b[0moptions\u001b[0m\u001b[1;33m[\u001b[0m\u001b[1;34m\"has_index_names\"\u001b[0m\u001b[1;33m]\u001b[0m \u001b[1;33m=\u001b[0m \u001b[0mkwds\u001b[0m\u001b[1;33m[\u001b[0m\u001b[1;34m\"has_index_names\"\u001b[0m\u001b[1;33m]\u001b[0m\u001b[1;33m\u001b[0m\u001b[1;33m\u001b[0m\u001b[0m\n\u001b[0;32m    935\u001b[0m \u001b[1;33m\u001b[0m\u001b[0m\n\u001b[1;32m--> 936\u001b[1;33m         \u001b[0mself\u001b[0m\u001b[1;33m.\u001b[0m\u001b[0m_make_engine\u001b[0m\u001b[1;33m(\u001b[0m\u001b[0mself\u001b[0m\u001b[1;33m.\u001b[0m\u001b[0mengine\u001b[0m\u001b[1;33m)\u001b[0m\u001b[1;33m\u001b[0m\u001b[1;33m\u001b[0m\u001b[0m\n\u001b[0m\u001b[0;32m    937\u001b[0m \u001b[1;33m\u001b[0m\u001b[0m\n\u001b[0;32m    938\u001b[0m     \u001b[1;32mdef\u001b[0m \u001b[0mclose\u001b[0m\u001b[1;33m(\u001b[0m\u001b[0mself\u001b[0m\u001b[1;33m)\u001b[0m\u001b[1;33m:\u001b[0m\u001b[1;33m\u001b[0m\u001b[1;33m\u001b[0m\u001b[0m\n",
      "\u001b[1;32m~\\Miniconda3\\lib\\site-packages\\pandas\\io\\parsers.py\u001b[0m in \u001b[0;36m_make_engine\u001b[1;34m(self, engine)\u001b[0m\n\u001b[0;32m   1166\u001b[0m     \u001b[1;32mdef\u001b[0m \u001b[0m_make_engine\u001b[0m\u001b[1;33m(\u001b[0m\u001b[0mself\u001b[0m\u001b[1;33m,\u001b[0m \u001b[0mengine\u001b[0m\u001b[1;33m=\u001b[0m\u001b[1;34m\"c\"\u001b[0m\u001b[1;33m)\u001b[0m\u001b[1;33m:\u001b[0m\u001b[1;33m\u001b[0m\u001b[1;33m\u001b[0m\u001b[0m\n\u001b[0;32m   1167\u001b[0m         \u001b[1;32mif\u001b[0m \u001b[0mengine\u001b[0m \u001b[1;33m==\u001b[0m \u001b[1;34m\"c\"\u001b[0m\u001b[1;33m:\u001b[0m\u001b[1;33m\u001b[0m\u001b[1;33m\u001b[0m\u001b[0m\n\u001b[1;32m-> 1168\u001b[1;33m             \u001b[0mself\u001b[0m\u001b[1;33m.\u001b[0m\u001b[0m_engine\u001b[0m \u001b[1;33m=\u001b[0m \u001b[0mCParserWrapper\u001b[0m\u001b[1;33m(\u001b[0m\u001b[0mself\u001b[0m\u001b[1;33m.\u001b[0m\u001b[0mf\u001b[0m\u001b[1;33m,\u001b[0m \u001b[1;33m**\u001b[0m\u001b[0mself\u001b[0m\u001b[1;33m.\u001b[0m\u001b[0moptions\u001b[0m\u001b[1;33m)\u001b[0m\u001b[1;33m\u001b[0m\u001b[1;33m\u001b[0m\u001b[0m\n\u001b[0m\u001b[0;32m   1169\u001b[0m         \u001b[1;32melse\u001b[0m\u001b[1;33m:\u001b[0m\u001b[1;33m\u001b[0m\u001b[1;33m\u001b[0m\u001b[0m\n\u001b[0;32m   1170\u001b[0m             \u001b[1;32mif\u001b[0m \u001b[0mengine\u001b[0m \u001b[1;33m==\u001b[0m \u001b[1;34m\"python\"\u001b[0m\u001b[1;33m:\u001b[0m\u001b[1;33m\u001b[0m\u001b[1;33m\u001b[0m\u001b[0m\n",
      "\u001b[1;32m~\\Miniconda3\\lib\\site-packages\\pandas\\io\\parsers.py\u001b[0m in \u001b[0;36m__init__\u001b[1;34m(self, src, **kwds)\u001b[0m\n\u001b[0;32m   1996\u001b[0m         \u001b[0mkwds\u001b[0m\u001b[1;33m[\u001b[0m\u001b[1;34m\"usecols\"\u001b[0m\u001b[1;33m]\u001b[0m \u001b[1;33m=\u001b[0m \u001b[0mself\u001b[0m\u001b[1;33m.\u001b[0m\u001b[0musecols\u001b[0m\u001b[1;33m\u001b[0m\u001b[1;33m\u001b[0m\u001b[0m\n\u001b[0;32m   1997\u001b[0m \u001b[1;33m\u001b[0m\u001b[0m\n\u001b[1;32m-> 1998\u001b[1;33m         \u001b[0mself\u001b[0m\u001b[1;33m.\u001b[0m\u001b[0m_reader\u001b[0m \u001b[1;33m=\u001b[0m \u001b[0mparsers\u001b[0m\u001b[1;33m.\u001b[0m\u001b[0mTextReader\u001b[0m\u001b[1;33m(\u001b[0m\u001b[0msrc\u001b[0m\u001b[1;33m,\u001b[0m \u001b[1;33m**\u001b[0m\u001b[0mkwds\u001b[0m\u001b[1;33m)\u001b[0m\u001b[1;33m\u001b[0m\u001b[1;33m\u001b[0m\u001b[0m\n\u001b[0m\u001b[0;32m   1999\u001b[0m         \u001b[0mself\u001b[0m\u001b[1;33m.\u001b[0m\u001b[0munnamed_cols\u001b[0m \u001b[1;33m=\u001b[0m \u001b[0mself\u001b[0m\u001b[1;33m.\u001b[0m\u001b[0m_reader\u001b[0m\u001b[1;33m.\u001b[0m\u001b[0munnamed_cols\u001b[0m\u001b[1;33m\u001b[0m\u001b[1;33m\u001b[0m\u001b[0m\n\u001b[0;32m   2000\u001b[0m \u001b[1;33m\u001b[0m\u001b[0m\n",
      "\u001b[1;32mpandas\\_libs\\parsers.pyx\u001b[0m in \u001b[0;36mpandas._libs.parsers.TextReader.__cinit__\u001b[1;34m()\u001b[0m\n",
      "\u001b[1;32mpandas\\_libs\\parsers.pyx\u001b[0m in \u001b[0;36mpandas._libs.parsers.TextReader._setup_parser_source\u001b[1;34m()\u001b[0m\n",
      "\u001b[1;31mFileNotFoundError\u001b[0m: [Errno 2] No such file or directory: 'incidentes-viales-c5.csv'"
     ]
    }
   ],
   "source": [
    "c5 = pd.read_csv('incidentes-viales-c5.csv')"
   ]
  },
  {
   "cell_type": "code",
   "execution_count": null,
   "metadata": {},
   "outputs": [],
   "source": [
    "c5.head()"
   ]
  },
  {
   "cell_type": "code",
   "execution_count": null,
   "metadata": {},
   "outputs": [],
   "source": [
    "len(c5.columns)"
   ]
  },
  {
   "cell_type": "code",
   "execution_count": null,
   "metadata": {},
   "outputs": [],
   "source": [
    "len(c5)"
   ]
  },
  {
   "cell_type": "code",
   "execution_count": null,
   "metadata": {},
   "outputs": [],
   "source": [
    "c5.nunique()"
   ]
  },
  {
   "cell_type": "code",
   "execution_count": null,
   "metadata": {},
   "outputs": [],
   "source": [
    "c5.dtypes"
   ]
  },
  {
   "cell_type": "code",
   "execution_count": null,
   "metadata": {},
   "outputs": [],
   "source": [
    "#hay que hacer varios cambios en el tipo"
   ]
  },
  {
   "cell_type": "code",
   "execution_count": null,
   "metadata": {},
   "outputs": [],
   "source": [
    "#variables numéricas\n",
    "numerics = ['int16', 'int32', 'int64', 'float16', 'float32', 'float64']\n",
    "nc5 = c5.select_dtypes(include=numerics)\n",
    "print('Son ' + str(nc5.shape[1]) + ' variables numericas')"
   ]
  },
  {
   "cell_type": "code",
   "execution_count": null,
   "metadata": {},
   "outputs": [],
   "source": []
  },
  {
   "cell_type": "code",
   "execution_count": null,
   "metadata": {},
   "outputs": [],
   "source": []
  },
  {
   "cell_type": "code",
   "execution_count": null,
   "metadata": {},
   "outputs": [],
   "source": [
    "profile = ProfileReport(c5, title = \"Profiling\")\n",
    "profile.to_file(\"./data-profiling.html\")\n",
    "profile.to_widgets()"
   ]
  },
  {
   "cell_type": "code",
   "execution_count": null,
   "metadata": {},
   "outputs": [],
   "source": [
    "def data_profiling(dataframe):\n",
    "    \"\"\"\n",
    "    Crea el data profiling de variables numericas y categoricas\n",
    "    \"\"\"\n",
    "    \n",
    "    # Primero asignamos un data frame con los nombres de las columnas que saldran\n",
    "    df_num = pd.DataFrame(columns = ['tipo_de_dato','observaciones','media','cuantil_25',\n",
    "                                   'cuantil_50','cuantil_75','valor_max','valor_min',\n",
    "                                   'observaciones_unicas','top_1','top_2','top_3','numero_de_nan'])\n",
    "    df_cat = pd.DataFrame(columns = ['n_de_categorias','moda','top_1','top_2','top_3','numero_de_nan'])\n",
    "    \n",
    "    \n",
    "    # Hacemos un loop para que itere sobre las columnas del data frame\n",
    "    for columna in dataframe:\n",
    "        \n",
    "        # Condicional para datos numericos\n",
    "        if pd.api.types.is_numeric_dtype(dataframe[columna]):\n",
    "            # Estadisticos\n",
    "            tipo_de_dato = dataframe[columna].dtype \n",
    "            obs = len(dataframe[columna])\n",
    "            std = dataframe[columna].std()\n",
    "            media = dataframe[columna].mean()\n",
    "            cuantil_25 = dataframe[columna].quantile(.25)\n",
    "            cuantil_50 = dataframe[columna].quantile(.5)\n",
    "            cuantil_75 = dataframe[columna].quantile(.75)\n",
    "            maximo = dataframe[columna].max()\n",
    "            minimo = dataframe[columna].min()\n",
    "            obs_unic = dataframe[columna].nunique()\n",
    "            num_de_nan = dataframe[columna].isna().sum()\n",
    "            # Top 3\n",
    "            if dataframe[columna].nunique() >= 3:\n",
    "                top_3= dataframe.groupby([columna])[columna].count().sort_values(ascending = False).head(3)\n",
    "                top_1 = top_3.index[0]\n",
    "                top_2 = top_3.index[1]\n",
    "                top_3 = top_3.index[2]\n",
    "            else:\n",
    "                top_3 = dataframe.groupby([columna])[columna].count().sort_values(ascending = False).head(3)\n",
    "                top_1 = top_3.index[0]\n",
    "                top_2 = top_3.index[0]\n",
    "                top_3 = top_3.index[0]\n",
    "                \n",
    "            # Asignamos los estadisticos a las columnas\n",
    "            datos = {'tipo_de_dato':tipo_de_dato,'observaciones':obs,'media':media,\n",
    "                    'cuantil_25':cuantil_25,'cuantil_50':cuantil_50,'cuantil_75':cuantil_75,\n",
    "                    'valor_max':maximo,'valor_min':minimo,'observaciones_unicas':obs_unic,\n",
    "                    'top_1':top_1,'top_2':top_2,'top_3':top_3,'numero_de_nan':num_de_nan}\n",
    "            \n",
    "            # Los vamos agregando a un nuevo data frame \n",
    "            df1 = pd.DataFrame(datos, index = [columna])\n",
    "            df_num = df_num.append(df1)\n",
    "        \n",
    "        # Condicional para los categoricos    \n",
    "        else:\n",
    "            # Estadisticos\n",
    "            num_cat = dataframe[columna].nunique()\n",
    "            moda = dataframe[columna].mode(dropna=True)[0]\n",
    "            num_de_nan = dataframe[columna].isna().sum()\n",
    "            # Top 3\n",
    "            if dataframe[columna].nunique() >= 3:\n",
    "                top_3= dataframe.groupby([columna])[columna].count().sort_values(ascending = False).head(3)\n",
    "                top_1 = top_3.index[0]\n",
    "                top_2 = top_3.index[1]\n",
    "                top_3 = top_3.index[2]\n",
    "            else:\n",
    "                top_3 = dataframe.groupby([columna])[columna].count().sort_values(ascending = False).head(3)\n",
    "                top_1 = top_3.index[0]\n",
    "                top_2 = top_3.index[0]\n",
    "                top_3 = top_3.index[0]\n",
    "                \n",
    "            # Asignamos estadisticos a columnas\n",
    "            datos = {'n_de_categorias':num_cat,'moda':moda,'top_1':top_1,'top_2':top_2,\n",
    "                     'top_3':top_3,'numero_de_nan':num_de_nan}\n",
    "            \n",
    "            # Los vamos agregando a un nuevo data frame\n",
    "            df1 = pd.DataFrame(datos, index = [columna])\n",
    "            df_cat = df_cat.append(df1)\n",
    "            \n",
    "    # Regresa dos bases una para las variables numericas y otro para variables categoricas\n",
    "    return df_num, df_cat"
   ]
  },
  {
   "cell_type": "code",
   "execution_count": null,
   "metadata": {},
   "outputs": [],
   "source": [
    "numerico, categorico = data_profiling(c5)"
   ]
  },
  {
   "cell_type": "code",
   "execution_count": null,
   "metadata": {},
   "outputs": [],
   "source": [
    "display(numerico)"
   ]
  },
  {
   "cell_type": "code",
   "execution_count": null,
   "metadata": {},
   "outputs": [],
   "source": [
    "# Número de categorías, moda, top 3 y valores faltantes\n",
    "display(categorico)"
   ]
  },
  {
   "cell_type": "code",
   "execution_count": null,
   "metadata": {},
   "outputs": [],
   "source": [
    "# Valor de las categorías\n",
    "c5.año_cierre.unique()"
   ]
  },
  {
   "cell_type": "code",
   "execution_count": null,
   "metadata": {},
   "outputs": [],
   "source": [
    "c5.mes.unique()"
   ]
  },
  {
   "cell_type": "code",
   "execution_count": null,
   "metadata": {},
   "outputs": [],
   "source": [
    "c5.dia_semana.unique()"
   ]
  },
  {
   "cell_type": "code",
   "execution_count": null,
   "metadata": {},
   "outputs": [],
   "source": [
    "c5.codigo_cierre.unique()"
   ]
  },
  {
   "cell_type": "code",
   "execution_count": null,
   "metadata": {},
   "outputs": [],
   "source": [
    "c5.delegacion_inicio.unique()"
   ]
  },
  {
   "cell_type": "code",
   "execution_count": null,
   "metadata": {},
   "outputs": [],
   "source": [
    "c5.incidente_c4.unique()"
   ]
  },
  {
   "cell_type": "code",
   "execution_count": null,
   "metadata": {},
   "outputs": [],
   "source": [
    "c5.clas_con_f_alarma.unique()"
   ]
  },
  {
   "cell_type": "code",
   "execution_count": null,
   "metadata": {},
   "outputs": [],
   "source": [
    "c5.tipo_entrada.unique()"
   ]
  },
  {
   "cell_type": "code",
   "execution_count": null,
   "metadata": {},
   "outputs": [],
   "source": [
    "c5.delegacion_cierre.unique()"
   ]
  },
  {
   "cell_type": "code",
   "execution_count": null,
   "metadata": {},
   "outputs": [],
   "source": [
    "# Número de observaciones por categoría y proporción de observaciones por categoría. \n",
    "\n",
    "def num_prop(df,column_data):\n",
    "    # Número de observaciones por categoría\n",
    "    num=pd.value_counts(df[column_data]) \n",
    "    # Proporción de observaciones por categoría\n",
    "    prop=100 * df[column_data].value_counts() / len(df[column_data])\n",
    "    # Unión de columnas en una y renombramiento\n",
    "    columnas_num_prop = round(pd.concat([num, prop], \n",
    "                                        keys=['num_obs_cat', 'prop_obs_cat'],\n",
    "                                        axis=1),2)\n",
    "    \n",
    "    return columnas_num_prop"
   ]
  },
  {
   "cell_type": "code",
   "execution_count": null,
   "metadata": {},
   "outputs": [],
   "source": [
    "num_prop(c5,'mes')"
   ]
  },
  {
   "cell_type": "code",
   "execution_count": null,
   "metadata": {},
   "outputs": [],
   "source": [
    "num_prop(c5,delegacion_inicio)"
   ]
  },
  {
   "cell_type": "code",
   "execution_count": null,
   "metadata": {},
   "outputs": [],
   "source": [
    "c5.groupby(['delegacion_inicio']).count()"
   ]
  },
  {
   "cell_type": "code",
   "execution_count": null,
   "metadata": {},
   "outputs": [],
   "source": []
  },
  {
   "cell_type": "code",
   "execution_count": null,
   "metadata": {},
   "outputs": [],
   "source": [
    "list(c5.columns)"
   ]
  },
  {
   "cell_type": "code",
   "execution_count": null,
   "metadata": {},
   "outputs": [],
   "source": [
    "geo = c5.geopoint.str.split(\",\", n=1, expand = True)\n",
    "geo"
   ]
  },
  {
   "cell_type": "markdown",
   "metadata": {},
   "source": [
    "# GEDA"
   ]
  },
  {
   "cell_type": "code",
   "execution_count": null,
   "metadata": {},
   "outputs": [],
   "source": [
    "consu_alca_tot = pd.DataFrame(c5,\n",
    "                      columns=['delegacion_inicio',\n",
    "                               'incidente_c4',\n",
    "                               'clas_con_f_alarma',\n",
    "                               'tipo_entrada'])\\\n",
    ".groupby(['delegacion_inicio'], as_index=False).sum()#\\\n",
    "#.sort_values(by=['consumo_prom'], ascending=False)\\\n",
    "#.melt(id_vars='delegacion_inicio')\n",
    "\n"
   ]
  },
  {
   "cell_type": "code",
   "execution_count": null,
   "metadata": {},
   "outputs": [],
   "source": [
    "sns.set(style='whitegrid',rc={'figure.figsize':(8,11)},palette='crest')\n",
    "plt1 = sns.barplot(x=\"value\", y=\"alcaldia\", \n",
    "            data=consu_alca_tot, hue = 'variable')\n",
    "plt1.set(xlabel='Consumo Agua m3')\n",
    "plt.show()"
   ]
  },
  {
   "cell_type": "markdown",
   "metadata": {},
   "source": [
    "# Cambio de variables"
   ]
  },
  {
   "cell_type": "code",
   "execution_count": null,
   "metadata": {},
   "outputs": [],
   "source": [
    "c5.dtypes"
   ]
  },
  {
   "cell_type": "code",
   "execution_count": null,
   "metadata": {},
   "outputs": [],
   "source": [
    "c5['folio'] = c5.folio.astype('str')\n",
    "#c5['fecha_creacion'] = c5.fecha_creacion.astype('date')\n",
    "#c5['hora_creacion'] = c5.hora_creacion.astype('time')\n",
    "c5['dia_semana'] = c5.dia_semana.astype('category')\n",
    "c5['codigo_cierre'] = c5.codigo_cierre.astype('str')\n",
    "#c5['fecha_cierre'] = c5.fecha_cierre.astype('date')\n",
    "#c5['mes_cierre'] = c5.mes_cierre.astype('int')\n",
    "#c5['hora_cierre'] = c5.hora_cierre.astype('time')\n",
    "c5['delegacion_inicio'] = c5.delegacion_inicio.astype('category')\n",
    "c5['incidente_c4'] = c5.incidente_c4.astype('str')\n",
    "c5['clas_con_f_alarma'] = c5.clas_con_f_alarma.astype('str')\n",
    "c5['tipo_entrada'] = c5.tipo_entrada.astype('category')\n",
    "c5['delegacion_cierre'] = c5.delegacion_cierre.astype('category')\n",
    "#eliminar geopoint"
   ]
  },
  {
   "cell_type": "markdown",
   "metadata": {},
   "source": [
    "# Imputación"
   ]
  },
  {
   "cell_type": "markdown",
   "metadata": {},
   "source": [
    "#Variables a imputar\n",
    "\n",
    "latitud\n",
    "\n",
    "longitud\n",
    "\n",
    "delegacion_inicio\n",
    "\n",
    "delegacion_cierre"
   ]
  },
  {
   "cell_type": "code",
   "execution_count": null,
   "metadata": {},
   "outputs": [],
   "source": []
  },
  {
   "cell_type": "code",
   "execution_count": null,
   "metadata": {},
   "outputs": [],
   "source": []
  },
  {
   "cell_type": "markdown",
   "metadata": {},
   "source": [
    "# Graficas Diego"
   ]
  },
  {
   "cell_type": "code",
   "execution_count": null,
   "metadata": {},
   "outputs": [],
   "source": []
  },
  {
   "cell_type": "markdown",
   "metadata": {},
   "source": [
    "Mapas"
   ]
  },
  {
   "cell_type": "code",
   "execution_count": null,
   "metadata": {},
   "outputs": [],
   "source": [
    "data.groupby('delegacion_inicio')['folio'].nunique()\n",
    "data_map=data[data.delegacion_inicio==\"IZTAPALAPA\"]"
   ]
  },
  {
   "cell_type": "code",
   "execution_count": null,
   "metadata": {},
   "outputs": [],
   "source": [
    "fig = px.scatter_mapbox(data_map, lat=\"latitud\", lon=\"longitud\",color=\"codigo_cierre\",color_continuous_scale=px.colors.cyclical.IceFire, size_max=15, zoom=3)\n",
    "fig.update_layout(mapbox_style=\"open-street-map\")\n",
    "fig.show()"
   ]
  },
  {
   "cell_type": "code",
   "execution_count": null,
   "metadata": {},
   "outputs": [],
   "source": [
    "data=data.assign(count=1)"
   ]
  },
  {
   "cell_type": "code",
   "execution_count": null,
   "metadata": {},
   "outputs": [],
   "source": [
    "pivot_1=data[['count','dia_semana','clas_con_f_alarma']].groupby(['clas_con_f_alarma','dia_semana']).sum().reset_index()"
   ]
  },
  {
   "cell_type": "code",
   "execution_count": null,
   "metadata": {},
   "outputs": [],
   "source": [
    "sns.barplot(x=\"count\", y=\"clas_con_f_alarma\", data=pivot_1)"
   ]
  }
 ],
 "metadata": {
  "kernelspec": {
   "display_name": "Python 3",
   "language": "python",
   "name": "python3"
  },
  "language_info": {
   "codemirror_mode": {
    "name": "ipython",
    "version": 3
   },
   "file_extension": ".py",
   "mimetype": "text/x-python",
   "name": "python",
   "nbconvert_exporter": "python",
   "pygments_lexer": "ipython3",
   "version": "3.7.9"
  }
 },
 "nbformat": 4,
 "nbformat_minor": 4
}
