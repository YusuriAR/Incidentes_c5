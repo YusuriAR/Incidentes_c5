{
 "cells": [
  {
   "cell_type": "code",
   "execution_count": 1,
   "metadata": {},
   "outputs": [],
   "source": [
    "import pandas as pd\n",
    "import numpy as np\n",
    "import os\n",
    "from ipynb.fs.full.utils import save_df, load_df"
   ]
  },
  {
   "cell_type": "code",
   "execution_count": 2,
   "metadata": {},
   "outputs": [],
   "source": [
    "def load_ingestion(path):\n",
    "    return load_df(path)"
   ]
  },
  {
   "cell_type": "code",
   "execution_count": 3,
   "metadata": {},
   "outputs": [],
   "source": [
    "def date_transformation(col,df):\n",
    "    df[col]=pd.to_datetime(df[col])\n",
    "    return df\n",
    "    "
   ]
  },
  {
   "cell_type": "code",
   "execution_count": 4,
   "metadata": {},
   "outputs": [],
   "source": [
    "def numeric_transformation(col,df):\n",
    "    df[col]=pd.to_numeric(df[col])\n",
    "    return df"
   ]
  },
  {
   "cell_type": "code",
   "execution_count": 5,
   "metadata": {},
   "outputs": [],
   "source": [
    "def categoric_trasformation(col,df):\n",
    "    df = df.astype({col:'category'}) \n",
    "    return df"
   ]
  },
  {
   "cell_type": "code",
   "execution_count": 6,
   "metadata": {},
   "outputs": [],
   "source": [
    "def time_transformation(col,df):\n",
    "    df[col]=pd.to_datetime(df[col], errors='coerce',format='%H:%M:%S')\n",
    "    return df"
   ]
  },
  {
   "cell_type": "code",
   "execution_count": 7,
   "metadata": {},
   "outputs": [],
   "source": [
    "def data_imputation(col,df):\n",
    "    return df[~df[col].isnull()]\n",
    "    "
   ]
  },
  {
   "cell_type": "code",
   "execution_count": 8,
   "metadata": {},
   "outputs": [],
   "source": [
    "def save_transformation(df):\n",
    "    os.chdir('../')\n",
    "    path = os.getcwd()+'\\outputs\\\\transformation_df.pkl'\n",
    "    save_df(df, path)"
   ]
  },
  {
   "cell_type": "code",
   "execution_count": 9,
   "metadata": {},
   "outputs": [],
   "source": [
    "def transform(path):\n",
    "    df = load_ingestion(path)\n",
    "    df = date_transformation('fecha_creacion',df)\n",
    "    df = time_transformation('hora_creacion',df)\n",
    "    df = categoric_trasformation('dia_semana',df)\n",
    "    df = categoric_trasformation('delegacion_inicio',df)\n",
    "    df = categoric_trasformation('incidente_c4',df)\n",
    "    df = categoric_trasformation('tipo_entrada',df)\n",
    "    df = categoric_trasformation('clas_con_f_alarma',df)\n",
    "    df = categoric_trasformation('mes',df)\n",
    "    df = data_imputation('delegacion_inicio',df)\n",
    "    df = data_imputation('latitud',df)\n",
    "    save_transformation(df)"
   ]
  },
  {
   "cell_type": "code",
   "execution_count": 10,
   "metadata": {},
   "outputs": [],
   "source": [
    "path = 'C:/Users/diego172/Documents/Diego/ITAM/Clases/Mineria/Proyecto_1/Estructura_1_Prueba/outputs/ingest_df.pkl'\n",
    "transform(path)"
   ]
  }
 ],
 "metadata": {
  "kernelspec": {
   "display_name": "Python 3",
   "language": "python",
   "name": "python3"
  },
  "language_info": {
   "codemirror_mode": {
    "name": "ipython",
    "version": 3
   },
   "file_extension": ".py",
   "mimetype": "text/x-python",
   "name": "python",
   "nbconvert_exporter": "python",
   "pygments_lexer": "ipython3",
   "version": "3.7.9"
  }
 },
 "nbformat": 4,
 "nbformat_minor": 4
}
