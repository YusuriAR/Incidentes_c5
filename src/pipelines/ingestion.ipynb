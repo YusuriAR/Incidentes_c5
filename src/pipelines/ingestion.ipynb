{
 "cells": [
  {
   "cell_type": "code",
   "execution_count": 1,
   "metadata": {},
   "outputs": [],
   "source": [
    "import pandas as pd\n",
    "import numpy as np\n",
    "import os\n",
    "from ipynb.fs.full.utils import save_df"
   ]
  },
  {
   "cell_type": "code",
   "execution_count": 2,
   "metadata": {},
   "outputs": [],
   "source": [
    "def ingest_file(path):\n",
    "    df = pd.read_csv(path)\n",
    "    return df"
   ]
  },
  {
   "cell_type": "code",
   "execution_count": 3,
   "metadata": {},
   "outputs": [],
   "source": [
    "def drop_cols(df):\n",
    "    columns = ['geopoint','hora_cierre','fecha_cierre','año_cierre','mes_cierre','folio','delegacion_cierre']\n",
    "    drop_df = df.drop(columns, axis=1)\n",
    "    return drop_df"
   ]
  },
  {
   "cell_type": "code",
   "execution_count": 4,
   "metadata": {},
   "outputs": [],
   "source": [
    "def generate_label(df):\n",
    "    df['label'] = np.where((df['codigo_cierre'].str[:3] == '(F)')|(df['codigo_cierre'].str[:3] == '(N)'), 1, 0)\n",
    "    return df"
   ]
  },
  {
   "cell_type": "code",
   "execution_count": 5,
   "metadata": {},
   "outputs": [],
   "source": [
    "def save_ingestion(df):\n",
    "    os.chdir('../')\n",
    "    path = os.getcwd()+'\\outputs\\ingest_df.pkl'\n",
    "    save_df(df, path)"
   ]
  },
  {
   "cell_type": "code",
   "execution_count": 6,
   "metadata": {},
   "outputs": [],
   "source": [
    "def ingest(path):\n",
    "    df = ingest_file(path)\n",
    "    df = drop_cols(df)\n",
    "    df = generate_label(df)\n",
    "    save_ingestion(df)\n",
    "    \n",
    "    "
   ]
  },
  {
   "cell_type": "code",
   "execution_count": 7,
   "metadata": {},
   "outputs": [],
   "source": [
    "path = 'C:/Users/diego172/Documents/Diego/ITAM/Clases/Mineria/Proyecto_1/Estructura_1_Prueba/data/incidentes-viales-c5.csv'\n",
    "ingest(path)"
   ]
  }
 ],
 "metadata": {
  "kernelspec": {
   "display_name": "Python 3",
   "language": "python",
   "name": "python3"
  },
  "language_info": {
   "codemirror_mode": {
    "name": "ipython",
    "version": 3
   },
   "file_extension": ".py",
   "mimetype": "text/x-python",
   "name": "python",
   "nbconvert_exporter": "python",
   "pygments_lexer": "ipython3",
   "version": "3.7.9"
  }
 },
 "nbformat": 4,
 "nbformat_minor": 4
}
