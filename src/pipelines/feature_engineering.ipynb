{
 "cells": [
  {
   "cell_type": "code",
   "execution_count": 1,
   "metadata": {},
   "outputs": [],
   "source": [
    "import pandas as pd\n",
    "import numpy as np\n",
    "import os\n",
    "from ipynb.fs.full.utils import save_df, load_df\n",
    "from sklearn.impute import SimpleImputer\n",
    "from sklearn.preprocessing import OneHotEncoder\n",
    "from sklearn.compose import ColumnTransformer\n",
    "from sklearn.feature_selection import VarianceThreshold\n",
    "from numpy import savetxt"
   ]
  },
  {
   "cell_type": "code",
   "execution_count": 2,
   "metadata": {},
   "outputs": [],
   "source": [
    "def load_transformation(path):\n",
    "    return load_df(path)"
   ]
  },
  {
   "cell_type": "code",
   "execution_count": 4,
   "metadata": {},
   "outputs": [],
   "source": [
    "path = 'C:/Users/diego172/Documents/Diego/ITAM/Clases/Mineria/Proyecto_1/Estructura_1_Prueba/outputs/transformation_df.pkl'"
   ]
  },
  {
   "cell_type": "code",
   "execution_count": 5,
   "metadata": {},
   "outputs": [],
   "source": [
    "df = load_transformation(path)"
   ]
  },
  {
   "cell_type": "code",
   "execution_count": 7,
   "metadata": {},
   "outputs": [],
   "source": [
    "c5_inputs = df.drop(['latitud', 'longitud', 'codigo_cierre','fecha_creacion','incidente_c4'], axis=1)"
   ]
  },
  {
   "cell_type": "code",
   "execution_count": 9,
   "metadata": {},
   "outputs": [],
   "source": [
    "# sen cos transformation\n",
    "seconds_in_day = 24*60*60\n",
    "\n",
    "c5_inputs['sin_time'] = np.sin(2*np.pi*(c5_inputs.hora_creacion.dt.hour*60*60+c5_inputs.hora_creacion.dt.minute*60+c5_inputs.hora_creacion.dt.second)/seconds_in_day)\n",
    "c5_inputs['cos_time'] = np.cos(2*np.pi*(c5_inputs.hora_creacion.dt.hour*60*60+c5_inputs.hora_creacion.dt.minute*60+c5_inputs.hora_creacion.dt.second)/seconds_in_day)\n"
   ]
  },
  {
   "cell_type": "code",
   "execution_count": 10,
   "metadata": {},
   "outputs": [],
   "source": [
    "c5_inputs = c5_inputs.drop(['hora_creacion',], axis=1)"
   ]
  },
  {
   "cell_type": "code",
   "execution_count": 11,
   "metadata": {},
   "outputs": [
    {
     "data": {
      "text/html": [
       "<div>\n",
       "<style scoped>\n",
       "    .dataframe tbody tr th:only-of-type {\n",
       "        vertical-align: middle;\n",
       "    }\n",
       "\n",
       "    .dataframe tbody tr th {\n",
       "        vertical-align: top;\n",
       "    }\n",
       "\n",
       "    .dataframe thead th {\n",
       "        text-align: right;\n",
       "    }\n",
       "</style>\n",
       "<table border=\"1\" class=\"dataframe\">\n",
       "  <thead>\n",
       "    <tr style=\"text-align: right;\">\n",
       "      <th></th>\n",
       "      <th>dia_semana</th>\n",
       "      <th>delegacion_inicio</th>\n",
       "      <th>clas_con_f_alarma</th>\n",
       "      <th>tipo_entrada</th>\n",
       "      <th>mes</th>\n",
       "      <th>label</th>\n",
       "      <th>sin_time</th>\n",
       "      <th>cos_time</th>\n",
       "    </tr>\n",
       "  </thead>\n",
       "  <tbody>\n",
       "    <tr>\n",
       "      <th>0</th>\n",
       "      <td>Sábado</td>\n",
       "      <td>VENUSTIANO CARRANZA</td>\n",
       "      <td>EMERGENCIA</td>\n",
       "      <td>BOTÓN DE AUXILIO</td>\n",
       "      <td>1</td>\n",
       "      <td>0</td>\n",
       "      <td>-0.362167</td>\n",
       "      <td>0.932113</td>\n",
       "    </tr>\n",
       "    <tr>\n",
       "      <th>1</th>\n",
       "      <td>Sábado</td>\n",
       "      <td>CUAJIMALPA</td>\n",
       "      <td>URGENCIAS MEDICAS</td>\n",
       "      <td>BOTÓN DE AUXILIO</td>\n",
       "      <td>1</td>\n",
       "      <td>0</td>\n",
       "      <td>-0.297305</td>\n",
       "      <td>0.954782</td>\n",
       "    </tr>\n",
       "    <tr>\n",
       "      <th>2</th>\n",
       "      <td>Domingo</td>\n",
       "      <td>TLALPAN</td>\n",
       "      <td>EMERGENCIA</td>\n",
       "      <td>LLAMADA DEL 066</td>\n",
       "      <td>1</td>\n",
       "      <td>1</td>\n",
       "      <td>0.572921</td>\n",
       "      <td>-0.819611</td>\n",
       "    </tr>\n",
       "    <tr>\n",
       "      <th>3</th>\n",
       "      <td>Domingo</td>\n",
       "      <td>MAGDALENA CONTRERAS</td>\n",
       "      <td>EMERGENCIA</td>\n",
       "      <td>LLAMADA DEL 066</td>\n",
       "      <td>1</td>\n",
       "      <td>1</td>\n",
       "      <td>-0.338122</td>\n",
       "      <td>0.941102</td>\n",
       "    </tr>\n",
       "    <tr>\n",
       "      <th>4</th>\n",
       "      <td>Domingo</td>\n",
       "      <td>MIGUEL HIDALGO</td>\n",
       "      <td>EMERGENCIA</td>\n",
       "      <td>LLAMADA DEL 066</td>\n",
       "      <td>1</td>\n",
       "      <td>0</td>\n",
       "      <td>0.915750</td>\n",
       "      <td>0.401748</td>\n",
       "    </tr>\n",
       "    <tr>\n",
       "      <th>...</th>\n",
       "      <td>...</td>\n",
       "      <td>...</td>\n",
       "      <td>...</td>\n",
       "      <td>...</td>\n",
       "      <td>...</td>\n",
       "      <td>...</td>\n",
       "      <td>...</td>\n",
       "      <td>...</td>\n",
       "    </tr>\n",
       "    <tr>\n",
       "      <th>1383133</th>\n",
       "      <td>Jueves</td>\n",
       "      <td>GUSTAVO A. MADERO</td>\n",
       "      <td>URGENCIAS MEDICAS</td>\n",
       "      <td>BOTÓN DE AUXILIO</td>\n",
       "      <td>10</td>\n",
       "      <td>0</td>\n",
       "      <td>-0.900856</td>\n",
       "      <td>-0.434118</td>\n",
       "    </tr>\n",
       "    <tr>\n",
       "      <th>1383134</th>\n",
       "      <td>Jueves</td>\n",
       "      <td>VENUSTIANO CARRANZA</td>\n",
       "      <td>URGENCIAS MEDICAS</td>\n",
       "      <td>BOTÓN DE AUXILIO</td>\n",
       "      <td>10</td>\n",
       "      <td>0</td>\n",
       "      <td>-0.922566</td>\n",
       "      <td>-0.385839</td>\n",
       "    </tr>\n",
       "    <tr>\n",
       "      <th>1383135</th>\n",
       "      <td>Jueves</td>\n",
       "      <td>AZCAPOTZALCO</td>\n",
       "      <td>EMERGENCIA</td>\n",
       "      <td>LLAMADA DEL 911</td>\n",
       "      <td>10</td>\n",
       "      <td>0</td>\n",
       "      <td>-0.001891</td>\n",
       "      <td>-0.999998</td>\n",
       "    </tr>\n",
       "    <tr>\n",
       "      <th>1383136</th>\n",
       "      <td>Jueves</td>\n",
       "      <td>VENUSTIANO CARRANZA</td>\n",
       "      <td>URGENCIAS MEDICAS</td>\n",
       "      <td>LLAMADA DEL 911</td>\n",
       "      <td>10</td>\n",
       "      <td>0</td>\n",
       "      <td>-0.006181</td>\n",
       "      <td>-0.999981</td>\n",
       "    </tr>\n",
       "    <tr>\n",
       "      <th>1383137</th>\n",
       "      <td>Jueves</td>\n",
       "      <td>IZTAPALAPA</td>\n",
       "      <td>EMERGENCIA</td>\n",
       "      <td>LLAMADA DEL 911</td>\n",
       "      <td>10</td>\n",
       "      <td>0</td>\n",
       "      <td>-0.878366</td>\n",
       "      <td>-0.477989</td>\n",
       "    </tr>\n",
       "  </tbody>\n",
       "</table>\n",
       "<p>1382537 rows × 8 columns</p>\n",
       "</div>"
      ],
      "text/plain": [
       "        dia_semana    delegacion_inicio  clas_con_f_alarma      tipo_entrada  \\\n",
       "0           Sábado  VENUSTIANO CARRANZA         EMERGENCIA  BOTÓN DE AUXILIO   \n",
       "1           Sábado           CUAJIMALPA  URGENCIAS MEDICAS  BOTÓN DE AUXILIO   \n",
       "2          Domingo              TLALPAN         EMERGENCIA   LLAMADA DEL 066   \n",
       "3          Domingo  MAGDALENA CONTRERAS         EMERGENCIA   LLAMADA DEL 066   \n",
       "4          Domingo       MIGUEL HIDALGO         EMERGENCIA   LLAMADA DEL 066   \n",
       "...            ...                  ...                ...               ...   \n",
       "1383133     Jueves    GUSTAVO A. MADERO  URGENCIAS MEDICAS  BOTÓN DE AUXILIO   \n",
       "1383134     Jueves  VENUSTIANO CARRANZA  URGENCIAS MEDICAS  BOTÓN DE AUXILIO   \n",
       "1383135     Jueves         AZCAPOTZALCO         EMERGENCIA   LLAMADA DEL 911   \n",
       "1383136     Jueves  VENUSTIANO CARRANZA  URGENCIAS MEDICAS   LLAMADA DEL 911   \n",
       "1383137     Jueves           IZTAPALAPA         EMERGENCIA   LLAMADA DEL 911   \n",
       "\n",
       "        mes  label  sin_time  cos_time  \n",
       "0         1      0 -0.362167  0.932113  \n",
       "1         1      0 -0.297305  0.954782  \n",
       "2         1      1  0.572921 -0.819611  \n",
       "3         1      1 -0.338122  0.941102  \n",
       "4         1      0  0.915750  0.401748  \n",
       "...      ..    ...       ...       ...  \n",
       "1383133  10      0 -0.900856 -0.434118  \n",
       "1383134  10      0 -0.922566 -0.385839  \n",
       "1383135  10      0 -0.001891 -0.999998  \n",
       "1383136  10      0 -0.006181 -0.999981  \n",
       "1383137  10      0 -0.878366 -0.477989  \n",
       "\n",
       "[1382537 rows x 8 columns]"
      ]
     },
     "execution_count": 11,
     "metadata": {},
     "output_type": "execute_result"
    }
   ],
   "source": [
    "c5_inputs"
   ]
  },
  {
   "cell_type": "code",
   "execution_count": 12,
   "metadata": {},
   "outputs": [],
   "source": [
    "transformers = [('one_hot', OneHotEncoder(), ['dia_semana', 'delegacion_inicio','clas_con_f_alarma','tipo_entrada','mes']),\n",
    "               ('impute_sin_time', SimpleImputer(strategy=\"median\"), ['sin_time']),\n",
    "               ('impute_cos_time', SimpleImputer(strategy=\"median\"), ['cos_time'])]"
   ]
  },
  {
   "cell_type": "code",
   "execution_count": 13,
   "metadata": {},
   "outputs": [],
   "source": [
    "col_trans = ColumnTransformer(transformers, remainder=\"drop\", n_jobs=-1, verbose=True)"
   ]
  },
  {
   "cell_type": "code",
   "execution_count": 14,
   "metadata": {
    "scrolled": true
   },
   "outputs": [
    {
     "data": {
      "text/plain": [
       "ColumnTransformer(n_jobs=-1,\n",
       "                  transformers=[('one_hot', OneHotEncoder(),\n",
       "                                 ['dia_semana', 'delegacion_inicio',\n",
       "                                  'clas_con_f_alarma', 'tipo_entrada', 'mes']),\n",
       "                                ('impute_sin_time',\n",
       "                                 SimpleImputer(strategy='median'),\n",
       "                                 ['sin_time']),\n",
       "                                ('impute_cos_time',\n",
       "                                 SimpleImputer(strategy='median'),\n",
       "                                 ['cos_time'])],\n",
       "                  verbose=True)"
      ]
     },
     "execution_count": 14,
     "metadata": {},
     "output_type": "execute_result"
    }
   ],
   "source": [
    "col_trans.fit(c5_inputs)"
   ]
  },
  {
   "cell_type": "code",
   "execution_count": 15,
   "metadata": {},
   "outputs": [],
   "source": [
    "c5_input_vars = col_trans.transform(c5_inputs)"
   ]
  },
  {
   "cell_type": "code",
   "execution_count": 16,
   "metadata": {},
   "outputs": [],
   "source": [
    "variance_threshold = VarianceThreshold(threshold=0.1)\n",
    "c5_input_variance=variance_threshold.fit_transform(c5_input_vars)\n",
    "#variance_threshold.transform(c5_input_vars)\n",
    "#variance_threshold.variances_"
   ]
  },
  {
   "cell_type": "code",
   "execution_count": 19,
   "metadata": {},
   "outputs": [
    {
     "data": {
      "text/plain": [
       "<1382537x14 sparse matrix of type '<class 'numpy.float64'>'\n",
       "\twith 6944642 stored elements in Compressed Sparse Row format>"
      ]
     },
     "execution_count": 19,
     "metadata": {},
     "output_type": "execute_result"
    }
   ],
   "source": [
    "c5_input_variance"
   ]
  },
  {
   "cell_type": "code",
   "execution_count": 20,
   "metadata": {},
   "outputs": [],
   "source": [
    "X = c5_input_variance\n",
    "y = df.label.values.reshape(c5_input_variance.shape[0],)\n"
   ]
  },
  {
   "cell_type": "code",
   "execution_count": 30,
   "metadata": {},
   "outputs": [
    {
     "name": "stdout",
     "output_type": "stream",
     "text": [
      "Tiempo en ejecutar:  575.5030028820038\n"
     ]
    }
   ],
   "source": [
    "import time \n",
    "\n",
    "from sklearn.model_selection import GridSearchCV\n",
    "from sklearn.model_selection import train_test_split\n",
    "from sklearn.ensemble import RandomForestClassifier\n",
    "\n",
    "# ocuparemos un RF\n",
    "classifier = RandomForestClassifier(oob_score=True, random_state=1234)\n",
    "# separando en train, test\n",
    "X_train, X_test, y_train, y_test = train_test_split(X, y)\n",
    "\n",
    "# definicion de los hiperparametros que queremos probar\n",
    "hyper_param_grid = {'n_estimators': [50,100], \n",
    "                    'max_depth': [1, 5],\n",
    "                    'min_samples_split': [2, 5]}\n",
    "\n",
    "# ocupemos grid search!\n",
    "gs = GridSearchCV(classifier, \n",
    "                           hyper_param_grid, \n",
    "                           scoring = 'precision',\n",
    "                           cv = 5, \n",
    "                           n_jobs = -1)\n",
    "start_time = time.time()\n",
    "gs.fit(X, y)\n",
    "print(\"Tiempo en ejecutar: \", time.time() - start_time)"
   ]
  },
  {
   "cell_type": "code",
   "execution_count": 29,
   "metadata": {},
   "outputs": [
    {
     "data": {
      "text/plain": [
       "{'mean_fit_time': array([106.57745485, 106.39317584, 222.3269485 , 208.70399804]),\n",
       " 'std_fit_time': array([ 1.05778603,  0.95160789, 15.58546814,  0.94943242]),\n",
       " 'mean_score_time': array([4.23092461, 4.2154386 , 3.79888592, 3.38418288]),\n",
       " 'std_score_time': array([0.12164144, 0.16556672, 0.28646182, 0.5854106 ]),\n",
       " 'param_max_depth': masked_array(data=[1, 1, 5, 5],\n",
       "              mask=[False, False, False, False],\n",
       "        fill_value='?',\n",
       "             dtype=object),\n",
       " 'param_min_samples_split': masked_array(data=[2, 5, 2, 5],\n",
       "              mask=[False, False, False, False],\n",
       "        fill_value='?',\n",
       "             dtype=object),\n",
       " 'param_n_estimators': masked_array(data=[100, 100, 100, 100],\n",
       "              mask=[False, False, False, False],\n",
       "        fill_value='?',\n",
       "             dtype=object),\n",
       " 'params': [{'max_depth': 1, 'min_samples_split': 2, 'n_estimators': 100},\n",
       "  {'max_depth': 1, 'min_samples_split': 5, 'n_estimators': 100},\n",
       "  {'max_depth': 5, 'min_samples_split': 2, 'n_estimators': 100},\n",
       "  {'max_depth': 5, 'min_samples_split': 5, 'n_estimators': 100}],\n",
       " 'split0_test_score': array([0.        , 0.        , 0.96479852, 0.96479852]),\n",
       " 'split1_test_score': array([0.        , 0.        , 0.92086331, 0.92086331]),\n",
       " 'split2_test_score': array([0.        , 0.        , 0.93645145, 0.9356665 ]),\n",
       " 'split3_test_score': array([0.        , 0.        , 0.94171046, 0.94171046]),\n",
       " 'split4_test_score': array([0.        , 0.        , 0.92927207, 0.92927207]),\n",
       " 'mean_test_score': array([0.        , 0.        , 0.93861916, 0.93846217]),\n",
       " 'std_test_score': array([0.        , 0.        , 0.01484757, 0.01487379]),\n",
       " 'rank_test_score': array([3, 3, 1, 2])}"
      ]
     },
     "execution_count": 29,
     "metadata": {},
     "output_type": "execute_result"
    }
   ],
   "source": [
    "gs.cv_results_"
   ]
  },
  {
   "cell_type": "code",
   "execution_count": 31,
   "metadata": {},
   "outputs": [
    {
     "data": {
      "text/plain": [
       "{'max_depth': 5, 'min_samples_split': 2, 'n_estimators': 100}"
      ]
     },
     "execution_count": 31,
     "metadata": {},
     "output_type": "execute_result"
    }
   ],
   "source": [
    "gs.best_params_"
   ]
  },
  {
   "cell_type": "code",
   "execution_count": 32,
   "metadata": {},
   "outputs": [
    {
     "data": {
      "text/plain": [
       "0.9386191619506148"
      ]
     },
     "execution_count": 32,
     "metadata": {},
     "output_type": "execute_result"
    }
   ],
   "source": [
    "gs.best_score_"
   ]
  },
  {
   "cell_type": "code",
   "execution_count": 33,
   "metadata": {},
   "outputs": [
    {
     "data": {
      "text/plain": [
       "RandomForestClassifier(max_depth=5, oob_score=True, random_state=1234)"
      ]
     },
     "execution_count": 33,
     "metadata": {},
     "output_type": "execute_result"
    }
   ],
   "source": [
    "gs.best_estimator_"
   ]
  },
  {
   "cell_type": "code",
   "execution_count": 34,
   "metadata": {},
   "outputs": [
    {
     "data": {
      "text/plain": [
       "0.8015510615629093"
      ]
     },
     "execution_count": 34,
     "metadata": {},
     "output_type": "execute_result"
    }
   ],
   "source": [
    "gs.best_estimator_.oob_score_"
   ]
  }
 ],
 "metadata": {
  "kernelspec": {
   "display_name": "Python 3",
   "language": "python",
   "name": "python3"
  },
  "language_info": {
   "codemirror_mode": {
    "name": "ipython",
    "version": 3
   },
   "file_extension": ".py",
   "mimetype": "text/x-python",
   "name": "python",
   "nbconvert_exporter": "python",
   "pygments_lexer": "ipython3",
   "version": "3.7.9"
  }
 },
 "nbformat": 4,
 "nbformat_minor": 4
}
