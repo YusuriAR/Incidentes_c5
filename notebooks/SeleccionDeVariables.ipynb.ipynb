{
 "cells": [
  {
   "cell_type": "code",
   "execution_count": 27,
   "metadata": {},
   "outputs": [],
   "source": [
    "import sys\n",
    "sys.path.append('./../')\n",
    "import src\n",
    "from src import proyecto_1\n",
    "from src.utils import utils\n",
    "import pandas as pd\n",
    "import numpy as np\n",
    "import os\n",
    "from sklearn.impute import SimpleImputer\n",
    "from sklearn.preprocessing import OneHotEncoder\n",
    "from sklearn.compose import ColumnTransformer\n",
    "from sklearn.feature_selection import VarianceThreshold\n",
    "from numpy import savetxt\n",
    "from matplotlib import pyplot"
   ]
  },
  {
   "cell_type": "code",
   "execution_count": 2,
   "metadata": {},
   "outputs": [
    {
     "name": "stderr",
     "output_type": "stream",
     "text": [
      "./../src/pipelines/feature_engineering.py:9: UserWarning: Pandas doesn't allow columns to be created via a new attribute name - see https://pandas.pydata.org/pandas-docs/stable/indexing.html#attribute-access\n",
      "  df.inputs = df.drop(['latitud', 'longitud', 'codigo_cierre','fecha_creacion','incidente_c4'], axis=1)\n"
     ]
    }
   ],
   "source": [
    "proyecto_1.main()"
   ]
  },
  {
   "cell_type": "code",
   "execution_count": 3,
   "metadata": {},
   "outputs": [],
   "source": [
    "c5_inputs = utils.load_df('output/fe_df.pkl')"
   ]
  },
  {
   "cell_type": "code",
   "execution_count": 5,
   "metadata": {},
   "outputs": [],
   "source": [
    "transformers = [('one_hot', OneHotEncoder(), ['dia_semana', 'delegacion_inicio','clas_con_f_alarma','tipo_entrada','mes']),\n",
    "               ('impute_sin_time', SimpleImputer(strategy=\"median\"), ['sin_time']),\n",
    "               ('impute_cos_time', SimpleImputer(strategy=\"median\"), ['cos_time'])]"
   ]
  },
  {
   "cell_type": "code",
   "execution_count": 6,
   "metadata": {},
   "outputs": [],
   "source": [
    "col_trans = ColumnTransformer(transformers, remainder=\"drop\", n_jobs=-1, verbose=True)"
   ]
  },
  {
   "cell_type": "code",
   "execution_count": 7,
   "metadata": {},
   "outputs": [
    {
     "data": {
      "text/plain": [
       "ColumnTransformer(n_jobs=-1,\n",
       "                  transformers=[('one_hot', OneHotEncoder(),\n",
       "                                 ['dia_semana', 'delegacion_inicio',\n",
       "                                  'clas_con_f_alarma', 'tipo_entrada', 'mes']),\n",
       "                                ('impute_sin_time',\n",
       "                                 SimpleImputer(strategy='median'),\n",
       "                                 ['sin_time']),\n",
       "                                ('impute_cos_time',\n",
       "                                 SimpleImputer(strategy='median'),\n",
       "                                 ['cos_time'])],\n",
       "                  verbose=True)"
      ]
     },
     "execution_count": 7,
     "metadata": {},
     "output_type": "execute_result"
    }
   ],
   "source": [
    "col_trans.fit(c5_inputs)"
   ]
  },
  {
   "cell_type": "code",
   "execution_count": 8,
   "metadata": {},
   "outputs": [],
   "source": [
    "c5_input_vars = col_trans.transform(c5_inputs)"
   ]
  },
  {
   "cell_type": "code",
   "execution_count": 9,
   "metadata": {},
   "outputs": [],
   "source": [
    "variance_threshold = VarianceThreshold(threshold=0.1)\n",
    "c5_input_variance=variance_threshold.fit_transform(c5_input_vars)\n",
    "#variance_threshold.transform(c5_input_vars)\n",
    "#variance_threshold.variances_"
   ]
  },
  {
   "cell_type": "code",
   "execution_count": 10,
   "metadata": {},
   "outputs": [
    {
     "data": {
      "text/plain": [
       "<1382537x14 sparse matrix of type '<class 'numpy.float64'>'\n",
       "\twith 6944642 stored elements in Compressed Sparse Row format>"
      ]
     },
     "execution_count": 10,
     "metadata": {},
     "output_type": "execute_result"
    }
   ],
   "source": [
    "c5_input_variance"
   ]
  },
  {
   "cell_type": "code",
   "execution_count": 12,
   "metadata": {},
   "outputs": [],
   "source": [
    "X = c5_input_variance\n",
    "y = c5_inputs.label.values.reshape(c5_input_variance.shape[0],)"
   ]
  },
  {
   "cell_type": "code",
   "execution_count": 14,
   "metadata": {},
   "outputs": [
    {
     "name": "stdout",
     "output_type": "stream",
     "text": [
      "Tiempo en ejecutar:  536.5143129825592\n"
     ]
    }
   ],
   "source": [
    "import time \n",
    "\n",
    "from sklearn.model_selection import GridSearchCV\n",
    "from sklearn.model_selection import train_test_split\n",
    "from sklearn.ensemble import RandomForestClassifier\n",
    "\n",
    "# ocuparemos un RF\n",
    "classifier = RandomForestClassifier(oob_score=True, random_state=1234)\n",
    "# separando en train, test\n",
    "X_train, X_test, y_train, y_test = train_test_split(X, y)\n",
    "\n",
    "# definicion de los hiperparametros que queremos probar\n",
    "hyper_param_grid = {'n_estimators': [50,100], \n",
    "                    'max_depth': [1, 5],\n",
    "                    'min_samples_split': [2, 5]}\n",
    "\n",
    "# ocupemos grid search!\n",
    "gs = GridSearchCV(classifier, \n",
    "                           hyper_param_grid, \n",
    "                           scoring = 'precision',\n",
    "                           cv = 5, \n",
    "                           n_jobs = -1)\n",
    "start_time = time.time()\n",
    "gs.fit(X, y)\n",
    "print(\"Tiempo en ejecutar: \", time.time() - start_time)"
   ]
  },
  {
   "cell_type": "code",
   "execution_count": 15,
   "metadata": {},
   "outputs": [
    {
     "data": {
      "text/plain": [
       "{'mean_fit_time': array([ 32.05831437,  64.29056616,  33.55836029,  60.43592019,\n",
       "         72.71227779, 150.509126  ,  74.91093483, 122.05517597]),\n",
       " 'std_fit_time': array([0.49684557, 1.6977186 , 1.25239606, 2.72424584, 0.42149646,\n",
       "        2.91987734, 2.53673078, 9.06891591]),\n",
       " 'mean_score_time': array([1.64536524, 2.97723784, 1.59835229, 2.63958502, 1.77550859,\n",
       "        3.9027142 , 1.95796552, 2.30104265]),\n",
       " 'std_score_time': array([0.00778774, 0.31944782, 0.13949165, 0.10806091, 0.05174916,\n",
       "        0.42631837, 0.40389342, 0.60570138]),\n",
       " 'param_max_depth': masked_array(data=[1, 1, 1, 1, 5, 5, 5, 5],\n",
       "              mask=[False, False, False, False, False, False, False, False],\n",
       "        fill_value='?',\n",
       "             dtype=object),\n",
       " 'param_min_samples_split': masked_array(data=[2, 2, 5, 5, 2, 2, 5, 5],\n",
       "              mask=[False, False, False, False, False, False, False, False],\n",
       "        fill_value='?',\n",
       "             dtype=object),\n",
       " 'param_n_estimators': masked_array(data=[50, 100, 50, 100, 50, 100, 50, 100],\n",
       "              mask=[False, False, False, False, False, False, False, False],\n",
       "        fill_value='?',\n",
       "             dtype=object),\n",
       " 'params': [{'max_depth': 1, 'min_samples_split': 2, 'n_estimators': 50},\n",
       "  {'max_depth': 1, 'min_samples_split': 2, 'n_estimators': 100},\n",
       "  {'max_depth': 1, 'min_samples_split': 5, 'n_estimators': 50},\n",
       "  {'max_depth': 1, 'min_samples_split': 5, 'n_estimators': 100},\n",
       "  {'max_depth': 5, 'min_samples_split': 2, 'n_estimators': 50},\n",
       "  {'max_depth': 5, 'min_samples_split': 2, 'n_estimators': 100},\n",
       "  {'max_depth': 5, 'min_samples_split': 5, 'n_estimators': 50},\n",
       "  {'max_depth': 5, 'min_samples_split': 5, 'n_estimators': 100}],\n",
       " 'split0_test_score': array([0.        , 0.        , 0.        , 0.        , 0.96384872,\n",
       "        0.96528095, 0.96384872, 0.96528095]),\n",
       " 'split1_test_score': array([0.        , 0.        , 0.        , 0.        , 0.91697192,\n",
       "        0.91995998, 0.91687042, 0.92038057]),\n",
       " 'split2_test_score': array([0.        , 0.        , 0.        , 0.        , 0.93337646,\n",
       "        0.93972473, 0.93289037, 0.93936477]),\n",
       " 'split3_test_score': array([0.        , 0.        , 0.        , 0.        , 0.94162053,\n",
       "        0.9420078 , 0.94162053, 0.9420078 ]),\n",
       " 'split4_test_score': array([0.        , 0.        , 0.        , 0.        , 0.9310741 ,\n",
       "        0.92927207, 0.93111366, 0.92927207]),\n",
       " 'mean_test_score': array([0.        , 0.        , 0.        , 0.        , 0.93737834,\n",
       "        0.9392491 , 0.93726874, 0.93926123]),\n",
       " 'std_test_score': array([0.        , 0.        , 0.        , 0.        , 0.01543281,\n",
       "        0.01521253, 0.01548277, 0.01510525]),\n",
       " 'rank_test_score': array([5, 5, 5, 5, 3, 2, 4, 1], dtype=int32)}"
      ]
     },
     "execution_count": 15,
     "metadata": {},
     "output_type": "execute_result"
    }
   ],
   "source": [
    "gs.cv_results_"
   ]
  },
  {
   "cell_type": "code",
   "execution_count": 16,
   "metadata": {},
   "outputs": [
    {
     "data": {
      "text/plain": [
       "{'max_depth': 5, 'min_samples_split': 5, 'n_estimators': 100}"
      ]
     },
     "execution_count": 16,
     "metadata": {},
     "output_type": "execute_result"
    }
   ],
   "source": [
    "gs.best_params_"
   ]
  },
  {
   "cell_type": "code",
   "execution_count": 17,
   "metadata": {},
   "outputs": [
    {
     "data": {
      "text/plain": [
       "0.9392612324730925"
      ]
     },
     "execution_count": 17,
     "metadata": {},
     "output_type": "execute_result"
    }
   ],
   "source": [
    "gs.best_score_"
   ]
  },
  {
   "cell_type": "code",
   "execution_count": 18,
   "metadata": {},
   "outputs": [
    {
     "data": {
      "text/plain": [
       "RandomForestClassifier(max_depth=5, min_samples_split=5, oob_score=True,\n",
       "                       random_state=1234)"
      ]
     },
     "execution_count": 18,
     "metadata": {},
     "output_type": "execute_result"
    }
   ],
   "source": [
    "gs.best_estimator_"
   ]
  },
  {
   "cell_type": "code",
   "execution_count": 19,
   "metadata": {},
   "outputs": [
    {
     "data": {
      "text/plain": [
       "0.8016335186689398"
      ]
     },
     "execution_count": 19,
     "metadata": {},
     "output_type": "execute_result"
    }
   ],
   "source": [
    "gs.best_estimator_.oob_score_"
   ]
  },
  {
   "cell_type": "code",
   "execution_count": 24,
   "metadata": {},
   "outputs": [],
   "source": [
    "importance = gs.best_estimator_.feature_importances_"
   ]
  },
  {
   "cell_type": "code",
   "execution_count": 25,
   "metadata": {},
   "outputs": [
    {
     "name": "stdout",
     "output_type": "stream",
     "text": [
      "Feature: 0, Score: 0.00129\n",
      "Feature: 1, Score: 0.00017\n",
      "Feature: 2, Score: 0.00018\n",
      "Feature: 3, Score: 0.00013\n",
      "Feature: 4, Score: 0.00016\n",
      "Feature: 5, Score: 0.00074\n",
      "Feature: 6, Score: 0.00207\n",
      "Feature: 7, Score: 0.00804\n",
      "Feature: 8, Score: 0.29673\n",
      "Feature: 9, Score: 0.45215\n",
      "Feature: 10, Score: 0.07257\n",
      "Feature: 11, Score: 0.11961\n",
      "Feature: 12, Score: 0.03063\n",
      "Feature: 13, Score: 0.01553\n"
     ]
    }
   ],
   "source": [
    "for i,v in enumerate(importance):\n",
    "\tprint('Feature: %0d, Score: %.5f' % (i,v))"
   ]
  },
  {
   "cell_type": "code",
   "execution_count": 28,
   "metadata": {},
   "outputs": [
    {
     "data": {
      "image/png": "[encoded data removed]",
      "text/plain": [
       "<Figure size 432x288 with 1 Axes>"
      ]
     },
     "metadata": {
      "needs_background": "light"
     },
     "output_type": "display_data"
    }
   ],
   "source": [
    "pyplot.bar([x for x in range(len(importance))], importance)\n",
    "pyplot.show()"
   ]
  }
 ],
 "metadata": {
  "kernelspec": {
   "display_name": "Python 3",
   "language": "python",
   "name": "python3"
  },
  "language_info": {
   "codemirror_mode": {
    "name": "ipython",
    "version": 3
   },
   "file_extension": ".py",
   "mimetype": "text/x-python",
   "name": "python",
   "nbconvert_exporter": "python",
   "pygments_lexer": "ipython3",
   "version": "3.7.4"
  }
 },
 "nbformat": 4,
 "nbformat_minor": 4
}
