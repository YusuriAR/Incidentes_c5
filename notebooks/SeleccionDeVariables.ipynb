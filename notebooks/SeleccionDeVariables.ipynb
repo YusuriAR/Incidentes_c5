{
 "cells": [
  {
   "cell_type": "code",
   "execution_count": 1,
   "metadata": {},
   "outputs": [],
   "source": [
    "import sys\n",
    "sys.path.append('./../')\n",
    "import src\n",
    "from src import proyecto_1\n",
    "from src.utils import utils\n",
    "import pandas as pd\n",
    "import numpy as np\n",
    "import os\n",
    "from sklearn.impute import SimpleImputer\n",
    "from sklearn.preprocessing import OneHotEncoder\n",
    "from sklearn.compose import ColumnTransformer\n",
    "from sklearn.feature_selection import VarianceThreshold\n",
    "from numpy import savetxt\n",
    "from matplotlib import pyplot"
   ]
  },
  {
   "cell_type": "code",
   "execution_count": 2,
   "metadata": {},
   "outputs": [
    {
     "name": "stderr",
     "output_type": "stream",
     "text": [
      "./..\\src\\pipelines\\feature_engineering.py:9: UserWarning: Pandas doesn't allow columns to be created via a new attribute name - see https://pandas.pydata.org/pandas-docs/stable/indexing.html#attribute-access\n",
      "  df.inputs = df.drop(['latitud', 'longitud', 'codigo_cierre','fecha_creacion','incidente_c4'], axis=1)\n"
     ]
    }
   ],
   "source": [
    "proyecto_1.main()"
   ]
  },
  {
   "cell_type": "code",
   "execution_count": 3,
   "metadata": {},
   "outputs": [],
   "source": [
    "c5_inputs = utils.load_df('output/fe_df.pkl')"
   ]
  },
  {
   "cell_type": "markdown",
   "metadata": {},
   "source": [
    "### Definimos los nombres de las variables que vamos a usar"
   ]
  },
  {
   "cell_type": "code",
   "execution_count": 4,
   "metadata": {},
   "outputs": [],
   "source": [
    "names=np.array(c5_inputs.dia_semana.unique())\n",
    "names=np.append(names,np.array(c5_inputs.delegacion_inicio.unique()))\n",
    "names=np.append(names,np.array(c5_inputs.clas_con_f_alarma.unique()))\n",
    "names=np.append(names,np.array(c5_inputs.tipo_entrada.unique()))\n",
    "names=np.append(names,np.array(c5_inputs.mes.unique()))\n",
    "names=np.append(names,np.array(['sin_time', 'cos_time']))"
   ]
  },
  {
   "cell_type": "markdown",
   "metadata": {},
   "source": [
    "### Definimos los transformadores de las variables categoricas y la imputacion de datos con la media de coseno y seno del tiempo"
   ]
  },
  {
   "cell_type": "code",
   "execution_count": 5,
   "metadata": {},
   "outputs": [],
   "source": [
    "transformers = [('one_hot', OneHotEncoder(), ['dia_semana', 'delegacion_inicio','clas_con_f_alarma','tipo_entrada','mes']),\n",
    "               ('impute_sin_time', SimpleImputer(strategy=\"median\"), ['sin_time']),\n",
    "               ('impute_cos_time', SimpleImputer(strategy=\"median\"), ['cos_time'])]"
   ]
  },
  {
   "cell_type": "code",
   "execution_count": 6,
   "metadata": {},
   "outputs": [],
   "source": [
    "col_trans = ColumnTransformer(transformers, remainder=\"drop\", n_jobs=-1, verbose=True)"
   ]
  },
  {
   "cell_type": "code",
   "execution_count": 7,
   "metadata": {},
   "outputs": [
    {
     "data": {
      "text/plain": [
       "ColumnTransformer(n_jobs=-1,\n",
       "                  transformers=[('one_hot', OneHotEncoder(),\n",
       "                                 ['dia_semana', 'delegacion_inicio',\n",
       "                                  'clas_con_f_alarma', 'tipo_entrada', 'mes']),\n",
       "                                ('impute_sin_time',\n",
       "                                 SimpleImputer(strategy='median'),\n",
       "                                 ['sin_time']),\n",
       "                                ('impute_cos_time',\n",
       "                                 SimpleImputer(strategy='median'),\n",
       "                                 ['cos_time'])],\n",
       "                  verbose=True)"
      ]
     },
     "execution_count": 7,
     "metadata": {},
     "output_type": "execute_result"
    }
   ],
   "source": [
    "col_trans.fit(c5_inputs)"
   ]
  },
  {
   "cell_type": "code",
   "execution_count": 8,
   "metadata": {},
   "outputs": [],
   "source": [
    "c5_input_vars = col_trans.transform(c5_inputs)"
   ]
  },
  {
   "cell_type": "markdown",
   "metadata": {},
   "source": [
    "### Definimos \"Variance_Threshold\" que nos va a ayudar a eliminar las columnas con varianza menor al 0.1"
   ]
  },
  {
   "cell_type": "code",
   "execution_count": 9,
   "metadata": {},
   "outputs": [],
   "source": [
    "variance_threshold = VarianceThreshold(threshold=0.1)\n",
    "c5_input_variance=variance_threshold.fit_transform(c5_input_vars)"
   ]
  },
  {
   "cell_type": "markdown",
   "metadata": {},
   "source": [
    "### Vemos los nombres de las columnas que tienen varianza mayor a 0.1 y las vamos a ocupar en el modelo de \"Random Forest\""
   ]
  },
  {
   "cell_type": "code",
   "execution_count": 10,
   "metadata": {},
   "outputs": [
    {
     "data": {
      "text/html": [
       "<div>\n",
       "<style scoped>\n",
       "    .dataframe tbody tr th:only-of-type {\n",
       "        vertical-align: middle;\n",
       "    }\n",
       "\n",
       "    .dataframe tbody tr th {\n",
       "        vertical-align: top;\n",
       "    }\n",
       "\n",
       "    .dataframe thead th {\n",
       "        text-align: right;\n",
       "    }\n",
       "</style>\n",
       "<table border=\"1\" class=\"dataframe\">\n",
       "  <thead>\n",
       "    <tr style=\"text-align: right;\">\n",
       "      <th></th>\n",
       "      <th>index</th>\n",
       "      <th>variance</th>\n",
       "      <th>col_name</th>\n",
       "    </tr>\n",
       "  </thead>\n",
       "  <tbody>\n",
       "    <tr>\n",
       "      <th>0</th>\n",
       "      <td>0</td>\n",
       "      <td>0.110650</td>\n",
       "      <td>Sábado</td>\n",
       "    </tr>\n",
       "    <tr>\n",
       "      <th>1</th>\n",
       "      <td>1</td>\n",
       "      <td>0.122772</td>\n",
       "      <td>Domingo</td>\n",
       "    </tr>\n",
       "    <tr>\n",
       "      <th>2</th>\n",
       "      <td>2</td>\n",
       "      <td>0.114309</td>\n",
       "      <td>Lunes</td>\n",
       "    </tr>\n",
       "    <tr>\n",
       "      <th>3</th>\n",
       "      <td>3</td>\n",
       "      <td>0.118358</td>\n",
       "      <td>Martes</td>\n",
       "    </tr>\n",
       "    <tr>\n",
       "      <th>4</th>\n",
       "      <td>4</td>\n",
       "      <td>0.120546</td>\n",
       "      <td>Miércoles</td>\n",
       "    </tr>\n",
       "    <tr>\n",
       "      <th>5</th>\n",
       "      <td>5</td>\n",
       "      <td>0.130882</td>\n",
       "      <td>Jueves</td>\n",
       "    </tr>\n",
       "    <tr>\n",
       "      <th>6</th>\n",
       "      <td>6</td>\n",
       "      <td>0.138515</td>\n",
       "      <td>Viernes</td>\n",
       "    </tr>\n",
       "    <tr>\n",
       "      <th>7</th>\n",
       "      <td>15</td>\n",
       "      <td>0.135576</td>\n",
       "      <td>COYOACAN</td>\n",
       "    </tr>\n",
       "    <tr>\n",
       "      <th>8</th>\n",
       "      <td>24</td>\n",
       "      <td>0.243947</td>\n",
       "      <td>URGENCIAS MEDICAS</td>\n",
       "    </tr>\n",
       "    <tr>\n",
       "      <th>9</th>\n",
       "      <td>26</td>\n",
       "      <td>0.242604</td>\n",
       "      <td>DELITO</td>\n",
       "    </tr>\n",
       "    <tr>\n",
       "      <th>10</th>\n",
       "      <td>31</td>\n",
       "      <td>0.222828</td>\n",
       "      <td>REDES</td>\n",
       "    </tr>\n",
       "    <tr>\n",
       "      <th>11</th>\n",
       "      <td>32</td>\n",
       "      <td>0.248814</td>\n",
       "      <td>LLAMADA DEL 911</td>\n",
       "    </tr>\n",
       "    <tr>\n",
       "      <th>12</th>\n",
       "      <td>48</td>\n",
       "      <td>0.423176</td>\n",
       "      <td>sin_time</td>\n",
       "    </tr>\n",
       "    <tr>\n",
       "      <th>13</th>\n",
       "      <td>49</td>\n",
       "      <td>0.494284</td>\n",
       "      <td>cos_time</td>\n",
       "    </tr>\n",
       "  </tbody>\n",
       "</table>\n",
       "</div>"
      ],
      "text/plain": [
       "    index  variance           col_name\n",
       "0       0  0.110650             Sábado\n",
       "1       1  0.122772            Domingo\n",
       "2       2  0.114309              Lunes\n",
       "3       3  0.118358             Martes\n",
       "4       4  0.120546          Miércoles\n",
       "5       5  0.130882             Jueves\n",
       "6       6  0.138515            Viernes\n",
       "7      15  0.135576           COYOACAN\n",
       "8      24  0.243947  URGENCIAS MEDICAS\n",
       "9      26  0.242604             DELITO\n",
       "10     31  0.222828              REDES\n",
       "11     32  0.248814    LLAMADA DEL 911\n",
       "12     48  0.423176           sin_time\n",
       "13     49  0.494284           cos_time"
      ]
     },
     "execution_count": 10,
     "metadata": {},
     "output_type": "execute_result"
    }
   ],
   "source": [
    "dataset = pd.DataFrame({'variance': variance_threshold.variances_, 'col_name': names})\n",
    "names_2=dataset[dataset['variance']>=0.1].reset_index().col_name\n",
    "dataset[dataset['variance']>=0.1].reset_index()"
   ]
  },
  {
   "cell_type": "markdown",
   "metadata": {},
   "source": [
    "### Definimos la matriz de las variables para la prediccion y la etiqueta que queremos predecir"
   ]
  },
  {
   "cell_type": "code",
   "execution_count": 11,
   "metadata": {},
   "outputs": [],
   "source": [
    "X = c5_input_variance\n",
    "y = c5_inputs.label.values.reshape(c5_input_variance.shape[0],)"
   ]
  },
  {
   "cell_type": "markdown",
   "metadata": {},
   "source": [
    "### Aplicamos Grid Search para comparar distintos modelos"
   ]
  },
  {
   "cell_type": "code",
   "execution_count": 12,
   "metadata": {},
   "outputs": [
    {
     "name": "stdout",
     "output_type": "stream",
     "text": [
      "Tiempo en ejecutar:  490.7621021270752\n"
     ]
    }
   ],
   "source": [
    "import time \n",
    "\n",
    "from sklearn.model_selection import GridSearchCV\n",
    "from sklearn.model_selection import train_test_split\n",
    "from sklearn.ensemble import RandomForestClassifier\n",
    "\n",
    "# ocuparemos un RF\n",
    "classifier = RandomForestClassifier(oob_score=True, random_state=1234)\n",
    "# separando en train, test\n",
    "X_train, X_test, y_train, y_test = train_test_split(X, y)\n",
    "\n",
    "# definicion de los hiperparametros que queremos probar\n",
    "hyper_param_grid = {'n_estimators': [50,100], \n",
    "                    'max_depth': [1, 5],\n",
    "                    'min_samples_split': [2, 5]}\n",
    "\n",
    "# ocupemos grid search!\n",
    "gs = GridSearchCV(classifier, \n",
    "                           hyper_param_grid, \n",
    "                           scoring = 'precision',\n",
    "                           cv = 5, \n",
    "                           n_jobs = -1)\n",
    "start_time = time.time()\n",
    "gs.fit(X_train, y_train)\n",
    "print(\"Tiempo en ejecutar: \", time.time() - start_time)"
   ]
  },
  {
   "cell_type": "code",
   "execution_count": 13,
   "metadata": {},
   "outputs": [
    {
     "data": {
      "text/plain": [
       "{'mean_fit_time': array([ 41.76589785,  81.01678143,  41.42737122,  78.84584441,\n",
       "        113.50534668, 223.57919288, 114.84051247, 148.95047488]),\n",
       " 'std_fit_time': array([ 0.69945732,  1.53870976,  0.85537238,  1.41452053,  2.91752746,\n",
       "         3.0497589 ,  1.69414642, 30.5710511 ]),\n",
       " 'mean_score_time': array([1.76828985, 3.18985906, 1.69580545, 3.24692774, 2.04335799,\n",
       "        3.09742913, 1.94138684, 1.77642002]),\n",
       " 'std_score_time': array([0.1142616 , 0.08896121, 0.03472335, 0.23770388, 0.10089372,\n",
       "        0.48530447, 0.03736785, 0.26407575]),\n",
       " 'param_max_depth': masked_array(data=[1, 1, 1, 1, 5, 5, 5, 5],\n",
       "              mask=[False, False, False, False, False, False, False, False],\n",
       "        fill_value='?',\n",
       "             dtype=object),\n",
       " 'param_min_samples_split': masked_array(data=[2, 2, 5, 5, 2, 2, 5, 5],\n",
       "              mask=[False, False, False, False, False, False, False, False],\n",
       "        fill_value='?',\n",
       "             dtype=object),\n",
       " 'param_n_estimators': masked_array(data=[50, 100, 50, 100, 50, 100, 50, 100],\n",
       "              mask=[False, False, False, False, False, False, False, False],\n",
       "        fill_value='?',\n",
       "             dtype=object),\n",
       " 'params': [{'max_depth': 1, 'min_samples_split': 2, 'n_estimators': 50},\n",
       "  {'max_depth': 1, 'min_samples_split': 2, 'n_estimators': 100},\n",
       "  {'max_depth': 1, 'min_samples_split': 5, 'n_estimators': 50},\n",
       "  {'max_depth': 1, 'min_samples_split': 5, 'n_estimators': 100},\n",
       "  {'max_depth': 5, 'min_samples_split': 2, 'n_estimators': 50},\n",
       "  {'max_depth': 5, 'min_samples_split': 2, 'n_estimators': 100},\n",
       "  {'max_depth': 5, 'min_samples_split': 5, 'n_estimators': 50},\n",
       "  {'max_depth': 5, 'min_samples_split': 5, 'n_estimators': 100}],\n",
       " 'split0_test_score': array([0.        , 0.        , 0.        , 0.        , 0.94329502,\n",
       "        0.94362416, 0.9443609 , 0.94262842]),\n",
       " 'split1_test_score': array([0.        , 0.        , 0.        , 0.        , 0.94570136,\n",
       "        0.94380587, 0.94609164, 0.94380587]),\n",
       " 'split2_test_score': array([0.        , 0.        , 0.        , 0.        , 0.93119625,\n",
       "        0.93670034, 0.93119625, 0.93670034]),\n",
       " 'split3_test_score': array([0.        , 0.        , 0.        , 0.        , 0.94190871,\n",
       "        0.93643199, 0.94154489, 0.93699187]),\n",
       " 'split4_test_score': array([0.        , 0.        , 0.        , 0.        , 0.92727273,\n",
       "        0.93359375, 0.92727273, 0.9337232 ]),\n",
       " 'mean_test_score': array([0.        , 0.        , 0.        , 0.        , 0.93787481,\n",
       "        0.93883122, 0.93809328, 0.93876994]),\n",
       " 'std_test_score': array([0.        , 0.        , 0.        , 0.        , 0.00726517,\n",
       "        0.00413395, 0.00748096, 0.00382526]),\n",
       " 'rank_test_score': array([5, 5, 5, 5, 4, 1, 3, 2])}"
      ]
     },
     "execution_count": 13,
     "metadata": {},
     "output_type": "execute_result"
    }
   ],
   "source": [
    "gs.cv_results_"
   ]
  },
  {
   "cell_type": "code",
   "execution_count": 14,
   "metadata": {},
   "outputs": [
    {
     "data": {
      "text/plain": [
       "{'max_depth': 5, 'min_samples_split': 2, 'n_estimators': 100}"
      ]
     },
     "execution_count": 14,
     "metadata": {},
     "output_type": "execute_result"
    }
   ],
   "source": [
    "gs.best_params_"
   ]
  },
  {
   "cell_type": "code",
   "execution_count": 15,
   "metadata": {},
   "outputs": [
    {
     "data": {
      "text/plain": [
       "0.9388312223356177"
      ]
     },
     "execution_count": 15,
     "metadata": {},
     "output_type": "execute_result"
    }
   ],
   "source": [
    "gs.best_score_"
   ]
  },
  {
   "cell_type": "code",
   "execution_count": 16,
   "metadata": {},
   "outputs": [
    {
     "data": {
      "text/plain": [
       "RandomForestClassifier(max_depth=5, oob_score=True, random_state=1234)"
      ]
     },
     "execution_count": 16,
     "metadata": {},
     "output_type": "execute_result"
    }
   ],
   "source": [
    "gs.best_estimator_"
   ]
  },
  {
   "cell_type": "code",
   "execution_count": 17,
   "metadata": {},
   "outputs": [
    {
     "data": {
      "text/plain": [
       "0.8017681516671779"
      ]
     },
     "execution_count": 17,
     "metadata": {},
     "output_type": "execute_result"
    }
   ],
   "source": [
    "gs.best_estimator_.oob_score_"
   ]
  },
  {
   "cell_type": "markdown",
   "metadata": {},
   "source": [
    "### De los mejores estimadores creamos el modelo para la nuectros valores de prueba"
   ]
  },
  {
   "cell_type": "code",
   "execution_count": 18,
   "metadata": {},
   "outputs": [],
   "source": [
    "rfc=RandomForestClassifier(random_state=1234, min_samples_split=2, n_estimators= 100, max_depth=5)\n",
    "rfc.fit(X_train, y_train)\n",
    "pred=rfc.predict(X_test)"
   ]
  },
  {
   "cell_type": "markdown",
   "metadata": {},
   "source": [
    "### Vemos su Accuracy "
   ]
  },
  {
   "cell_type": "code",
   "execution_count": 19,
   "metadata": {},
   "outputs": [
    {
     "name": "stdout",
     "output_type": "stream",
     "text": [
      "Accuracy for Random Forest on CV data:  0.8026357284418534\n"
     ]
    }
   ],
   "source": [
    "from sklearn.metrics import accuracy_score\n",
    "print(\"Accuracy for Random Forest on CV data: \",accuracy_score(y_test,pred))"
   ]
  },
  {
   "cell_type": "code",
   "execution_count": 20,
   "metadata": {},
   "outputs": [],
   "source": [
    "importance = gs.best_estimator_.feature_importances_"
   ]
  },
  {
   "cell_type": "markdown",
   "metadata": {},
   "source": [
    "### Buscamos las variables que aportan mas al modelo"
   ]
  },
  {
   "cell_type": "code",
   "execution_count": 21,
   "metadata": {},
   "outputs": [
    {
     "name": "stdout",
     "output_type": "stream",
     "text": [
      "Feature: 0, Score: 0.00143\n",
      "Feature: 1, Score: 0.00015\n",
      "Feature: 2, Score: 0.00014\n",
      "Feature: 3, Score: 0.00023\n",
      "Feature: 4, Score: 0.00017\n",
      "Feature: 5, Score: 0.00095\n",
      "Feature: 6, Score: 0.00266\n",
      "Feature: 7, Score: 0.00789\n",
      "Feature: 8, Score: 0.30126\n",
      "Feature: 9, Score: 0.44391\n",
      "Feature: 10, Score: 0.07317\n",
      "Feature: 11, Score: 0.12085\n",
      "Feature: 12, Score: 0.03002\n",
      "Feature: 13, Score: 0.01717\n"
     ]
    }
   ],
   "source": [
    "for i,v in enumerate(importance):\n",
    "\tprint('Feature: %0d, Score: %.5f' % (i,v))"
   ]
  },
  {
   "cell_type": "code",
   "execution_count": 22,
   "metadata": {},
   "outputs": [
    {
     "data": {
      "image/png": "[encoded data removed]",
      "text/plain": [
       "<Figure size 432x288 with 1 Axes>"
      ]
     },
     "metadata": {
      "needs_background": "light"
     },
     "output_type": "display_data"
    }
   ],
   "source": [
    "pyplot.bar([x for x in range(len(importance))], importance)\n",
    "pyplot.show()"
   ]
  },
  {
   "cell_type": "markdown",
   "metadata": {},
   "source": [
    "### Vemos los nombres de las variables que aportan mas al modelo."
   ]
  },
  {
   "cell_type": "code",
   "execution_count": 23,
   "metadata": {},
   "outputs": [
    {
     "data": {
      "text/html": [
       "<div>\n",
       "<style scoped>\n",
       "    .dataframe tbody tr th:only-of-type {\n",
       "        vertical-align: middle;\n",
       "    }\n",
       "\n",
       "    .dataframe tbody tr th {\n",
       "        vertical-align: top;\n",
       "    }\n",
       "\n",
       "    .dataframe thead th {\n",
       "        text-align: right;\n",
       "    }\n",
       "</style>\n",
       "<table border=\"1\" class=\"dataframe\">\n",
       "  <thead>\n",
       "    <tr style=\"text-align: right;\">\n",
       "      <th></th>\n",
       "      <th>index</th>\n",
       "      <th>importance</th>\n",
       "      <th>col_name</th>\n",
       "    </tr>\n",
       "  </thead>\n",
       "  <tbody>\n",
       "    <tr>\n",
       "      <th>0</th>\n",
       "      <td>8</td>\n",
       "      <td>0.301261</td>\n",
       "      <td>URGENCIAS MEDICAS</td>\n",
       "    </tr>\n",
       "    <tr>\n",
       "      <th>1</th>\n",
       "      <td>9</td>\n",
       "      <td>0.443913</td>\n",
       "      <td>DELITO</td>\n",
       "    </tr>\n",
       "    <tr>\n",
       "      <th>2</th>\n",
       "      <td>10</td>\n",
       "      <td>0.073173</td>\n",
       "      <td>REDES</td>\n",
       "    </tr>\n",
       "    <tr>\n",
       "      <th>3</th>\n",
       "      <td>11</td>\n",
       "      <td>0.120845</td>\n",
       "      <td>LLAMADA DEL 911</td>\n",
       "    </tr>\n",
       "  </tbody>\n",
       "</table>\n",
       "</div>"
      ],
      "text/plain": [
       "   index  importance           col_name\n",
       "0      8    0.301261  URGENCIAS MEDICAS\n",
       "1      9    0.443913             DELITO\n",
       "2     10    0.073173              REDES\n",
       "3     11    0.120845    LLAMADA DEL 911"
      ]
     },
     "execution_count": 23,
     "metadata": {},
     "output_type": "execute_result"
    }
   ],
   "source": [
    "dataset_2 = pd.DataFrame({'importance': importance, 'col_name': names_2})\n",
    "dataset_2[dataset_2['importance']>=0.07].reset_index()"
   ]
  }
 ],
 "metadata": {
  "kernelspec": {
   "display_name": "Python 3",
   "language": "python",
   "name": "python3"
  },
  "language_info": {
   "codemirror_mode": {
    "name": "ipython",
    "version": 3
   },
   "file_extension": ".py",
   "mimetype": "text/x-python",
   "name": "python",
   "nbconvert_exporter": "python",
   "pygments_lexer": "ipython3",
   "version": "3.7.9"
  }
 },
 "nbformat": 4,
 "nbformat_minor": 4
}
