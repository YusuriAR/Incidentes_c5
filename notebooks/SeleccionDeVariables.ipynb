{
 "cells": [
  {
   "cell_type": "code",
   "execution_count": 1,
   "metadata": {},
   "outputs": [],
   "source": [
    "import sys\n",
    "sys.path.append('./../')\n",
    "import src\n",
    "from src import proyecto_1\n",
    "from src.utils import utils\n",
    "import pandas as pd\n",
    "import numpy as np\n",
    "import os\n",
    "from sklearn.impute import SimpleImputer\n",
    "from sklearn.preprocessing import OneHotEncoder\n",
    "from sklearn.compose import ColumnTransformer\n",
    "from sklearn.feature_selection import VarianceThreshold\n",
    "from numpy import savetxt\n",
    "from matplotlib import pyplot"
   ]
  },
  {
   "cell_type": "code",
   "execution_count": 2,
   "metadata": {},
   "outputs": [
    {
     "name": "stderr",
     "output_type": "stream",
     "text": [
      "./../src/pipelines/feature_engineering.py:14: UserWarning: Pandas doesn't allow columns to be created via a new attribute name - see https://pandas.pydata.org/pandas-docs/stable/indexing.html#attribute-access\n",
      "  df.inputs = df.drop(['latitud', 'longitud', 'codigo_cierre','fecha_creacion','incidente_c4'], axis=1)\n"
     ]
    }
   ],
   "source": [
    "proyecto_1.main()"
   ]
  },
  {
   "cell_type": "code",
   "execution_count": 3,
   "metadata": {},
   "outputs": [],
   "source": [
    "c5_inputs = utils.load_df('output/fe_df.pkl')"
   ]
  },
  {
   "cell_type": "code",
   "execution_count": 4,
   "metadata": {},
   "outputs": [
    {
     "data": {
      "text/plain": [
       "dia_semana               7\n",
       "delegacion_inicio       16\n",
       "clas_con_f_alarma        4\n",
       "tipo_entrada             9\n",
       "mes                     12\n",
       "label                    2\n",
       "año_creacion             8\n",
       "sin_time             76786\n",
       "cos_time             77399\n",
       "dtype: int64"
      ]
     },
     "execution_count": 4,
     "metadata": {},
     "output_type": "execute_result"
    }
   ],
   "source": [
    "c5_inputs.nunique()"
   ]
  },
  {
   "cell_type": "markdown",
   "metadata": {},
   "source": [
    "### Definimos los nombres de las variables que vamos a usar"
   ]
  },
  {
   "cell_type": "code",
   "execution_count": 5,
   "metadata": {},
   "outputs": [],
   "source": [
    "names=np.array(c5_inputs.delegacion_inicio.unique())\n",
    "names=np.append(names,np.array(c5_inputs.clas_con_f_alarma.unique()))\n",
    "names=np.append(names,np.array(c5_inputs.tipo_entrada.unique()))\n",
    "names=np.append(names,np.array(['año','mes','sin_time', 'cos_time']))"
   ]
  },
  {
   "cell_type": "markdown",
   "metadata": {},
   "source": [
    "### Definimos los transformadores de las variables categoricas y la imputacion de datos con la media de coseno y seno del tiempo"
   ]
  },
  {
   "cell_type": "code",
   "execution_count": 6,
   "metadata": {},
   "outputs": [],
   "source": [
    "transformers = [('one_hot', OneHotEncoder(), [ 'delegacion_inicio','clas_con_f_alarma','tipo_entrada']),\n",
    "               ('año', SimpleImputer(strategy=\"mean\"), ['año_creacion']),\n",
    "               ('mes', SimpleImputer(strategy=\"mean\"), ['mes']),\n",
    "               ('impute_sin_time', SimpleImputer(strategy=\"median\"), ['sin_time']),\n",
    "               ('impute_cos_time', SimpleImputer(strategy=\"median\"), ['cos_time'])]"
   ]
  },
  {
   "cell_type": "code",
   "execution_count": 7,
   "metadata": {},
   "outputs": [],
   "source": [
    "col_trans = ColumnTransformer(transformers, remainder=\"drop\", n_jobs=-1, verbose=True)\n",
    "#col_trans = ColumnTransformer(transformers, n_jobs=-1, verbose=True)"
   ]
  },
  {
   "cell_type": "code",
   "execution_count": 8,
   "metadata": {},
   "outputs": [
    {
     "data": {
      "text/plain": [
       "ColumnTransformer(n_jobs=-1,\n",
       "                  transformers=[('one_hot', OneHotEncoder(),\n",
       "                                 ['delegacion_inicio', 'clas_con_f_alarma',\n",
       "                                  'tipo_entrada']),\n",
       "                                ('año', SimpleImputer(), ['año_creacion']),\n",
       "                                ('mes', SimpleImputer(), ['mes']),\n",
       "                                ('impute_sin_time',\n",
       "                                 SimpleImputer(strategy='median'),\n",
       "                                 ['sin_time']),\n",
       "                                ('impute_cos_time',\n",
       "                                 SimpleImputer(strategy='median'),\n",
       "                                 ['cos_time'])],\n",
       "                  verbose=True)"
      ]
     },
     "execution_count": 8,
     "metadata": {},
     "output_type": "execute_result"
    }
   ],
   "source": [
    "col_trans.fit(c5_inputs)"
   ]
  },
  {
   "cell_type": "code",
   "execution_count": 9,
   "metadata": {},
   "outputs": [],
   "source": [
    "c5_input_vars = col_trans.transform(c5_inputs)"
   ]
  },
  {
   "cell_type": "code",
   "execution_count": 10,
   "metadata": {},
   "outputs": [
    {
     "data": {
      "text/plain": [
       "(1382537, 33)"
      ]
     },
     "execution_count": 10,
     "metadata": {},
     "output_type": "execute_result"
    }
   ],
   "source": [
    "c5_input_vars.shape"
   ]
  },
  {
   "cell_type": "markdown",
   "metadata": {},
   "source": [
    "### Definimos la matriz de las variables para la prediccion y la etiqueta que queremos predecir"
   ]
  },
  {
   "cell_type": "code",
   "execution_count": 13,
   "metadata": {},
   "outputs": [],
   "source": [
    "X = c5_input_vars\n",
    "y = c5_inputs.label.values.reshape(c5_input_vars.shape[0],)"
   ]
  },
  {
   "cell_type": "markdown",
   "metadata": {},
   "source": [
    "### Aplicamos Grid Search para comparar distintos modelos"
   ]
  },
  {
   "cell_type": "code",
   "execution_count": 14,
   "metadata": {},
   "outputs": [
    {
     "name": "stdout",
     "output_type": "stream",
     "text": [
      "Tiempo en ejecutar:  204.79056215286255\n"
     ]
    }
   ],
   "source": [
    "import time \n",
    "\n",
    "from sklearn.model_selection import GridSearchCV\n",
    "from sklearn.model_selection import train_test_split\n",
    "from sklearn.ensemble import RandomForestClassifier\n",
    "from sklearn.model_selection import TimeSeriesSplit\n",
    "\n",
    "# ocuparemos un RF\n",
    "classifier = RandomForestClassifier(oob_score=True, random_state=1234)\n",
    "# separando en train, test\n",
    "X_train, X_test, y_train, y_test = train_test_split(X, y)\n",
    "\n",
    "# definicion de los hiperparametros que queremos probar\n",
    "hyper_param_grid = {'n_estimators': [20,30], \n",
    "                    'max_depth': [1, 2, 4],\n",
    "                    'min_samples_split': [2, 3]}\n",
    "\n",
    "#Time Series cross-validator\n",
    "tscv = TimeSeriesSplit(n_splits=8)\n",
    "\n",
    "# ocupemos grid search!\n",
    "gs = GridSearchCV(classifier, \n",
    "                           hyper_param_grid, \n",
    "                           scoring = 'precision',\n",
    "                           cv = tscv,\n",
    "                            \n",
    "                           n_jobs = -1)\n",
    "start_time = time.time()\n",
    "gs.fit(X_train, y_train)\n",
    "print(\"Tiempo en ejecutar: \", time.time() - start_time)"
   ]
  },
  {
   "cell_type": "code",
   "execution_count": 15,
   "metadata": {},
   "outputs": [
    {
     "data": {
      "text/plain": [
       "{'mean_fit_time': array([ 8.22267327, 12.52694881,  8.43819001, 11.16234258, 10.31562063,\n",
       "        17.32373416, 12.46500298, 15.56241992, 15.37993824, 21.62222373,\n",
       "        13.90314281, 15.27560475]),\n",
       " 'std_fit_time': array([ 4.44094493,  7.12890569,  4.19080649,  5.77096985,  6.03702144,\n",
       "        10.43395619,  5.69280157,  7.81196544,  8.3217197 , 11.3042876 ,\n",
       "         6.93454317,  6.27151022]),\n",
       " 'mean_score_time': array([0.50428572, 0.71649772, 0.79388362, 0.56546536, 0.46632168,\n",
       "        0.7657541 , 0.55866352, 0.67673528, 0.49650636, 0.61990264,\n",
       "        0.44713038, 0.41931838]),\n",
       " 'std_score_time': array([0.18311097, 0.26844451, 0.69195405, 0.03807251, 0.07482214,\n",
       "        0.35344252, 0.05465071, 0.12128203, 0.06458057, 0.04758432,\n",
       "        0.05578036, 0.13434252]),\n",
       " 'param_max_depth': masked_array(data=[1, 1, 1, 1, 2, 2, 2, 2, 4, 4, 4, 4],\n",
       "              mask=[False, False, False, False, False, False, False, False,\n",
       "                    False, False, False, False],\n",
       "        fill_value='?',\n",
       "             dtype=object),\n",
       " 'param_min_samples_split': masked_array(data=[2, 2, 3, 3, 2, 2, 3, 3, 2, 2, 3, 3],\n",
       "              mask=[False, False, False, False, False, False, False, False,\n",
       "                    False, False, False, False],\n",
       "        fill_value='?',\n",
       "             dtype=object),\n",
       " 'param_n_estimators': masked_array(data=[20, 30, 20, 30, 20, 30, 20, 30, 20, 30, 20, 30],\n",
       "              mask=[False, False, False, False, False, False, False, False,\n",
       "                    False, False, False, False],\n",
       "        fill_value='?',\n",
       "             dtype=object),\n",
       " 'params': [{'max_depth': 1, 'min_samples_split': 2, 'n_estimators': 20},\n",
       "  {'max_depth': 1, 'min_samples_split': 2, 'n_estimators': 30},\n",
       "  {'max_depth': 1, 'min_samples_split': 3, 'n_estimators': 20},\n",
       "  {'max_depth': 1, 'min_samples_split': 3, 'n_estimators': 30},\n",
       "  {'max_depth': 2, 'min_samples_split': 2, 'n_estimators': 20},\n",
       "  {'max_depth': 2, 'min_samples_split': 2, 'n_estimators': 30},\n",
       "  {'max_depth': 2, 'min_samples_split': 3, 'n_estimators': 20},\n",
       "  {'max_depth': 2, 'min_samples_split': 3, 'n_estimators': 30},\n",
       "  {'max_depth': 4, 'min_samples_split': 2, 'n_estimators': 20},\n",
       "  {'max_depth': 4, 'min_samples_split': 2, 'n_estimators': 30},\n",
       "  {'max_depth': 4, 'min_samples_split': 3, 'n_estimators': 20},\n",
       "  {'max_depth': 4, 'min_samples_split': 3, 'n_estimators': 30}],\n",
       " 'split0_test_score': array([0., 0., 0., 0., 0., 0., 0., 0., 1., 1., 1., 1.]),\n",
       " 'split1_test_score': array([0., 0., 0., 0., 1., 0., 1., 0., 1., 1., 1., 1.]),\n",
       " 'split2_test_score': array([0., 0., 0., 0., 1., 0., 1., 0., 1., 1., 1., 1.]),\n",
       " 'split3_test_score': array([0.        , 0.        , 0.        , 0.        , 1.        ,\n",
       "        0.        , 1.        , 0.        , 0.99880526, 1.        ,\n",
       "        0.99880526, 1.        ]),\n",
       " 'split4_test_score': array([0.        , 0.        , 0.        , 0.        , 1.        ,\n",
       "        0.        , 1.        , 0.        , 0.99891658, 1.        ,\n",
       "        0.99891658, 1.        ]),\n",
       " 'split5_test_score': array([0., 0., 0., 0., 1., 0., 1., 0., 1., 1., 1., 1.]),\n",
       " 'split6_test_score': array([0., 0., 0., 0., 1., 0., 1., 0., 1., 1., 1., 1.]),\n",
       " 'split7_test_score': array([0., 0., 0., 0., 1., 0., 1., 0., 1., 1., 1., 1.]),\n",
       " 'mean_test_score': array([0.        , 0.        , 0.        , 0.        , 0.875     ,\n",
       "        0.        , 0.875     , 0.        , 0.99971523, 1.        ,\n",
       "        0.99971523, 1.        ]),\n",
       " 'std_test_score': array([0.        , 0.        , 0.        , 0.        , 0.33071891,\n",
       "        0.        , 0.33071891, 0.        , 0.00049402, 0.        ,\n",
       "        0.00049402, 0.        ]),\n",
       " 'rank_test_score': array([7, 7, 7, 7, 5, 7, 5, 7, 3, 1, 3, 1], dtype=int32)}"
      ]
     },
     "execution_count": 15,
     "metadata": {},
     "output_type": "execute_result"
    }
   ],
   "source": [
    "gs.cv_results_"
   ]
  },
  {
   "cell_type": "code",
   "execution_count": 16,
   "metadata": {},
   "outputs": [
    {
     "data": {
      "text/plain": [
       "{'max_depth': 4, 'min_samples_split': 2, 'n_estimators': 30}"
      ]
     },
     "execution_count": 16,
     "metadata": {},
     "output_type": "execute_result"
    }
   ],
   "source": [
    "gs.best_params_"
   ]
  },
  {
   "cell_type": "code",
   "execution_count": 17,
   "metadata": {},
   "outputs": [
    {
     "data": {
      "text/plain": [
       "1.0"
      ]
     },
     "execution_count": 17,
     "metadata": {},
     "output_type": "execute_result"
    }
   ],
   "source": [
    "gs.best_score_"
   ]
  },
  {
   "cell_type": "code",
   "execution_count": 18,
   "metadata": {},
   "outputs": [
    {
     "data": {
      "text/plain": [
       "RandomForestClassifier(max_depth=4, n_estimators=30, oob_score=True,\n",
       "                       random_state=1234)"
      ]
     },
     "execution_count": 18,
     "metadata": {},
     "output_type": "execute_result"
    }
   ],
   "source": [
    "gs.best_estimator_"
   ]
  },
  {
   "cell_type": "code",
   "execution_count": 19,
   "metadata": {},
   "outputs": [
    {
     "data": {
      "text/plain": [
       "0.8013216292378643"
      ]
     },
     "execution_count": 19,
     "metadata": {},
     "output_type": "execute_result"
    }
   ],
   "source": [
    "gs.best_estimator_.oob_score_"
   ]
  },
  {
   "cell_type": "markdown",
   "metadata": {},
   "source": [
    "### De los mejores estimadores creamos el modelo para la nuectros valores de prueba"
   ]
  },
  {
   "cell_type": "code",
   "execution_count": 20,
   "metadata": {},
   "outputs": [],
   "source": [
    "rfc=RandomForestClassifier(random_state=1234, min_samples_split=2, n_estimators= 20, max_depth=2)\n",
    "rfc.fit(X_train, y_train)\n",
    "pred=rfc.predict(X_test)"
   ]
  },
  {
   "cell_type": "markdown",
   "metadata": {},
   "source": [
    "### Vemos su Accuracy "
   ]
  },
  {
   "cell_type": "code",
   "execution_count": 21,
   "metadata": {},
   "outputs": [
    {
     "name": "stdout",
     "output_type": "stream",
     "text": [
      "Accuracy for Random Forest on CV data:  0.795940804606015\n"
     ]
    }
   ],
   "source": [
    "from sklearn.metrics import accuracy_score\n",
    "print(\"Accuracy for Random Forest on CV data: \",accuracy_score(y_test,pred))"
   ]
  },
  {
   "cell_type": "code",
   "execution_count": 22,
   "metadata": {},
   "outputs": [],
   "source": [
    "importance = gs.best_estimator_.feature_importances_"
   ]
  },
  {
   "cell_type": "markdown",
   "metadata": {},
   "source": [
    "### Buscamos las variables que aportan mas al modelo"
   ]
  },
  {
   "cell_type": "code",
   "execution_count": 23,
   "metadata": {},
   "outputs": [
    {
     "name": "stdout",
     "output_type": "stream",
     "text": [
      "Feature: 0, Score: 0.00009\n",
      "Feature: 1, Score: 0.00143\n",
      "Feature: 2, Score: 0.00240\n",
      "Feature: 3, Score: 0.00024\n",
      "Feature: 4, Score: 0.00832\n",
      "Feature: 5, Score: 0.01920\n",
      "Feature: 6, Score: 0.00001\n",
      "Feature: 7, Score: 0.00001\n",
      "Feature: 8, Score: 0.00167\n",
      "Feature: 9, Score: 0.00127\n",
      "Feature: 10, Score: 0.00006\n",
      "Feature: 11, Score: 0.00002\n",
      "Feature: 12, Score: 0.00100\n",
      "Feature: 13, Score: 0.00363\n",
      "Feature: 14, Score: 0.00016\n",
      "Feature: 15, Score: 0.00067\n",
      "Feature: 16, Score: 0.00001\n",
      "Feature: 17, Score: 0.26948\n",
      "Feature: 18, Score: 0.20308\n",
      "Feature: 19, Score: 0.14463\n",
      "Feature: 20, Score: 0.00002\n",
      "Feature: 21, Score: 0.08940\n",
      "Feature: 22, Score: 0.00111\n",
      "Feature: 23, Score: 0.00001\n",
      "Feature: 24, Score: 0.06827\n",
      "Feature: 25, Score: 0.03280\n",
      "Feature: 26, Score: 0.09827\n",
      "Feature: 27, Score: 0.00442\n",
      "Feature: 28, Score: 0.00130\n",
      "Feature: 29, Score: 0.02732\n",
      "Feature: 30, Score: 0.00185\n",
      "Feature: 31, Score: 0.01044\n",
      "Feature: 32, Score: 0.00740\n"
     ]
    }
   ],
   "source": [
    "for i,v in enumerate(importance):\n",
    "\tprint('Feature: %0d, Score: %.5f' % (i,v))"
   ]
  },
  {
   "cell_type": "code",
   "execution_count": 24,
   "metadata": {},
   "outputs": [
    {
     "data": {
      "image/png": "[encoded data removed]",
      "text/plain": [
       "<Figure size 432x288 with 1 Axes>"
      ]
     },
     "metadata": {
      "needs_background": "light"
     },
     "output_type": "display_data"
    }
   ],
   "source": [
    "pyplot.bar([x for x in range(len(importance))], importance)\n",
    "pyplot.show()"
   ]
  },
  {
   "cell_type": "markdown",
   "metadata": {},
   "source": [
    "### Vemos los nombres de las variables que aportan mas al modelo."
   ]
  },
  {
   "cell_type": "code",
   "execution_count": 72,
   "metadata": {},
   "outputs": [
    {
     "name": "stderr",
     "output_type": "stream",
     "text": [
      "/Users/yedam/.pyenv/versions/3.7.4/envs/itam_intro_to_ds/lib/python3.7/site-packages/ipykernel_launcher.py:3: SettingWithCopyWarning: \n",
      "A value is trying to be set on a copy of a slice from a DataFrame.\n",
      "Try using .loc[row_indexer,col_indexer] = value instead\n",
      "\n",
      "See the caveats in the documentation: https://pandas.pydata.org/pandas-docs/stable/user_guide/indexing.html#returning-a-view-versus-a-copy\n",
      "  This is separate from the ipykernel package so we can avoid doing imports until\n"
     ]
    },
    {
     "data": {
      "text/html": [
       "<div>\n",
       "<style scoped>\n",
       "    .dataframe tbody tr th:only-of-type {\n",
       "        vertical-align: middle;\n",
       "    }\n",
       "\n",
       "    .dataframe tbody tr th {\n",
       "        vertical-align: top;\n",
       "    }\n",
       "\n",
       "    .dataframe thead th {\n",
       "        text-align: right;\n",
       "    }\n",
       "</style>\n",
       "<table border=\"1\" class=\"dataframe\">\n",
       "  <thead>\n",
       "    <tr style=\"text-align: right;\">\n",
       "      <th></th>\n",
       "      <th>importance</th>\n",
       "      <th>col_name</th>\n",
       "    </tr>\n",
       "  </thead>\n",
       "  <tbody>\n",
       "    <tr>\n",
       "      <th>17</th>\n",
       "      <td>27%</td>\n",
       "      <td>URGENCIAS MEDICAS</td>\n",
       "    </tr>\n",
       "    <tr>\n",
       "      <th>18</th>\n",
       "      <td>20%</td>\n",
       "      <td>FALSA ALARMA</td>\n",
       "    </tr>\n",
       "    <tr>\n",
       "      <th>19</th>\n",
       "      <td>14%</td>\n",
       "      <td>DELITO</td>\n",
       "    </tr>\n",
       "    <tr>\n",
       "      <th>26</th>\n",
       "      <td>10%</td>\n",
       "      <td>LLAMADA APP911</td>\n",
       "    </tr>\n",
       "    <tr>\n",
       "      <th>21</th>\n",
       "      <td>9%</td>\n",
       "      <td>LLAMADA DEL 066</td>\n",
       "    </tr>\n",
       "  </tbody>\n",
       "</table>\n",
       "</div>"
      ],
      "text/plain": [
       "   importance           col_name\n",
       "17        27%  URGENCIAS MEDICAS\n",
       "18        20%       FALSA ALARMA\n",
       "19        14%             DELITO\n",
       "26        10%     LLAMADA APP911\n",
       "21         9%    LLAMADA DEL 066"
      ]
     },
     "execution_count": 72,
     "metadata": {},
     "output_type": "execute_result"
    }
   ],
   "source": [
    "dataset_2 = pd.DataFrame({'importance': importance, 'col_name': names}).sort_values(by='importance',ascending=False)\n",
    "dataset_3 = dataset_2[dataset_2['importance']>=0.07]\n",
    "dataset_3['importance'] = pd.Series([\"{0:.0f}%\".format(val * 100) for val in dataset_3['importance']], index = dataset_3.index)\n",
    "dataset_3"
   ]
  },
  {
   "cell_type": "code",
   "execution_count": null,
   "metadata": {},
   "outputs": [],
   "source": []
  }
 ],
 "metadata": {
  "kernelspec": {
   "display_name": "Python 3",
   "language": "python",
   "name": "python3"
  },
  "language_info": {
   "codemirror_mode": {
    "name": "ipython",
    "version": 3
   },
   "file_extension": ".py",
   "mimetype": "text/x-python",
   "name": "python",
   "nbconvert_exporter": "python",
   "pygments_lexer": "ipython3",
   "version": "3.7.4"
  }
 },
 "nbformat": 4,
 "nbformat_minor": 4
}
