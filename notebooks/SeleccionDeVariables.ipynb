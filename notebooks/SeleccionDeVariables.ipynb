{
 "cells": [
  {
   "cell_type": "code",
   "execution_count": 1,
   "metadata": {},
   "outputs": [],
   "source": [
    "import sys\n",
    "sys.path.append('./../')\n",
    "import src\n",
    "from src import proyecto_1\n",
    "from src.utils import utils\n",
    "import pandas as pd\n",
    "import numpy as np\n",
    "import os\n",
    "from sklearn.impute import SimpleImputer\n",
    "from sklearn.preprocessing import OneHotEncoder\n",
    "from sklearn.compose import ColumnTransformer\n",
    "from sklearn.feature_selection import VarianceThreshold\n",
    "from numpy import savetxt\n",
    "from matplotlib import pyplot\n",
    "from sklearn.tree import DecisionTreeClassifier"
   ]
  },
  {
   "cell_type": "code",
   "execution_count": 2,
   "metadata": {},
   "outputs": [
    {
     "name": "stderr",
     "output_type": "stream",
     "text": [
      "./..\\src\\pipelines\\feature_engineering.py:14: UserWarning: Pandas doesn't allow columns to be created via a new attribute name - see https://pandas.pydata.org/pandas-docs/stable/indexing.html#attribute-access\n",
      "  df.inputs = df.drop(['latitud', 'longitud', 'codigo_cierre','fecha_creacion','incidente_c4'], axis=1)\n"
     ]
    }
   ],
   "source": [
    "proyecto_1.main()"
   ]
  },
  {
   "cell_type": "code",
   "execution_count": 3,
   "metadata": {},
   "outputs": [],
   "source": [
    "c5_inputs = utils.load_df('output/fe_df.pkl')"
   ]
  },
  {
   "cell_type": "markdown",
   "metadata": {},
   "source": [
    "### Ordenamiento del dataframe de manera cronologica (De fecha mas antigua a mas reciente)"
   ]
  },
  {
   "cell_type": "code",
   "execution_count": 4,
   "metadata": {},
   "outputs": [],
   "source": [
    "c5_inputs = c5_inputs.sort_values(by=['año_creacion','mes'],ascending=True)"
   ]
  },
  {
   "cell_type": "code",
   "execution_count": 5,
   "metadata": {},
   "outputs": [
    {
     "data": {
      "text/plain": [
       "dia_semana               7\n",
       "delegacion_inicio       16\n",
       "clas_con_f_alarma        4\n",
       "tipo_entrada             9\n",
       "mes                     12\n",
       "label                    2\n",
       "año_creacion             8\n",
       "sin_time             76647\n",
       "cos_time             78322\n",
       "dtype: int64"
      ]
     },
     "execution_count": 5,
     "metadata": {},
     "output_type": "execute_result"
    }
   ],
   "source": [
    "c5_inputs.nunique()"
   ]
  },
  {
   "cell_type": "code",
   "execution_count": 6,
   "metadata": {},
   "outputs": [
    {
     "data": {
      "text/html": [
       "<div>\n",
       "<style scoped>\n",
       "    .dataframe tbody tr th:only-of-type {\n",
       "        vertical-align: middle;\n",
       "    }\n",
       "\n",
       "    .dataframe tbody tr th {\n",
       "        vertical-align: top;\n",
       "    }\n",
       "\n",
       "    .dataframe thead th {\n",
       "        text-align: right;\n",
       "    }\n",
       "</style>\n",
       "<table border=\"1\" class=\"dataframe\">\n",
       "  <thead>\n",
       "    <tr style=\"text-align: right;\">\n",
       "      <th></th>\n",
       "      <th>dia_semana</th>\n",
       "      <th>delegacion_inicio</th>\n",
       "      <th>clas_con_f_alarma</th>\n",
       "      <th>tipo_entrada</th>\n",
       "      <th>mes</th>\n",
       "      <th>label</th>\n",
       "      <th>año_creacion</th>\n",
       "      <th>sin_time</th>\n",
       "      <th>cos_time</th>\n",
       "    </tr>\n",
       "  </thead>\n",
       "  <tbody>\n",
       "    <tr>\n",
       "      <th>372610</th>\n",
       "      <td>Martes</td>\n",
       "      <td>IZTAPALAPA</td>\n",
       "      <td>EMERGENCIA</td>\n",
       "      <td>LLAMADA DEL 066</td>\n",
       "      <td>1</td>\n",
       "      <td>0</td>\n",
       "      <td>2013</td>\n",
       "      <td>-0.321921</td>\n",
       "      <td>0.946766</td>\n",
       "    </tr>\n",
       "    <tr>\n",
       "      <th>372616</th>\n",
       "      <td>Martes</td>\n",
       "      <td>IZTAPALAPA</td>\n",
       "      <td>EMERGENCIA</td>\n",
       "      <td>LLAMADA DEL 066</td>\n",
       "      <td>1</td>\n",
       "      <td>0</td>\n",
       "      <td>2013</td>\n",
       "      <td>-0.443788</td>\n",
       "      <td>0.896132</td>\n",
       "    </tr>\n",
       "    <tr>\n",
       "      <th>372626</th>\n",
       "      <td>Martes</td>\n",
       "      <td>CUAUHTEMOC</td>\n",
       "      <td>EMERGENCIA</td>\n",
       "      <td>LLAMADA DEL 066</td>\n",
       "      <td>1</td>\n",
       "      <td>0</td>\n",
       "      <td>2013</td>\n",
       "      <td>-0.438110</td>\n",
       "      <td>0.898922</td>\n",
       "    </tr>\n",
       "    <tr>\n",
       "      <th>372644</th>\n",
       "      <td>Martes</td>\n",
       "      <td>IZTACALCO</td>\n",
       "      <td>EMERGENCIA</td>\n",
       "      <td>CÁMARA</td>\n",
       "      <td>1</td>\n",
       "      <td>0</td>\n",
       "      <td>2013</td>\n",
       "      <td>-0.241710</td>\n",
       "      <td>0.970348</td>\n",
       "    </tr>\n",
       "    <tr>\n",
       "      <th>372652</th>\n",
       "      <td>Martes</td>\n",
       "      <td>XOCHIMILCO</td>\n",
       "      <td>EMERGENCIA</td>\n",
       "      <td>LLAMADA DEL 066</td>\n",
       "      <td>1</td>\n",
       "      <td>0</td>\n",
       "      <td>2013</td>\n",
       "      <td>-0.678213</td>\n",
       "      <td>0.734865</td>\n",
       "    </tr>\n",
       "  </tbody>\n",
       "</table>\n",
       "</div>"
      ],
      "text/plain": [
       "       dia_semana delegacion_inicio clas_con_f_alarma     tipo_entrada mes  \\\n",
       "372610     Martes        IZTAPALAPA        EMERGENCIA  LLAMADA DEL 066   1   \n",
       "372616     Martes        IZTAPALAPA        EMERGENCIA  LLAMADA DEL 066   1   \n",
       "372626     Martes        CUAUHTEMOC        EMERGENCIA  LLAMADA DEL 066   1   \n",
       "372644     Martes         IZTACALCO        EMERGENCIA           CÁMARA   1   \n",
       "372652     Martes        XOCHIMILCO        EMERGENCIA  LLAMADA DEL 066   1   \n",
       "\n",
       "        label  año_creacion  sin_time  cos_time  \n",
       "372610      0          2013 -0.321921  0.946766  \n",
       "372616      0          2013 -0.443788  0.896132  \n",
       "372626      0          2013 -0.438110  0.898922  \n",
       "372644      0          2013 -0.241710  0.970348  \n",
       "372652      0          2013 -0.678213  0.734865  "
      ]
     },
     "execution_count": 6,
     "metadata": {},
     "output_type": "execute_result"
    }
   ],
   "source": [
    "c5_inputs.head()"
   ]
  },
  {
   "cell_type": "markdown",
   "metadata": {},
   "source": [
    "### Definimos los nombres de las variables que vamos a usar"
   ]
  },
  {
   "cell_type": "code",
   "execution_count": 7,
   "metadata": {},
   "outputs": [],
   "source": [
    "names=np.array(c5_inputs.dia_semana.unique())\n",
    "names=np.append(names,np.array(c5_inputs.delegacion_inicio.unique()))\n",
    "names=np.append(names,np.array(c5_inputs.clas_con_f_alarma.unique()))\n",
    "names=np.append(names,np.array(c5_inputs.tipo_entrada.unique()))\n",
    "names=np.append(names,np.array(['año','mes','sin_time', 'cos_time']))"
   ]
  },
  {
   "cell_type": "markdown",
   "metadata": {},
   "source": [
    "### Definimos los transformadores de las variables categoricas y la imputacion de datos con la media de coseno y seno del tiempo"
   ]
  },
  {
   "cell_type": "code",
   "execution_count": 8,
   "metadata": {},
   "outputs": [],
   "source": [
    "transformers = [('one_hot', OneHotEncoder(), [ 'dia_semana','delegacion_inicio','clas_con_f_alarma','tipo_entrada']),\n",
    "               ('año', SimpleImputer(strategy=\"mean\"), ['año_creacion']),\n",
    "               ('mes', SimpleImputer(strategy=\"mean\"), ['mes']),\n",
    "               ('impute_sin_time', SimpleImputer(strategy=\"median\"), ['sin_time']),\n",
    "               ('impute_cos_time', SimpleImputer(strategy=\"median\"), ['cos_time'])]"
   ]
  },
  {
   "cell_type": "code",
   "execution_count": 9,
   "metadata": {},
   "outputs": [],
   "source": [
    "col_trans = ColumnTransformer(transformers, remainder=\"drop\", n_jobs=-1, verbose=True)\n",
    "#col_trans = ColumnTransformer(transformers, n_jobs=-1, verbose=True)"
   ]
  },
  {
   "cell_type": "code",
   "execution_count": 10,
   "metadata": {},
   "outputs": [
    {
     "data": {
      "text/plain": [
       "ColumnTransformer(n_jobs=-1,\n",
       "                  transformers=[('one_hot', OneHotEncoder(),\n",
       "                                 ['dia_semana', 'delegacion_inicio',\n",
       "                                  'clas_con_f_alarma', 'tipo_entrada']),\n",
       "                                ('año', SimpleImputer(), ['año_creacion']),\n",
       "                                ('mes', SimpleImputer(), ['mes']),\n",
       "                                ('impute_sin_time',\n",
       "                                 SimpleImputer(strategy='median'),\n",
       "                                 ['sin_time']),\n",
       "                                ('impute_cos_time',\n",
       "                                 SimpleImputer(strategy='median'),\n",
       "                                 ['cos_time'])],\n",
       "                  verbose=True)"
      ]
     },
     "execution_count": 10,
     "metadata": {},
     "output_type": "execute_result"
    }
   ],
   "source": [
    "col_trans.fit(c5_inputs)"
   ]
  },
  {
   "cell_type": "code",
   "execution_count": 11,
   "metadata": {},
   "outputs": [],
   "source": [
    "c5_input_vars = col_trans.transform(c5_inputs)"
   ]
  },
  {
   "cell_type": "code",
   "execution_count": 12,
   "metadata": {},
   "outputs": [
    {
     "data": {
      "text/plain": [
       "(1382537, 40)"
      ]
     },
     "execution_count": 12,
     "metadata": {},
     "output_type": "execute_result"
    }
   ],
   "source": [
    "c5_input_vars.shape"
   ]
  },
  {
   "cell_type": "markdown",
   "metadata": {},
   "source": [
    "### Definimos la matriz de las variables para la prediccion y la etiqueta que queremos predecir"
   ]
  },
  {
   "cell_type": "code",
   "execution_count": 13,
   "metadata": {},
   "outputs": [],
   "source": [
    "X = c5_input_vars\n",
    "y = c5_inputs.label.values.reshape(c5_input_vars.shape[0],)"
   ]
  },
  {
   "cell_type": "markdown",
   "metadata": {},
   "source": [
    "### Aplicamos Grid Search para comparar distintos modelos"
   ]
  },
  {
   "cell_type": "code",
   "execution_count": 14,
   "metadata": {},
   "outputs": [
    {
     "name": "stdout",
     "output_type": "stream",
     "text": [
      "Tiempo en ejecutar:  126.81489825248718\n"
     ]
    },
    {
     "name": "stderr",
     "output_type": "stream",
     "text": [
      "C:\\Users\\diego172\\Miniconda3\\lib\\site-packages\\sklearn\\ensemble\\_forest.py:540: UserWarning: Some inputs do not have OOB scores. This probably means too few trees were used to compute any reliable oob estimates.\n",
      "  warn(\"Some inputs do not have OOB scores. \"\n",
      "C:\\Users\\diego172\\Miniconda3\\lib\\site-packages\\sklearn\\ensemble\\_forest.py:545: RuntimeWarning: invalid value encountered in true_divide\n",
      "  predictions[k].sum(axis=1)[:, np.newaxis])\n"
     ]
    }
   ],
   "source": [
    "import time \n",
    "\n",
    "from sklearn.model_selection import GridSearchCV\n",
    "from sklearn.model_selection import train_test_split\n",
    "from sklearn.ensemble import RandomForestClassifier\n",
    "from sklearn.model_selection import TimeSeriesSplit\n",
    "\n",
    "# ocuparemos un RF\n",
    "classifier = RandomForestClassifier(oob_score=True, random_state=1234)\n",
    "# separando en train, test\n",
    "X_train, X_test, y_train, y_test = train_test_split(X, y)\n",
    "\n",
    "# definicion de los hiperparametros que queremos probar\n",
    "hyper_param_grid = {'n_estimators': [10,20], \n",
    "                    'max_depth': [1, 2, 5],\n",
    "                    'min_samples_split': [2, 4]}\n",
    "\n",
    "#Time Series cross-validator\n",
    "tscv = TimeSeriesSplit(n_splits=8)\n",
    "\n",
    "# ocupemos grid search!\n",
    "gs = GridSearchCV(classifier, \n",
    "                           hyper_param_grid, \n",
    "                           scoring = 'precision',\n",
    "                           cv = tscv,\n",
    "                            \n",
    "                           n_jobs = -1)\n",
    "start_time = time.time()\n",
    "gs.fit(X_train, y_train)\n",
    "print(\"Tiempo en ejecutar: \", time.time() - start_time)"
   ]
  },
  {
   "cell_type": "code",
   "execution_count": 15,
   "metadata": {},
   "outputs": [
    {
     "data": {
      "text/plain": [
       "{'mean_fit_time': array([ 5.72581816, 10.99703783,  5.93049935, 11.36237344,  7.59294406,\n",
       "        14.77605516,  7.66476271, 13.9409686 , 13.76878917, 25.27077675,\n",
       "        13.45017898, 17.49003085]),\n",
       " 'std_fit_time': array([ 3.08795971,  6.19739259,  3.15971203,  5.84513037,  4.02793909,\n",
       "         7.86912744,  4.19078146,  7.79181041,  7.66902139, 13.05536992,\n",
       "         7.25981644,  6.32797113]),\n",
       " 'mean_score_time': array([0.26818338, 0.42112455, 0.28217411, 0.42300999, 0.28319395,\n",
       "        0.45112866, 0.2712383 , 0.4108527 , 0.27538985, 0.43276259,\n",
       "        0.26378855, 0.29296055]),\n",
       " 'std_score_time': array([0.02807613, 0.04967294, 0.03234924, 0.03100486, 0.03960867,\n",
       "        0.04818639, 0.01715537, 0.0152148 , 0.02090779, 0.10256445,\n",
       "        0.03244828, 0.12219257]),\n",
       " 'param_max_depth': masked_array(data=[1, 1, 1, 1, 2, 2, 2, 2, 5, 5, 5, 5],\n",
       "              mask=[False, False, False, False, False, False, False, False,\n",
       "                    False, False, False, False],\n",
       "        fill_value='?',\n",
       "             dtype=object),\n",
       " 'param_min_samples_split': masked_array(data=[2, 2, 4, 4, 2, 2, 4, 4, 2, 2, 4, 4],\n",
       "              mask=[False, False, False, False, False, False, False, False,\n",
       "                    False, False, False, False],\n",
       "        fill_value='?',\n",
       "             dtype=object),\n",
       " 'param_n_estimators': masked_array(data=[10, 20, 10, 20, 10, 20, 10, 20, 10, 20, 10, 20],\n",
       "              mask=[False, False, False, False, False, False, False, False,\n",
       "                    False, False, False, False],\n",
       "        fill_value='?',\n",
       "             dtype=object),\n",
       " 'params': [{'max_depth': 1, 'min_samples_split': 2, 'n_estimators': 10},\n",
       "  {'max_depth': 1, 'min_samples_split': 2, 'n_estimators': 20},\n",
       "  {'max_depth': 1, 'min_samples_split': 4, 'n_estimators': 10},\n",
       "  {'max_depth': 1, 'min_samples_split': 4, 'n_estimators': 20},\n",
       "  {'max_depth': 2, 'min_samples_split': 2, 'n_estimators': 10},\n",
       "  {'max_depth': 2, 'min_samples_split': 2, 'n_estimators': 20},\n",
       "  {'max_depth': 2, 'min_samples_split': 4, 'n_estimators': 10},\n",
       "  {'max_depth': 2, 'min_samples_split': 4, 'n_estimators': 20},\n",
       "  {'max_depth': 5, 'min_samples_split': 2, 'n_estimators': 10},\n",
       "  {'max_depth': 5, 'min_samples_split': 2, 'n_estimators': 20},\n",
       "  {'max_depth': 5, 'min_samples_split': 4, 'n_estimators': 10},\n",
       "  {'max_depth': 5, 'min_samples_split': 4, 'n_estimators': 20}],\n",
       " 'split0_test_score': array([0.        , 0.        , 0.        , 0.        , 0.        ,\n",
       "        0.        , 0.        , 0.        , 0.99200913, 0.99885057,\n",
       "        0.99200913, 0.99885057]),\n",
       " 'split1_test_score': array([0.        , 0.        , 0.        , 0.        , 0.        ,\n",
       "        0.        , 0.        , 0.        , 0.9989083 , 0.99890471,\n",
       "        0.9989083 , 0.99890471]),\n",
       " 'split2_test_score': array([0., 0., 0., 0., 0., 0., 0., 0., 1., 1., 1., 1.]),\n",
       " 'split3_test_score': array([0., 0., 0., 0., 0., 0., 0., 0., 1., 1., 1., 1.]),\n",
       " 'split4_test_score': array([0.        , 0.        , 0.        , 0.        , 0.        ,\n",
       "        0.        , 0.        , 0.        , 0.99879808, 0.99880668,\n",
       "        0.99879808, 0.99880668]),\n",
       " 'split5_test_score': array([0., 0., 0., 0., 0., 0., 0., 0., 1., 1., 1., 1.]),\n",
       " 'split6_test_score': array([0., 0., 0., 0., 0., 0., 0., 0., 1., 1., 1., 1.]),\n",
       " 'split7_test_score': array([0., 0., 0., 0., 0., 0., 0., 0., 1., 1., 1., 1.]),\n",
       " 'mean_test_score': array([0.        , 0.        , 0.        , 0.        , 0.        ,\n",
       "        0.        , 0.        , 0.        , 0.99871444, 0.99957025,\n",
       "        0.99871444, 0.99957025]),\n",
       " 'std_test_score': array([0.        , 0.        , 0.        , 0.        , 0.        ,\n",
       "        0.        , 0.        , 0.        , 0.00258043, 0.00055535,\n",
       "        0.00258043, 0.00055535]),\n",
       " 'rank_test_score': array([5, 5, 5, 5, 5, 5, 5, 5, 3, 1, 3, 1])}"
      ]
     },
     "execution_count": 15,
     "metadata": {},
     "output_type": "execute_result"
    }
   ],
   "source": [
    "gs.cv_results_"
   ]
  },
  {
   "cell_type": "code",
   "execution_count": 16,
   "metadata": {},
   "outputs": [
    {
     "data": {
      "text/plain": [
       "{'max_depth': 5, 'min_samples_split': 2, 'n_estimators': 20}"
      ]
     },
     "execution_count": 16,
     "metadata": {},
     "output_type": "execute_result"
    }
   ],
   "source": [
    "gs.best_params_"
   ]
  },
  {
   "cell_type": "code",
   "execution_count": 17,
   "metadata": {},
   "outputs": [
    {
     "data": {
      "text/plain": [
       "0.9995702458797866"
      ]
     },
     "execution_count": 17,
     "metadata": {},
     "output_type": "execute_result"
    }
   ],
   "source": [
    "gs.best_score_"
   ]
  },
  {
   "cell_type": "code",
   "execution_count": 18,
   "metadata": {},
   "outputs": [
    {
     "data": {
      "text/plain": [
       "RandomForestClassifier(max_depth=5, n_estimators=20, oob_score=True,\n",
       "                       random_state=1234)"
      ]
     },
     "execution_count": 18,
     "metadata": {},
     "output_type": "execute_result"
    }
   ],
   "source": [
    "gs.best_estimator_"
   ]
  },
  {
   "cell_type": "code",
   "execution_count": 19,
   "metadata": {},
   "outputs": [
    {
     "data": {
      "text/plain": [
       "0.802897477292936"
      ]
     },
     "execution_count": 19,
     "metadata": {},
     "output_type": "execute_result"
    }
   ],
   "source": [
    "gs.best_estimator_.oob_score_"
   ]
  },
  {
   "cell_type": "markdown",
   "metadata": {},
   "source": [
    "### De los mejores estimadores creamos el modelo para la nuectros valores de prueba"
   ]
  },
  {
   "cell_type": "code",
   "execution_count": 20,
   "metadata": {},
   "outputs": [],
   "source": [
    "rfc=RandomForestClassifier(random_state=1234, min_samples_split=2, n_estimators= 20, max_depth=5)\n",
    "rfc.fit(X_train, y_train)\n",
    "pred=rfc.predict(X_test)"
   ]
  },
  {
   "cell_type": "markdown",
   "metadata": {},
   "source": [
    "### Vemos su Accuracy "
   ]
  },
  {
   "cell_type": "code",
   "execution_count": 21,
   "metadata": {},
   "outputs": [
    {
     "name": "stdout",
     "output_type": "stream",
     "text": [
      "Accuracy for Random Forest on CV data:  0.804322478915619\n"
     ]
    }
   ],
   "source": [
    "from sklearn.metrics import accuracy_score\n",
    "print(\"Accuracy for Random Forest on CV data: \",accuracy_score(y_test,pred))"
   ]
  },
  {
   "cell_type": "code",
   "execution_count": 22,
   "metadata": {},
   "outputs": [],
   "source": [
    "importance = gs.best_estimator_.feature_importances_"
   ]
  },
  {
   "cell_type": "markdown",
   "metadata": {},
   "source": [
    "### Buscamos las variables que aportan mas al modelo"
   ]
  },
  {
   "cell_type": "code",
   "execution_count": 23,
   "metadata": {},
   "outputs": [
    {
     "name": "stdout",
     "output_type": "stream",
     "text": [
      "Feature: 0, Score: 0.00024\n",
      "Feature: 1, Score: 0.00000\n",
      "Feature: 2, Score: 0.00004\n",
      "Feature: 3, Score: 0.00002\n",
      "Feature: 4, Score: 0.00002\n",
      "Feature: 5, Score: 0.00004\n",
      "Feature: 6, Score: 0.00066\n",
      "Feature: 7, Score: 0.00004\n",
      "Feature: 8, Score: 0.00093\n",
      "Feature: 9, Score: 0.00072\n",
      "Feature: 10, Score: 0.00002\n",
      "Feature: 11, Score: 0.01111\n",
      "Feature: 12, Score: 0.01480\n",
      "Feature: 13, Score: 0.00029\n",
      "Feature: 14, Score: 0.00003\n",
      "Feature: 15, Score: 0.00280\n",
      "Feature: 16, Score: 0.00076\n",
      "Feature: 17, Score: 0.00009\n",
      "Feature: 18, Score: 0.00000\n",
      "Feature: 19, Score: 0.00054\n",
      "Feature: 20, Score: 0.00479\n",
      "Feature: 21, Score: 0.00005\n",
      "Feature: 22, Score: 0.00070\n",
      "Feature: 23, Score: 0.00156\n",
      "Feature: 24, Score: 0.17378\n",
      "Feature: 25, Score: 0.28076\n",
      "Feature: 26, Score: 0.25124\n",
      "Feature: 27, Score: 0.00000\n",
      "Feature: 28, Score: 0.09757\n",
      "Feature: 29, Score: 0.00149\n",
      "Feature: 30, Score: 0.00001\n",
      "Feature: 31, Score: 0.01437\n",
      "Feature: 32, Score: 0.01680\n",
      "Feature: 33, Score: 0.06491\n",
      "Feature: 34, Score: 0.00619\n",
      "Feature: 35, Score: 0.00000\n",
      "Feature: 36, Score: 0.03041\n",
      "Feature: 37, Score: 0.00039\n",
      "Feature: 38, Score: 0.01369\n",
      "Feature: 39, Score: 0.00813\n"
     ]
    }
   ],
   "source": [
    "for i,v in enumerate(importance):\n",
    "\tprint('Feature: %0d, Score: %.5f' % (i,v))"
   ]
  },
  {
   "cell_type": "code",
   "execution_count": 24,
   "metadata": {},
   "outputs": [
    {
     "data": {
      "image/png": "[encoded data removed]",
      "text/plain": [
       "<Figure size 432x288 with 1 Axes>"
      ]
     },
     "metadata": {
      "needs_background": "light"
     },
     "output_type": "display_data"
    }
   ],
   "source": [
    "pyplot.bar([x for x in range(len(importance))], importance)\n",
    "pyplot.show()"
   ]
  },
  {
   "cell_type": "markdown",
   "metadata": {},
   "source": [
    "### Vemos los nombres de las variables que aportan mas al modelo."
   ]
  },
  {
   "cell_type": "code",
   "execution_count": 25,
   "metadata": {
    "scrolled": true
   },
   "outputs": [
    {
     "name": "stderr",
     "output_type": "stream",
     "text": [
      "C:\\Users\\diego172\\Miniconda3\\lib\\site-packages\\ipykernel_launcher.py:3: SettingWithCopyWarning: \n",
      "A value is trying to be set on a copy of a slice from a DataFrame.\n",
      "Try using .loc[row_indexer,col_indexer] = value instead\n",
      "\n",
      "See the caveats in the documentation: https://pandas.pydata.org/pandas-docs/stable/user_guide/indexing.html#returning-a-view-versus-a-copy\n",
      "  This is separate from the ipykernel package so we can avoid doing imports until\n"
     ]
    },
    {
     "data": {
      "text/html": [
       "<div>\n",
       "<style scoped>\n",
       "    .dataframe tbody tr th:only-of-type {\n",
       "        vertical-align: middle;\n",
       "    }\n",
       "\n",
       "    .dataframe tbody tr th {\n",
       "        vertical-align: top;\n",
       "    }\n",
       "\n",
       "    .dataframe thead th {\n",
       "        text-align: right;\n",
       "    }\n",
       "</style>\n",
       "<table border=\"1\" class=\"dataframe\">\n",
       "  <thead>\n",
       "    <tr style=\"text-align: right;\">\n",
       "      <th></th>\n",
       "      <th>importance</th>\n",
       "      <th>col_name</th>\n",
       "    </tr>\n",
       "  </thead>\n",
       "  <tbody>\n",
       "    <tr>\n",
       "      <th>25</th>\n",
       "      <td>28%</td>\n",
       "      <td>FALSA ALARMA</td>\n",
       "    </tr>\n",
       "    <tr>\n",
       "      <th>26</th>\n",
       "      <td>25%</td>\n",
       "      <td>DELITO</td>\n",
       "    </tr>\n",
       "    <tr>\n",
       "      <th>24</th>\n",
       "      <td>17%</td>\n",
       "      <td>URGENCIAS MEDICAS</td>\n",
       "    </tr>\n",
       "    <tr>\n",
       "      <th>28</th>\n",
       "      <td>10%</td>\n",
       "      <td>CÁMARA</td>\n",
       "    </tr>\n",
       "  </tbody>\n",
       "</table>\n",
       "</div>"
      ],
      "text/plain": [
       "   importance           col_name\n",
       "25        28%       FALSA ALARMA\n",
       "26        25%             DELITO\n",
       "24        17%  URGENCIAS MEDICAS\n",
       "28        10%             CÁMARA"
      ]
     },
     "execution_count": 25,
     "metadata": {},
     "output_type": "execute_result"
    }
   ],
   "source": [
    "dataset_2 = pd.DataFrame({'importance': importance, 'col_name': names}).sort_values(by='importance',ascending=False)\n",
    "dataset_3 = dataset_2[dataset_2['importance']>=0.07]\n",
    "dataset_3['importance'] = pd.Series([\"{0:.0f}%\".format(val * 100) for val in dataset_3['importance']], index = dataset_3.index)\n",
    "dataset_3"
   ]
  },
  {
   "cell_type": "code",
   "execution_count": 55,
   "metadata": {},
   "outputs": [],
   "source": [
    "import scipy.sparse"
   ]
  },
  {
   "cell_type": "code",
   "execution_count": 67,
   "metadata": {},
   "outputs": [],
   "source": [
    "df=pd.DataFrame.sparse.from_spmatrix(c5_input_vars)\n",
    "df.columns=names\n",
    "df['y']=c5_inputs.label.values.reshape(c5_input_vars.shape[0],)"
   ]
  },
  {
   "cell_type": "code",
   "execution_count": 84,
   "metadata": {},
   "outputs": [],
   "source": [
    "selection=list(dataset_3.col_name.values)\n",
    "selection.append('y')"
   ]
  },
  {
   "cell_type": "code",
   "execution_count": 86,
   "metadata": {},
   "outputs": [],
   "source": [
    "path = 'output/variables_df.pkl'\n",
    "utils.save_df(df[selection], path)\n"
   ]
  },
  {
   "cell_type": "markdown",
   "metadata": {},
   "source": [
    "## Borrar desde Aquí"
   ]
  },
  {
   "cell_type": "code",
   "execution_count": 123,
   "metadata": {},
   "outputs": [],
   "source": [
    "def load_features(path):\n",
    "     return utils.load_df(path)"
   ]
  },
  {
   "cell_type": "code",
   "execution_count": 124,
   "metadata": {},
   "outputs": [],
   "source": [
    "def save_models(df):\n",
    "    #os.chdir('../')\n",
    "    path = 'output/model_loop.pkl'\n",
    "    utils.save_df(df, path)"
   ]
  },
  {
   "cell_type": "code",
   "execution_count": 125,
   "metadata": {},
   "outputs": [],
   "source": [
    "def magic_loop(algorithms, df):\n",
    "    \n",
    "    y = df['y']\n",
    "    X = df.drop('y', axis=1)\n",
    "    X_train, X_test, y_train, y_test = train_test_split(X, y)\n",
    "    features = X_train\n",
    "    labels = y_train\n",
    "    \n",
    "    estimators_dict = {'tree': DecisionTreeClassifier(random_state=123),\n",
    "                  'random_forest': RandomForestClassifier(oob_score=True, random_state=123)}\n",
    "    \n",
    "    algorithms_dict = {'tree': 'tree_grid_search',\n",
    "                  'random_forest': 'rf_grid_search'}\n",
    "    \n",
    "    grid_search_dict = {'tree_grid_search': {'max_depth': [1,2,5,None], \n",
    "                                         'min_samples_leaf': [2,4]},\n",
    "                   'rf_grid_search': {'n_estimators': [10,20],  \n",
    "                                      'max_depth': [1,2,5,None], \n",
    "                                      'min_samples_leaf': [2,4]}}\n",
    "    \n",
    "    best_estimators = []\n",
    "    for algorithm in algorithms:\n",
    "        estimator = estimators_dict[algorithm]\n",
    "        grid_search_to_look = algorithms_dict[algorithm]\n",
    "        grid_params = grid_search_dict[grid_search_to_look]\n",
    "        \n",
    "        #Time Series cross-validator\n",
    "        tscv = TimeSeriesSplit(n_splits=8)\n",
    "        \n",
    "        gs = GridSearchCV(estimator, grid_params, scoring='precision', cv=tscv, n_jobs=-1)\n",
    "        \n",
    "        #train\n",
    "        gs.fit(features, labels)\n",
    "        #best estimator\n",
    "        best_estimators.append(gs)\n",
    "        \n",
    "        \n",
    "    return best_estimators"
   ]
  },
  {
   "cell_type": "code",
   "execution_count": 126,
   "metadata": {},
   "outputs": [],
   "source": [
    "def modeling(path):\n",
    "    df = load_features(path)\n",
    "    algorithms = ['tree','random_forest']\n",
    "    best = magic_loop(algorithms, df)\n",
    "    save_models(best)\n",
    "    "
   ]
  },
  {
   "cell_type": "code",
   "execution_count": null,
   "metadata": {},
   "outputs": [],
   "source": [
    "path = 'output/variables_df.pkl'"
   ]
  },
  {
   "cell_type": "code",
   "execution_count": 127,
   "metadata": {},
   "outputs": [
    {
     "name": "stderr",
     "output_type": "stream",
     "text": [
      "C:\\Users\\diego172\\Miniconda3\\lib\\site-packages\\sklearn\\ensemble\\_forest.py:540: UserWarning: Some inputs do not have OOB scores. This probably means too few trees were used to compute any reliable oob estimates.\n",
      "  warn(\"Some inputs do not have OOB scores. \"\n",
      "C:\\Users\\diego172\\Miniconda3\\lib\\site-packages\\sklearn\\ensemble\\_forest.py:545: RuntimeWarning: invalid value encountered in true_divide\n",
      "  predictions[k].sum(axis=1)[:, np.newaxis])\n"
     ]
    }
   ],
   "source": [
    "modeling(path)"
   ]
  }
 ],
 "metadata": {
  "kernelspec": {
   "display_name": "Python 3",
   "language": "python",
   "name": "python3"
  },
  "language_info": {
   "codemirror_mode": {
    "name": "ipython",
    "version": 3
   },
   "file_extension": ".py",
   "mimetype": "text/x-python",
   "name": "python",
   "nbconvert_exporter": "python",
   "pygments_lexer": "ipython3",
   "version": "3.7.9"
  }
 },
 "nbformat": 4,
 "nbformat_minor": 4
}
