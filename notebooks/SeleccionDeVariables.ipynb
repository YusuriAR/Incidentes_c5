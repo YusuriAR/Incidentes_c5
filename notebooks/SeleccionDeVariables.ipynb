{
 "cells": [
  {
   "cell_type": "code",
   "execution_count": 1,
   "metadata": {},
   "outputs": [],
   "source": [
    "import sys\n",
    "sys.path.append('./../')\n",
    "import src\n",
    "from src import proyecto_1\n",
    "from src.utils import utils\n",
    "import pandas as pd\n",
    "import numpy as np\n",
    "import os\n",
    "from sklearn.impute import SimpleImputer\n",
    "from sklearn.preprocessing import OneHotEncoder\n",
    "from sklearn.compose import ColumnTransformer\n",
    "from sklearn.feature_selection import VarianceThreshold\n",
    "from numpy import savetxt\n",
    "from matplotlib import pyplot"
   ]
  },
  {
   "cell_type": "code",
   "execution_count": 2,
   "metadata": {},
   "outputs": [
    {
     "name": "stderr",
     "output_type": "stream",
     "text": [
      "./../src/pipelines/feature_engineering.py:14: UserWarning: Pandas doesn't allow columns to be created via a new attribute name - see https://pandas.pydata.org/pandas-docs/stable/indexing.html#attribute-access\n",
      "  df.inputs = df.drop(['latitud', 'longitud', 'codigo_cierre','fecha_creacion','incidente_c4'], axis=1)\n"
     ]
    }
   ],
   "source": [
    "proyecto_1.main()"
   ]
  },
  {
   "cell_type": "code",
   "execution_count": 3,
   "metadata": {},
   "outputs": [],
   "source": [
    "c5_inputs = utils.load_df('output/fe_df.pkl')"
   ]
  },
  {
   "cell_type": "markdown",
   "metadata": {},
   "source": [
    "### Ordenamiento del dataframe de manera cronologica (De fecha mas antigua a mas reciente)"
   ]
  },
  {
   "cell_type": "code",
   "execution_count": 4,
   "metadata": {},
   "outputs": [],
   "source": [
    "c5_inputs = c5_inputs.sort_values(by=['año_creacion','mes'],ascending=True)"
   ]
  },
  {
   "cell_type": "code",
   "execution_count": 5,
   "metadata": {},
   "outputs": [
    {
     "data": {
      "text/plain": [
       "dia_semana               7\n",
       "delegacion_inicio       16\n",
       "clas_con_f_alarma        4\n",
       "tipo_entrada             9\n",
       "mes                     12\n",
       "label                    2\n",
       "año_creacion             8\n",
       "sin_time             76786\n",
       "cos_time             77399\n",
       "dtype: int64"
      ]
     },
     "execution_count": 5,
     "metadata": {},
     "output_type": "execute_result"
    }
   ],
   "source": [
    "c5_inputs.nunique()"
   ]
  },
  {
   "cell_type": "code",
   "execution_count": 6,
   "metadata": {},
   "outputs": [
    {
     "data": {
      "text/html": [
       "<div>\n",
       "<style scoped>\n",
       "    .dataframe tbody tr th:only-of-type {\n",
       "        vertical-align: middle;\n",
       "    }\n",
       "\n",
       "    .dataframe tbody tr th {\n",
       "        vertical-align: top;\n",
       "    }\n",
       "\n",
       "    .dataframe thead th {\n",
       "        text-align: right;\n",
       "    }\n",
       "</style>\n",
       "<table border=\"1\" class=\"dataframe\">\n",
       "  <thead>\n",
       "    <tr style=\"text-align: right;\">\n",
       "      <th></th>\n",
       "      <th>dia_semana</th>\n",
       "      <th>delegacion_inicio</th>\n",
       "      <th>clas_con_f_alarma</th>\n",
       "      <th>tipo_entrada</th>\n",
       "      <th>mes</th>\n",
       "      <th>label</th>\n",
       "      <th>año_creacion</th>\n",
       "      <th>sin_time</th>\n",
       "      <th>cos_time</th>\n",
       "    </tr>\n",
       "  </thead>\n",
       "  <tbody>\n",
       "    <tr>\n",
       "      <th>372610</th>\n",
       "      <td>Martes</td>\n",
       "      <td>IZTAPALAPA</td>\n",
       "      <td>EMERGENCIA</td>\n",
       "      <td>LLAMADA DEL 066</td>\n",
       "      <td>1</td>\n",
       "      <td>0</td>\n",
       "      <td>2013</td>\n",
       "      <td>-0.321921</td>\n",
       "      <td>0.946766</td>\n",
       "    </tr>\n",
       "    <tr>\n",
       "      <th>372616</th>\n",
       "      <td>Martes</td>\n",
       "      <td>IZTAPALAPA</td>\n",
       "      <td>EMERGENCIA</td>\n",
       "      <td>LLAMADA DEL 066</td>\n",
       "      <td>1</td>\n",
       "      <td>0</td>\n",
       "      <td>2013</td>\n",
       "      <td>-0.443788</td>\n",
       "      <td>0.896132</td>\n",
       "    </tr>\n",
       "    <tr>\n",
       "      <th>372626</th>\n",
       "      <td>Martes</td>\n",
       "      <td>CUAUHTEMOC</td>\n",
       "      <td>EMERGENCIA</td>\n",
       "      <td>LLAMADA DEL 066</td>\n",
       "      <td>1</td>\n",
       "      <td>0</td>\n",
       "      <td>2013</td>\n",
       "      <td>-0.438110</td>\n",
       "      <td>0.898922</td>\n",
       "    </tr>\n",
       "    <tr>\n",
       "      <th>372644</th>\n",
       "      <td>Martes</td>\n",
       "      <td>IZTACALCO</td>\n",
       "      <td>EMERGENCIA</td>\n",
       "      <td>CÁMARA</td>\n",
       "      <td>1</td>\n",
       "      <td>0</td>\n",
       "      <td>2013</td>\n",
       "      <td>-0.241710</td>\n",
       "      <td>0.970348</td>\n",
       "    </tr>\n",
       "    <tr>\n",
       "      <th>372652</th>\n",
       "      <td>Martes</td>\n",
       "      <td>XOCHIMILCO</td>\n",
       "      <td>EMERGENCIA</td>\n",
       "      <td>LLAMADA DEL 066</td>\n",
       "      <td>1</td>\n",
       "      <td>0</td>\n",
       "      <td>2013</td>\n",
       "      <td>-0.678213</td>\n",
       "      <td>0.734865</td>\n",
       "    </tr>\n",
       "  </tbody>\n",
       "</table>\n",
       "</div>"
      ],
      "text/plain": [
       "       dia_semana delegacion_inicio clas_con_f_alarma     tipo_entrada mes  \\\n",
       "372610     Martes        IZTAPALAPA        EMERGENCIA  LLAMADA DEL 066   1   \n",
       "372616     Martes        IZTAPALAPA        EMERGENCIA  LLAMADA DEL 066   1   \n",
       "372626     Martes        CUAUHTEMOC        EMERGENCIA  LLAMADA DEL 066   1   \n",
       "372644     Martes         IZTACALCO        EMERGENCIA           CÁMARA   1   \n",
       "372652     Martes        XOCHIMILCO        EMERGENCIA  LLAMADA DEL 066   1   \n",
       "\n",
       "        label  año_creacion  sin_time  cos_time  \n",
       "372610      0          2013 -0.321921  0.946766  \n",
       "372616      0          2013 -0.443788  0.896132  \n",
       "372626      0          2013 -0.438110  0.898922  \n",
       "372644      0          2013 -0.241710  0.970348  \n",
       "372652      0          2013 -0.678213  0.734865  "
      ]
     },
     "execution_count": 6,
     "metadata": {},
     "output_type": "execute_result"
    }
   ],
   "source": [
    "c5_inputs.head()"
   ]
  },
  {
   "cell_type": "markdown",
   "metadata": {},
   "source": [
    "### Definimos los nombres de las variables que vamos a usar"
   ]
  },
  {
   "cell_type": "code",
   "execution_count": 7,
   "metadata": {},
   "outputs": [],
   "source": [
    "names=np.array(c5_inputs.dia_semana.unique())\n",
    "names=np.append(names,np.array(c5_inputs.delegacion_inicio.unique()))\n",
    "names=np.append(names,np.array(c5_inputs.clas_con_f_alarma.unique()))\n",
    "names=np.append(names,np.array(c5_inputs.tipo_entrada.unique()))\n",
    "names=np.append(names,np.array(['año','mes','sin_time', 'cos_time']))"
   ]
  },
  {
   "cell_type": "markdown",
   "metadata": {},
   "source": [
    "### Definimos los transformadores de las variables categoricas y la imputacion de datos con la media de coseno y seno del tiempo"
   ]
  },
  {
   "cell_type": "code",
   "execution_count": 8,
   "metadata": {},
   "outputs": [],
   "source": [
    "transformers = [('one_hot', OneHotEncoder(), [ 'dia_semana','delegacion_inicio','clas_con_f_alarma','tipo_entrada']),\n",
    "               ('año', SimpleImputer(strategy=\"mean\"), ['año_creacion']),\n",
    "               ('mes', SimpleImputer(strategy=\"mean\"), ['mes']),\n",
    "               ('impute_sin_time', SimpleImputer(strategy=\"median\"), ['sin_time']),\n",
    "               ('impute_cos_time', SimpleImputer(strategy=\"median\"), ['cos_time'])]"
   ]
  },
  {
   "cell_type": "code",
   "execution_count": 9,
   "metadata": {},
   "outputs": [],
   "source": [
    "col_trans = ColumnTransformer(transformers, remainder=\"drop\", n_jobs=-1, verbose=True)\n",
    "#col_trans = ColumnTransformer(transformers, n_jobs=-1, verbose=True)"
   ]
  },
  {
   "cell_type": "code",
   "execution_count": 10,
   "metadata": {},
   "outputs": [
    {
     "data": {
      "text/plain": [
       "ColumnTransformer(n_jobs=-1,\n",
       "                  transformers=[('one_hot', OneHotEncoder(),\n",
       "                                 ['dia_semana', 'delegacion_inicio',\n",
       "                                  'clas_con_f_alarma', 'tipo_entrada']),\n",
       "                                ('año', SimpleImputer(), ['año_creacion']),\n",
       "                                ('mes', SimpleImputer(), ['mes']),\n",
       "                                ('impute_sin_time',\n",
       "                                 SimpleImputer(strategy='median'),\n",
       "                                 ['sin_time']),\n",
       "                                ('impute_cos_time',\n",
       "                                 SimpleImputer(strategy='median'),\n",
       "                                 ['cos_time'])],\n",
       "                  verbose=True)"
      ]
     },
     "execution_count": 10,
     "metadata": {},
     "output_type": "execute_result"
    }
   ],
   "source": [
    "col_trans.fit(c5_inputs)"
   ]
  },
  {
   "cell_type": "code",
   "execution_count": 11,
   "metadata": {},
   "outputs": [],
   "source": [
    "c5_input_vars = col_trans.transform(c5_inputs)"
   ]
  },
  {
   "cell_type": "code",
   "execution_count": 12,
   "metadata": {},
   "outputs": [
    {
     "data": {
      "text/plain": [
       "(1382537, 40)"
      ]
     },
     "execution_count": 12,
     "metadata": {},
     "output_type": "execute_result"
    }
   ],
   "source": [
    "c5_input_vars.shape"
   ]
  },
  {
   "cell_type": "markdown",
   "metadata": {},
   "source": [
    "### Definimos la matriz de las variables para la prediccion y la etiqueta que queremos predecir"
   ]
  },
  {
   "cell_type": "code",
   "execution_count": 13,
   "metadata": {},
   "outputs": [],
   "source": [
    "X = c5_input_vars\n",
    "y = c5_inputs.label.values.reshape(c5_input_vars.shape[0],)"
   ]
  },
  {
   "cell_type": "markdown",
   "metadata": {},
   "source": [
    "### Aplicamos Grid Search para comparar distintos modelos"
   ]
  },
  {
   "cell_type": "code",
   "execution_count": 14,
   "metadata": {},
   "outputs": [
    {
     "name": "stdout",
     "output_type": "stream",
     "text": [
      "Tiempo en ejecutar:  103.60092902183533\n"
     ]
    },
    {
     "name": "stderr",
     "output_type": "stream",
     "text": [
      "/Users/yedam/.pyenv/versions/3.7.4/envs/itam_intro_to_ds/lib/python3.7/site-packages/sklearn/ensemble/_forest.py:540: UserWarning: Some inputs do not have OOB scores. This probably means too few trees were used to compute any reliable oob estimates.\n",
      "  warn(\"Some inputs do not have OOB scores. \"\n",
      "/Users/yedam/.pyenv/versions/3.7.4/envs/itam_intro_to_ds/lib/python3.7/site-packages/sklearn/ensemble/_forest.py:545: RuntimeWarning: invalid value encountered in true_divide\n",
      "  predictions[k].sum(axis=1)[:, np.newaxis])\n"
     ]
    }
   ],
   "source": [
    "import time \n",
    "\n",
    "from sklearn.model_selection import GridSearchCV\n",
    "from sklearn.model_selection import train_test_split\n",
    "from sklearn.ensemble import RandomForestClassifier\n",
    "from sklearn.model_selection import TimeSeriesSplit\n",
    "\n",
    "# ocuparemos un RF\n",
    "classifier = RandomForestClassifier(oob_score=True, random_state=1234)\n",
    "# separando en train, test\n",
    "X_train, X_test, y_train, y_test = train_test_split(X, y)\n",
    "\n",
    "# definicion de los hiperparametros que queremos probar\n",
    "hyper_param_grid = {'n_estimators': [10,20], \n",
    "                    'max_depth': [1, 2, 5],\n",
    "                    'min_samples_split': [2, 4]}\n",
    "\n",
    "#Time Series cross-validator\n",
    "tscv = TimeSeriesSplit(n_splits=8)\n",
    "\n",
    "# ocupemos grid search!\n",
    "gs = GridSearchCV(classifier, \n",
    "                           hyper_param_grid, \n",
    "                           scoring = 'precision',\n",
    "                           cv = tscv,\n",
    "                            \n",
    "                           n_jobs = -1)\n",
    "start_time = time.time()\n",
    "gs.fit(X_train, y_train)\n",
    "print(\"Tiempo en ejecutar: \", time.time() - start_time)"
   ]
  },
  {
   "cell_type": "code",
   "execution_count": 15,
   "metadata": {},
   "outputs": [
    {
     "data": {
      "text/plain": [
       "{'mean_fit_time': array([ 2.8278901 ,  5.42104703,  3.03681961,  5.23435163,  3.76523039,\n",
       "         7.55499843,  4.38808   ,  7.43980664,  7.56755063, 13.4435952 ,\n",
       "         6.92745784,  9.84550893]),\n",
       " 'std_fit_time': array([1.43499871, 3.01829716, 1.50964081, 2.80048966, 2.07467635,\n",
       "        4.29177182, 2.46097547, 3.91974542, 3.91692399, 7.06775369,\n",
       "        3.47607099, 4.14421341]),\n",
       " 'mean_score_time': array([0.20639622, 0.34316412, 0.19440657, 0.29494557, 0.21007824,\n",
       "        0.34650221, 0.23424932, 0.33457869, 0.22867924, 0.34686294,\n",
       "        0.23137686, 0.23007947]),\n",
       " 'std_score_time': array([0.02743006, 0.1416939 , 0.01592867, 0.04732543, 0.03837611,\n",
       "        0.05000455, 0.02323826, 0.04833189, 0.01983002, 0.03816393,\n",
       "        0.01708204, 0.06168487]),\n",
       " 'param_max_depth': masked_array(data=[1, 1, 1, 1, 2, 2, 2, 2, 5, 5, 5, 5],\n",
       "              mask=[False, False, False, False, False, False, False, False,\n",
       "                    False, False, False, False],\n",
       "        fill_value='?',\n",
       "             dtype=object),\n",
       " 'param_min_samples_split': masked_array(data=[2, 2, 4, 4, 2, 2, 4, 4, 2, 2, 4, 4],\n",
       "              mask=[False, False, False, False, False, False, False, False,\n",
       "                    False, False, False, False],\n",
       "        fill_value='?',\n",
       "             dtype=object),\n",
       " 'param_n_estimators': masked_array(data=[10, 20, 10, 20, 10, 20, 10, 20, 10, 20, 10, 20],\n",
       "              mask=[False, False, False, False, False, False, False, False,\n",
       "                    False, False, False, False],\n",
       "        fill_value='?',\n",
       "             dtype=object),\n",
       " 'params': [{'max_depth': 1, 'min_samples_split': 2, 'n_estimators': 10},\n",
       "  {'max_depth': 1, 'min_samples_split': 2, 'n_estimators': 20},\n",
       "  {'max_depth': 1, 'min_samples_split': 4, 'n_estimators': 10},\n",
       "  {'max_depth': 1, 'min_samples_split': 4, 'n_estimators': 20},\n",
       "  {'max_depth': 2, 'min_samples_split': 2, 'n_estimators': 10},\n",
       "  {'max_depth': 2, 'min_samples_split': 2, 'n_estimators': 20},\n",
       "  {'max_depth': 2, 'min_samples_split': 4, 'n_estimators': 10},\n",
       "  {'max_depth': 2, 'min_samples_split': 4, 'n_estimators': 20},\n",
       "  {'max_depth': 5, 'min_samples_split': 2, 'n_estimators': 10},\n",
       "  {'max_depth': 5, 'min_samples_split': 2, 'n_estimators': 20},\n",
       "  {'max_depth': 5, 'min_samples_split': 4, 'n_estimators': 10},\n",
       "  {'max_depth': 5, 'min_samples_split': 4, 'n_estimators': 20}],\n",
       " 'split0_test_score': array([0., 0., 0., 0., 0., 0., 0., 0., 1., 1., 1., 1.]),\n",
       " 'split1_test_score': array([0., 0., 0., 0., 0., 0., 0., 0., 1., 1., 1., 1.]),\n",
       " 'split2_test_score': array([0.        , 0.        , 0.        , 0.        , 0.        ,\n",
       "        0.        , 0.        , 0.        , 0.99884393, 0.99884393,\n",
       "        0.99884393, 0.99884393]),\n",
       " 'split3_test_score': array([0., 0., 0., 0., 0., 0., 0., 0., 1., 1., 1., 1.]),\n",
       " 'split4_test_score': array([0., 0., 0., 0., 0., 0., 0., 0., 1., 1., 1., 1.]),\n",
       " 'split5_test_score': array([0.        , 0.        , 0.        , 0.        , 0.        ,\n",
       "        0.        , 0.        , 0.        , 0.99890231, 0.99892473,\n",
       "        0.99890231, 0.99892473]),\n",
       " 'split6_test_score': array([0., 0., 0., 0., 0., 0., 0., 0., 1., 1., 1., 1.]),\n",
       " 'split7_test_score': array([0.        , 0.        , 0.        , 0.        , 0.        ,\n",
       "        0.        , 0.        , 0.        , 0.998779  , 0.99885975,\n",
       "        0.998779  , 0.99885975]),\n",
       " 'mean_test_score': array([0.        , 0.        , 0.        , 0.        , 0.        ,\n",
       "        0.        , 0.        , 0.        , 0.99956565, 0.99957855,\n",
       "        0.99956565, 0.99957855]),\n",
       " 'std_test_score': array([0.        , 0.        , 0.        , 0.        , 0.        ,\n",
       "        0.        , 0.        , 0.        , 0.00056159, 0.00054451,\n",
       "        0.00056159, 0.00054451]),\n",
       " 'rank_test_score': array([5, 5, 5, 5, 5, 5, 5, 5, 3, 1, 3, 1], dtype=int32)}"
      ]
     },
     "execution_count": 15,
     "metadata": {},
     "output_type": "execute_result"
    }
   ],
   "source": [
    "gs.cv_results_"
   ]
  },
  {
   "cell_type": "code",
   "execution_count": 16,
   "metadata": {},
   "outputs": [
    {
     "data": {
      "text/plain": [
       "{'max_depth': 5, 'min_samples_split': 2, 'n_estimators': 20}"
      ]
     },
     "execution_count": 16,
     "metadata": {},
     "output_type": "execute_result"
    }
   ],
   "source": [
    "gs.best_params_"
   ]
  },
  {
   "cell_type": "code",
   "execution_count": 17,
   "metadata": {},
   "outputs": [
    {
     "data": {
      "text/plain": [
       "0.9995785513704307"
      ]
     },
     "execution_count": 17,
     "metadata": {},
     "output_type": "execute_result"
    }
   ],
   "source": [
    "gs.best_score_"
   ]
  },
  {
   "cell_type": "code",
   "execution_count": 18,
   "metadata": {},
   "outputs": [
    {
     "data": {
      "text/plain": [
       "RandomForestClassifier(max_depth=5, n_estimators=20, oob_score=True,\n",
       "                       random_state=1234)"
      ]
     },
     "execution_count": 18,
     "metadata": {},
     "output_type": "execute_result"
    }
   ],
   "source": [
    "gs.best_estimator_"
   ]
  },
  {
   "cell_type": "code",
   "execution_count": 19,
   "metadata": {},
   "outputs": [
    {
     "data": {
      "text/plain": [
       "0.8033623235368434"
      ]
     },
     "execution_count": 19,
     "metadata": {},
     "output_type": "execute_result"
    }
   ],
   "source": [
    "gs.best_estimator_.oob_score_"
   ]
  },
  {
   "cell_type": "markdown",
   "metadata": {},
   "source": [
    "### De los mejores estimadores creamos el modelo para la nuectros valores de prueba"
   ]
  },
  {
   "cell_type": "code",
   "execution_count": 26,
   "metadata": {},
   "outputs": [],
   "source": [
    "rfc=RandomForestClassifier(random_state=1234, min_samples_split=2, n_estimators= 20, max_depth=5)\n",
    "rfc.fit(X_train, y_train)\n",
    "pred=rfc.predict(X_test)"
   ]
  },
  {
   "cell_type": "markdown",
   "metadata": {},
   "source": [
    "### Vemos su Accuracy "
   ]
  },
  {
   "cell_type": "code",
   "execution_count": 27,
   "metadata": {},
   "outputs": [
    {
     "name": "stdout",
     "output_type": "stream",
     "text": [
      "Accuracy for Random Forest on CV data:  0.8033995399771435\n"
     ]
    }
   ],
   "source": [
    "from sklearn.metrics import accuracy_score\n",
    "print(\"Accuracy for Random Forest on CV data: \",accuracy_score(y_test,pred))"
   ]
  },
  {
   "cell_type": "code",
   "execution_count": 28,
   "metadata": {},
   "outputs": [],
   "source": [
    "importance = gs.best_estimator_.feature_importances_"
   ]
  },
  {
   "cell_type": "markdown",
   "metadata": {},
   "source": [
    "### Buscamos las variables que aportan mas al modelo"
   ]
  },
  {
   "cell_type": "code",
   "execution_count": 29,
   "metadata": {},
   "outputs": [
    {
     "name": "stdout",
     "output_type": "stream",
     "text": [
      "Feature: 0, Score: 0.00021\n",
      "Feature: 1, Score: 0.00001\n",
      "Feature: 2, Score: 0.00001\n",
      "Feature: 3, Score: 0.00001\n",
      "Feature: 4, Score: 0.00005\n",
      "Feature: 5, Score: 0.00001\n",
      "Feature: 6, Score: 0.00056\n",
      "Feature: 7, Score: 0.00006\n",
      "Feature: 8, Score: 0.00080\n",
      "Feature: 9, Score: 0.00087\n",
      "Feature: 10, Score: 0.00002\n",
      "Feature: 11, Score: 0.01219\n",
      "Feature: 12, Score: 0.01547\n",
      "Feature: 13, Score: 0.00025\n",
      "Feature: 14, Score: 0.00003\n",
      "Feature: 15, Score: 0.00141\n",
      "Feature: 16, Score: 0.00143\n",
      "Feature: 17, Score: 0.00030\n",
      "Feature: 18, Score: 0.00005\n",
      "Feature: 19, Score: 0.00035\n",
      "Feature: 20, Score: 0.00373\n",
      "Feature: 21, Score: 0.00000\n",
      "Feature: 22, Score: 0.00032\n",
      "Feature: 23, Score: 0.00183\n",
      "Feature: 24, Score: 0.16812\n",
      "Feature: 25, Score: 0.26709\n",
      "Feature: 26, Score: 0.26932\n",
      "Feature: 27, Score: 0.00003\n",
      "Feature: 28, Score: 0.09150\n",
      "Feature: 29, Score: 0.00093\n",
      "Feature: 30, Score: 0.00000\n",
      "Feature: 31, Score: 0.02038\n",
      "Feature: 32, Score: 0.02020\n",
      "Feature: 33, Score: 0.06594\n",
      "Feature: 34, Score: 0.00632\n",
      "Feature: 35, Score: 0.00005\n",
      "Feature: 36, Score: 0.03216\n",
      "Feature: 37, Score: 0.00020\n",
      "Feature: 38, Score: 0.01278\n",
      "Feature: 39, Score: 0.00501\n"
     ]
    }
   ],
   "source": [
    "for i,v in enumerate(importance):\n",
    "\tprint('Feature: %0d, Score: %.5f' % (i,v))"
   ]
  },
  {
   "cell_type": "code",
   "execution_count": 30,
   "metadata": {},
   "outputs": [
    {
     "data": {
      "image/png": "[encoded data removed]",
      "text/plain": [
       "<Figure size 432x288 with 1 Axes>"
      ]
     },
     "metadata": {
      "needs_background": "light"
     },
     "output_type": "display_data"
    }
   ],
   "source": [
    "pyplot.bar([x for x in range(len(importance))], importance)\n",
    "pyplot.show()"
   ]
  },
  {
   "cell_type": "markdown",
   "metadata": {},
   "source": [
    "### Vemos los nombres de las variables que aportan mas al modelo."
   ]
  },
  {
   "cell_type": "code",
   "execution_count": 31,
   "metadata": {},
   "outputs": [
    {
     "name": "stderr",
     "output_type": "stream",
     "text": [
      "/Users/yedam/.pyenv/versions/3.7.4/envs/itam_intro_to_ds/lib/python3.7/site-packages/ipykernel_launcher.py:3: SettingWithCopyWarning: \n",
      "A value is trying to be set on a copy of a slice from a DataFrame.\n",
      "Try using .loc[row_indexer,col_indexer] = value instead\n",
      "\n",
      "See the caveats in the documentation: https://pandas.pydata.org/pandas-docs/stable/user_guide/indexing.html#returning-a-view-versus-a-copy\n",
      "  This is separate from the ipykernel package so we can avoid doing imports until\n"
     ]
    },
    {
     "data": {
      "text/html": [
       "<div>\n",
       "<style scoped>\n",
       "    .dataframe tbody tr th:only-of-type {\n",
       "        vertical-align: middle;\n",
       "    }\n",
       "\n",
       "    .dataframe tbody tr th {\n",
       "        vertical-align: top;\n",
       "    }\n",
       "\n",
       "    .dataframe thead th {\n",
       "        text-align: right;\n",
       "    }\n",
       "</style>\n",
       "<table border=\"1\" class=\"dataframe\">\n",
       "  <thead>\n",
       "    <tr style=\"text-align: right;\">\n",
       "      <th></th>\n",
       "      <th>importance</th>\n",
       "      <th>col_name</th>\n",
       "    </tr>\n",
       "  </thead>\n",
       "  <tbody>\n",
       "    <tr>\n",
       "      <th>26</th>\n",
       "      <td>27%</td>\n",
       "      <td>DELITO</td>\n",
       "    </tr>\n",
       "    <tr>\n",
       "      <th>25</th>\n",
       "      <td>27%</td>\n",
       "      <td>FALSA ALARMA</td>\n",
       "    </tr>\n",
       "    <tr>\n",
       "      <th>24</th>\n",
       "      <td>17%</td>\n",
       "      <td>URGENCIAS MEDICAS</td>\n",
       "    </tr>\n",
       "    <tr>\n",
       "      <th>28</th>\n",
       "      <td>9%</td>\n",
       "      <td>CÁMARA</td>\n",
       "    </tr>\n",
       "  </tbody>\n",
       "</table>\n",
       "</div>"
      ],
      "text/plain": [
       "   importance           col_name\n",
       "26        27%             DELITO\n",
       "25        27%       FALSA ALARMA\n",
       "24        17%  URGENCIAS MEDICAS\n",
       "28         9%             CÁMARA"
      ]
     },
     "execution_count": 31,
     "metadata": {},
     "output_type": "execute_result"
    }
   ],
   "source": [
    "dataset_2 = pd.DataFrame({'importance': importance, 'col_name': names}).sort_values(by='importance',ascending=False)\n",
    "dataset_3 = dataset_2[dataset_2['importance']>=0.07]\n",
    "dataset_3['importance'] = pd.Series([\"{0:.0f}%\".format(val * 100) for val in dataset_3['importance']], index = dataset_3.index)\n",
    "dataset_3"
   ]
  }
 ],
 "metadata": {
  "kernelspec": {
   "display_name": "Python 3",
   "language": "python",
   "name": "python3"
  },
  "language_info": {
   "codemirror_mode": {
    "name": "ipython",
    "version": 3
   },
   "file_extension": ".py",
   "mimetype": "text/x-python",
   "name": "python",
   "nbconvert_exporter": "python",
   "pygments_lexer": "ipython3",
   "version": "3.7.4"
  }
 },
 "nbformat": 4,
 "nbformat_minor": 4
}
