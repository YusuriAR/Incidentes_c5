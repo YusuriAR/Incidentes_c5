{
 "cells": [
  {
   "cell_type": "markdown",
   "metadata": {},
   "source": [
    "### **Equipo 8**\n",
    "\n",
    "- Diego Villegas Juárez     197902\n",
    "- Yedam Axel Fortiz Vargas  119523\n",
    "- Yusuri Arciga Reyes       190063\n",
    "\n",
    "### **Proyecto 1**\n",
    "\n",
    "EDA de Accidentes viales en la CDMX reportados por C5\n",
    "\n",
    "Nuestras variables son las siguientes:\n",
    "\n",
    "folio\n",
    "fecha de creación del reporte\n",
    "hora de creación del reporte\n",
    "día de la semana de creación del reporte\n",
    "fecha de cierre de reporte\n",
    "hora de cierre de reporte\n",
    "motivo del incidente dependiendo del tipo de emergencia\n",
    "alcaldía donde sucedió el incidente\n",
    "latitud y longitud del incidente\n",
    "código de cierre del incidente reportado\n",
    "clasificación del incidente\n",
    "origen del incidente por tipo\n",
    "alcaldía en que se dio resolución al incidente o emergencia\n",
    "\n",
    "Tenemos 18 variables y 1,383,138 registros\n",
    "\n",
    "folio\n",
    "fecha_creacion\n",
    "hora_creacion\n",
    "dia_semana\n",
    "codigo_cierre\n",
    "fecha_cierre\n",
    "año_cierre\n",
    "mes_cierre\n",
    "hora_cierre\n",
    "delegacion_inicio\n",
    "incidente_c4\n",
    "latitud\n",
    "longitud\n",
    "clas_con_f_alarma\n",
    "tipo_entrada\n",
    "delegacion_cierre\n",
    "geopoint\n",
    "mes\n",
    "  \n",
    "Tenemos datos de 2014-2020\n",
    "\n",
    "    Data profiling:\n",
    "     -  Tabla de data profiling para las columnas numéricas. Explica las 3 cosas más relevantes.\n",
    "     -  Tabla de data profiling para las columnas categóricas. Explica las 3 cosas más relevantes.\n",
    "        Tabla de data profiling para las columnas de fecha. Explica las 3 cosas más relevantes.\n",
    "        Tabla de data profiling para las columnas geoespaciales. Explica las 3 cosas más relevantes.\n",
    "\n",
    "\n",
    "   - Se identifica el número de registros con los que cuentan\n",
    "   - Se identifica el periodo con el se cuentan los datos\n",
    "        Saltos?\n",
    "        Todo el periodo?\n",
    "   - Se identifican las variables con las que contamos\n",
    "   - Se identifican los faltantes de datos por variable (%)\n",
    "    \n",
    "    Las gráficas no son ambiguas\n",
    "    Las gráficas no son \"barrocas\"\n",
    "    Las gráficas tienen los nombres en los ejes\n",
    "    Las etiquetas en los \"ticks\" de los ejes están con comas o con K, M, etc. de ser necesario. Por ejemplo: 100k para 100,000, o 100,000 (con coma incluido)\n",
    "    Los nombres de los ejes incluyen unidades. Por ejemplo m^3\n",
    "    Se identifican cosas \"raras\"\n",
    "    Se ocupan las gráficas adecuadas\n",
    "    Se habla en lenguaje de negocio, aún explicando cosas técnicas\n",
    "    Se cuenta una historia coherente\n"
   ]
  },
  {
   "cell_type": "code",
   "execution_count": 1,
   "metadata": {},
   "outputs": [
    {
     "ename": "ModuleNotFoundError",
     "evalue": "No module named 'plotly'",
     "output_type": "error",
     "traceback": [
      "\u001b[0;31m---------------------------------------------------------------------------\u001b[0m",
      "\u001b[0;31mModuleNotFoundError\u001b[0m                       Traceback (most recent call last)",
      "\u001b[0;32m<ipython-input-1-7e6169f78059>\u001b[0m in \u001b[0;36m<module>\u001b[0;34m\u001b[0m\n\u001b[1;32m      1\u001b[0m \u001b[0;32mimport\u001b[0m \u001b[0mpandas\u001b[0m \u001b[0;32mas\u001b[0m \u001b[0mpd\u001b[0m\u001b[0;34m\u001b[0m\u001b[0;34m\u001b[0m\u001b[0m\n\u001b[1;32m      2\u001b[0m \u001b[0;32mimport\u001b[0m \u001b[0mnumpy\u001b[0m \u001b[0;32mas\u001b[0m \u001b[0mnp\u001b[0m\u001b[0;34m\u001b[0m\u001b[0;34m\u001b[0m\u001b[0m\n\u001b[0;32m----> 3\u001b[0;31m \u001b[0;32mimport\u001b[0m \u001b[0mplotly\u001b[0m\u001b[0;34m.\u001b[0m\u001b[0mexpress\u001b[0m \u001b[0;32mas\u001b[0m \u001b[0mpx\u001b[0m\u001b[0;34m\u001b[0m\u001b[0;34m\u001b[0m\u001b[0m\n\u001b[0m\u001b[1;32m      4\u001b[0m \u001b[0;32mfrom\u001b[0m \u001b[0mpandas_profiling\u001b[0m \u001b[0;32mimport\u001b[0m \u001b[0mProfileReport\u001b[0m\u001b[0;34m\u001b[0m\u001b[0;34m\u001b[0m\u001b[0m\n",
      "\u001b[0;31mModuleNotFoundError\u001b[0m: No module named 'plotly'"
     ]
    }
   ],
   "source": [
    "import pandas as pd\n",
    "import numpy as np\n",
    "import plotly.express as px\n",
    "from pandas_profiling import ProfileReport"
   ]
  },
  {
   "cell_type": "code",
   "execution_count": 2,
   "metadata": {},
   "outputs": [],
   "source": [
    "c5 = pd.read_csv('incidentes-viales-c5.csv')"
   ]
  },
  {
   "cell_type": "code",
   "execution_count": 3,
   "metadata": {},
   "outputs": [
    {
     "data": {
      "text/plain": [
       "(1383138, 18)"
      ]
     },
     "execution_count": 3,
     "metadata": {},
     "output_type": "execute_result"
    }
   ],
   "source": [
    "c5.shape"
   ]
  },
  {
   "cell_type": "code",
   "execution_count": 5,
   "metadata": {},
   "outputs": [
    {
     "data": {
      "text/plain": [
       "folio                 object\n",
       "fecha_creacion        object\n",
       "hora_creacion         object\n",
       "dia_semana            object\n",
       "codigo_cierre         object\n",
       "fecha_cierre          object\n",
       "año_cierre             int64\n",
       "mes_cierre            object\n",
       "hora_cierre           object\n",
       "delegacion_inicio     object\n",
       "incidente_c4          object\n",
       "latitud              float64\n",
       "longitud             float64\n",
       "clas_con_f_alarma     object\n",
       "tipo_entrada          object\n",
       "delegacion_cierre     object\n",
       "geopoint              object\n",
       "mes                    int64\n",
       "dtype: object"
      ]
     },
     "execution_count": 5,
     "metadata": {},
     "output_type": "execute_result"
    }
   ],
   "source": [
    "c5.dtypes"
   ]
  },
  {
   "cell_type": "code",
   "execution_count": 11,
   "metadata": {},
   "outputs": [
    {
     "data": {
      "text/plain": [
       "Index(['folio', 'fecha_creacion', 'hora_creacion', 'dia_semana',\n",
       "       'codigo_cierre', 'fecha_cierre', 'año_cierre', 'mes_cierre',\n",
       "       'hora_cierre', 'delegacion_inicio', 'incidente_c4', 'latitud',\n",
       "       'longitud', 'clas_con_f_alarma', 'tipo_entrada', 'delegacion_cierre',\n",
       "       'geopoint', 'mes'],\n",
       "      dtype='object')"
      ]
     },
     "execution_count": 11,
     "metadata": {},
     "output_type": "execute_result"
    }
   ],
   "source": [
    "c5.columns"
   ]
  },
  {
   "cell_type": "code",
   "execution_count": 4,
   "metadata": {},
   "outputs": [
    {
     "data": {
      "text/plain": [
       "folio                1383138\n",
       "fecha_creacion          2637\n",
       "hora_creacion         105887\n",
       "dia_semana                 7\n",
       "codigo_cierre              5\n",
       "fecha_cierre            2621\n",
       "año_cierre                 7\n",
       "mes_cierre                12\n",
       "hora_cierre           106827\n",
       "delegacion_inicio         16\n",
       "incidente_c4              26\n",
       "latitud                82501\n",
       "longitud               78984\n",
       "clas_con_f_alarma          4\n",
       "tipo_entrada               9\n",
       "delegacion_cierre         16\n",
       "geopoint              134288\n",
       "mes                       12\n",
       "dtype: int64"
      ]
     },
     "execution_count": 4,
     "metadata": {},
     "output_type": "execute_result"
    }
   ],
   "source": [
    "c5.nunique()"
   ]
  },
  {
   "cell_type": "code",
   "execution_count": 14,
   "metadata": {},
   "outputs": [
    {
     "data": {
      "text/html": [
       "<div>\n",
       "<style scoped>\n",
       "    .dataframe tbody tr th:only-of-type {\n",
       "        vertical-align: middle;\n",
       "    }\n",
       "\n",
       "    .dataframe tbody tr th {\n",
       "        vertical-align: top;\n",
       "    }\n",
       "\n",
       "    .dataframe thead th {\n",
       "        text-align: right;\n",
       "    }\n",
       "</style>\n",
       "<table border=\"1\" class=\"dataframe\">\n",
       "  <thead>\n",
       "    <tr style=\"text-align: right;\">\n",
       "      <th></th>\n",
       "      <th>folio</th>\n",
       "      <th>fecha_creacion</th>\n",
       "      <th>hora_creacion</th>\n",
       "      <th>dia_semana</th>\n",
       "      <th>codigo_cierre</th>\n",
       "      <th>fecha_cierre</th>\n",
       "      <th>año_cierre</th>\n",
       "      <th>mes_cierre</th>\n",
       "      <th>hora_cierre</th>\n",
       "      <th>delegacion_inicio</th>\n",
       "      <th>incidente_c4</th>\n",
       "      <th>latitud</th>\n",
       "      <th>longitud</th>\n",
       "      <th>clas_con_f_alarma</th>\n",
       "      <th>tipo_entrada</th>\n",
       "      <th>delegacion_cierre</th>\n",
       "      <th>geopoint</th>\n",
       "      <th>mes</th>\n",
       "    </tr>\n",
       "  </thead>\n",
       "  <tbody>\n",
       "    <tr>\n",
       "      <th>0</th>\n",
       "      <td>GA/160123/05714</td>\n",
       "      <td>23/01/2016</td>\n",
       "      <td>22:35:04</td>\n",
       "      <td>Sábado</td>\n",
       "      <td>(A) La unidad de atención a emergencias fue de...</td>\n",
       "      <td>24/01/2016</td>\n",
       "      <td>2016</td>\n",
       "      <td>Enero</td>\n",
       "      <td>00:21:08</td>\n",
       "      <td>VENUSTIANO CARRANZA</td>\n",
       "      <td>accidente-choque sin lesionados</td>\n",
       "      <td>19.422113</td>\n",
       "      <td>-99.084643</td>\n",
       "      <td>EMERGENCIA</td>\n",
       "      <td>BOTÓN DE AUXILIO</td>\n",
       "      <td>VENUSTIANO CARRANZA</td>\n",
       "      <td>19.422113,-99.084643</td>\n",
       "      <td>1</td>\n",
       "    </tr>\n",
       "    <tr>\n",
       "      <th>1</th>\n",
       "      <td>AO/160123/05826</td>\n",
       "      <td>23/01/2016</td>\n",
       "      <td>22:50:49</td>\n",
       "      <td>Sábado</td>\n",
       "      <td>(A) La unidad de atención a emergencias fue de...</td>\n",
       "      <td>24/01/2016</td>\n",
       "      <td>2016</td>\n",
       "      <td>Enero</td>\n",
       "      <td>04:40:37</td>\n",
       "      <td>CUAJIMALPA</td>\n",
       "      <td>accidente-choque con lesionados</td>\n",
       "      <td>19.358320</td>\n",
       "      <td>-99.297641</td>\n",
       "      <td>URGENCIAS MEDICAS</td>\n",
       "      <td>BOTÓN DE AUXILIO</td>\n",
       "      <td>CUAJIMALPA</td>\n",
       "      <td>19.35832,-99.297641</td>\n",
       "      <td>1</td>\n",
       "    </tr>\n",
       "    <tr>\n",
       "      <th>2</th>\n",
       "      <td>C4/160124/02187</td>\n",
       "      <td>24/01/2016</td>\n",
       "      <td>09:40:11</td>\n",
       "      <td>Domingo</td>\n",
       "      <td>(N) La unidad de atención a emergencias fue de...</td>\n",
       "      <td>24/01/2016</td>\n",
       "      <td>2016</td>\n",
       "      <td>Enero</td>\n",
       "      <td>11:13:03</td>\n",
       "      <td>TLALPAN</td>\n",
       "      <td>accidente-choque sin lesionados</td>\n",
       "      <td>19.217070</td>\n",
       "      <td>-99.219070</td>\n",
       "      <td>EMERGENCIA</td>\n",
       "      <td>LLAMADA DEL 066</td>\n",
       "      <td>TLALPAN</td>\n",
       "      <td>19.21707,-99.21907008</td>\n",
       "      <td>1</td>\n",
       "    </tr>\n",
       "    <tr>\n",
       "      <th>3</th>\n",
       "      <td>C4/160124/05723</td>\n",
       "      <td>24/01/2016</td>\n",
       "      <td>22:40:57</td>\n",
       "      <td>Domingo</td>\n",
       "      <td>(N) La unidad de atención a emergencias fue de...</td>\n",
       "      <td>24/01/2016</td>\n",
       "      <td>2016</td>\n",
       "      <td>Enero</td>\n",
       "      <td>22:55:51</td>\n",
       "      <td>MAGDALENA CONTRERAS</td>\n",
       "      <td>accidente-choque sin lesionados</td>\n",
       "      <td>19.320580</td>\n",
       "      <td>-99.241010</td>\n",
       "      <td>EMERGENCIA</td>\n",
       "      <td>LLAMADA DEL 066</td>\n",
       "      <td>MAGDALENA CONTRERAS</td>\n",
       "      <td>19.32057999,-99.24100992</td>\n",
       "      <td>1</td>\n",
       "    </tr>\n",
       "    <tr>\n",
       "      <th>4</th>\n",
       "      <td>C4/160124/01334</td>\n",
       "      <td>24/01/2016</td>\n",
       "      <td>04:25:15</td>\n",
       "      <td>Domingo</td>\n",
       "      <td>(A) La unidad de atención a emergencias fue de...</td>\n",
       "      <td>24/01/2016</td>\n",
       "      <td>2016</td>\n",
       "      <td>Enero</td>\n",
       "      <td>05:03:59</td>\n",
       "      <td>MIGUEL HIDALGO</td>\n",
       "      <td>accidente-choque sin lesionados</td>\n",
       "      <td>19.452900</td>\n",
       "      <td>-99.215870</td>\n",
       "      <td>EMERGENCIA</td>\n",
       "      <td>LLAMADA DEL 066</td>\n",
       "      <td>MIGUEL HIDALGO</td>\n",
       "      <td>19.45289997,-99.21587004</td>\n",
       "      <td>1</td>\n",
       "    </tr>\n",
       "  </tbody>\n",
       "</table>\n",
       "</div>"
      ],
      "text/plain": [
       "             folio fecha_creacion hora_creacion dia_semana  \\\n",
       "0  GA/160123/05714     23/01/2016      22:35:04     Sábado   \n",
       "1  AO/160123/05826     23/01/2016      22:50:49     Sábado   \n",
       "2  C4/160124/02187     24/01/2016      09:40:11    Domingo   \n",
       "3  C4/160124/05723     24/01/2016      22:40:57    Domingo   \n",
       "4  C4/160124/01334     24/01/2016      04:25:15    Domingo   \n",
       "\n",
       "                                       codigo_cierre fecha_cierre  año_cierre  \\\n",
       "0  (A) La unidad de atención a emergencias fue de...   24/01/2016        2016   \n",
       "1  (A) La unidad de atención a emergencias fue de...   24/01/2016        2016   \n",
       "2  (N) La unidad de atención a emergencias fue de...   24/01/2016        2016   \n",
       "3  (N) La unidad de atención a emergencias fue de...   24/01/2016        2016   \n",
       "4  (A) La unidad de atención a emergencias fue de...   24/01/2016        2016   \n",
       "\n",
       "  mes_cierre hora_cierre    delegacion_inicio  \\\n",
       "0      Enero    00:21:08  VENUSTIANO CARRANZA   \n",
       "1      Enero    04:40:37           CUAJIMALPA   \n",
       "2      Enero    11:13:03              TLALPAN   \n",
       "3      Enero    22:55:51  MAGDALENA CONTRERAS   \n",
       "4      Enero    05:03:59       MIGUEL HIDALGO   \n",
       "\n",
       "                      incidente_c4    latitud   longitud  clas_con_f_alarma  \\\n",
       "0  accidente-choque sin lesionados  19.422113 -99.084643         EMERGENCIA   \n",
       "1  accidente-choque con lesionados  19.358320 -99.297641  URGENCIAS MEDICAS   \n",
       "2  accidente-choque sin lesionados  19.217070 -99.219070         EMERGENCIA   \n",
       "3  accidente-choque sin lesionados  19.320580 -99.241010         EMERGENCIA   \n",
       "4  accidente-choque sin lesionados  19.452900 -99.215870         EMERGENCIA   \n",
       "\n",
       "       tipo_entrada    delegacion_cierre                  geopoint  mes  \n",
       "0  BOTÓN DE AUXILIO  VENUSTIANO CARRANZA      19.422113,-99.084643    1  \n",
       "1  BOTÓN DE AUXILIO           CUAJIMALPA       19.35832,-99.297641    1  \n",
       "2   LLAMADA DEL 066              TLALPAN     19.21707,-99.21907008    1  \n",
       "3   LLAMADA DEL 066  MAGDALENA CONTRERAS  19.32057999,-99.24100992    1  \n",
       "4   LLAMADA DEL 066       MIGUEL HIDALGO  19.45289997,-99.21587004    1  "
      ]
     },
     "execution_count": 14,
     "metadata": {},
     "output_type": "execute_result"
    }
   ],
   "source": [
    "c5.head()"
   ]
  },
  {
   "cell_type": "code",
   "execution_count": 28,
   "metadata": {},
   "outputs": [
    {
     "data": {
      "text/plain": [
       "['Sábado', 'Domingo', 'Lunes', 'Martes', 'Miércoles', 'Jueves', 'Viernes']\n",
       "Categories (7, object): ['Sábado', 'Domingo', 'Lunes', 'Martes', 'Miércoles', 'Jueves', 'Viernes']"
      ]
     },
     "execution_count": 28,
     "metadata": {},
     "output_type": "execute_result"
    }
   ],
   "source": [
    "c5.dia_semana.unique()"
   ]
  },
  {
   "cell_type": "code",
   "execution_count": 29,
   "metadata": {},
   "outputs": [
    {
     "data": {
      "text/plain": [
       "array(['(A) La unidad de atención a emergencias fue despachada, llegó al lugar de los hechos y confirmó la emergencia reportada',\n",
       "       '(N) La unidad de atención a emergencias fue despachada, llegó al lugar de los hechos, pero en el sitio del evento nadie solicitó el apoyo de la unidad',\n",
       "       '(D) El incidente reportado se registró en dos o más ocasiones procediendo a mantener un único reporte (afirmativo, informativo, negativo o falso) como el identificador para el incidente',\n",
       "       '(F) El operador/a o despachador/a identifican, antes de dar respuesta a la emergencia, que ésta es falsa. O al ser despachada una unidad de atención a emergencias en el lugar de los hechos se percatan que el incidente no corresponde al reportado inicialmente',\n",
       "       '(I) El incidente reportado es afirmativo y se añade información adicional al evento'],\n",
       "      dtype=object)"
      ]
     },
     "execution_count": 29,
     "metadata": {},
     "output_type": "execute_result"
    }
   ],
   "source": [
    "c5.codigo_cierre.unique()"
   ]
  },
  {
   "cell_type": "code",
   "execution_count": 30,
   "metadata": {},
   "outputs": [
    {
     "data": {
      "text/plain": [
       "array([2016, 2017, 2018, 2019, 2015, 2014, 2020])"
      ]
     },
     "execution_count": 30,
     "metadata": {},
     "output_type": "execute_result"
    }
   ],
   "source": [
    "c5.año_cierre.unique()"
   ]
  },
  {
   "cell_type": "code",
   "execution_count": 31,
   "metadata": {},
   "outputs": [
    {
     "data": {
      "text/plain": [
       "array(['Enero', 'Febrero', 'Marzo', 'Septiembre', 'Octubre', 'Mayo',\n",
       "       'Junio', 'Abril', 'Agosto', 'Diciembre', 'Julio', 'Noviembre'],\n",
       "      dtype=object)"
      ]
     },
     "execution_count": 31,
     "metadata": {},
     "output_type": "execute_result"
    }
   ],
   "source": [
    "c5.mes_cierre.unique()"
   ]
  },
  {
   "cell_type": "code",
   "execution_count": 32,
   "metadata": {},
   "outputs": [
    {
     "data": {
      "text/plain": [
       "['VENUSTIANO CARRANZA', 'CUAJIMALPA', 'TLALPAN', 'MAGDALENA CONTRERAS', 'MIGUEL HIDALGO', ..., 'IZTACALCO', 'MILPA ALTA', 'ALVARO OBREGON', 'XOCHIMILCO', NaN]\n",
       "Length: 17\n",
       "Categories (16, object): ['VENUSTIANO CARRANZA', 'CUAJIMALPA', 'TLALPAN', 'MAGDALENA CONTRERAS', ..., 'IZTACALCO', 'MILPA ALTA', 'ALVARO OBREGON', 'XOCHIMILCO']"
      ]
     },
     "execution_count": 32,
     "metadata": {},
     "output_type": "execute_result"
    }
   ],
   "source": [
    "c5.delegacion_inicio.unique()"
   ]
  },
  {
   "cell_type": "code",
   "execution_count": 33,
   "metadata": {},
   "outputs": [
    {
     "data": {
      "text/plain": [
       "array(['accidente-choque sin lesionados',\n",
       "       'accidente-choque con lesionados',\n",
       "       'lesionado-accidente automovilístico', 'accidente-volcadura',\n",
       "       'lesionado-atropellado', 'accidente-otros',\n",
       "       'accidente-persona atrapada / desbarrancada',\n",
       "       'cadáver-accidente automovilístico', 'cadáver-atropellado',\n",
       "       'accidente-motociclista', 'accidente-vehiculo desbarrancado',\n",
       "       'accidente-choque con prensados', 'accidente-vehiculo atrapado',\n",
       "       'accidente-ciclista', 'accidente-monopatín',\n",
       "       'sismo-choque con lesionados',\n",
       "       'accidente-vehículo atrapado-varado',\n",
       "       'detención ciudadana-atropellado', 'accidente-ferroviario',\n",
       "       'detención ciudadana-accidente automovilístico',\n",
       "       'sismo-choque sin lesionados', 'sismo-persona atropellada',\n",
       "       'Detención ciudadana-accidente automovilístico',\n",
       "       'sismo-choque con prensados',\n",
       "       'mi ciudad-calle-incidente de tránsito',\n",
       "       'mi ciudad-taxi-incidente de tránsito'], dtype=object)"
      ]
     },
     "execution_count": 33,
     "metadata": {},
     "output_type": "execute_result"
    }
   ],
   "source": [
    "c5.incidente_c4.unique()"
   ]
  },
  {
   "cell_type": "code",
   "execution_count": 34,
   "metadata": {},
   "outputs": [
    {
     "data": {
      "text/plain": [
       "array(['EMERGENCIA', 'URGENCIAS MEDICAS', 'FALSA ALARMA', 'DELITO'],\n",
       "      dtype=object)"
      ]
     },
     "execution_count": 34,
     "metadata": {},
     "output_type": "execute_result"
    }
   ],
   "source": [
    "c5.clas_con_f_alarma.unique()"
   ]
  },
  {
   "cell_type": "code",
   "execution_count": 35,
   "metadata": {},
   "outputs": [
    {
     "data": {
      "text/plain": [
       "['BOTÓN DE AUXILIO', 'LLAMADA DEL 066', 'RADIO', 'CÁMARA', 'REDES', 'LLAMADA DEL 911', 'LLAMADA APP911', 'ZELLO', 'APLICATIVOS']\n",
       "Categories (9, object): ['BOTÓN DE AUXILIO', 'LLAMADA DEL 066', 'RADIO', 'CÁMARA', ..., 'LLAMADA DEL 911', 'LLAMADA APP911', 'ZELLO', 'APLICATIVOS']"
      ]
     },
     "execution_count": 35,
     "metadata": {},
     "output_type": "execute_result"
    }
   ],
   "source": [
    "c5.tipo_entrada.unique()"
   ]
  },
  {
   "cell_type": "code",
   "execution_count": 36,
   "metadata": {},
   "outputs": [
    {
     "data": {
      "text/plain": [
       "['VENUSTIANO CARRANZA', 'CUAJIMALPA', 'TLALPAN', 'MAGDALENA CONTRERAS', 'MIGUEL HIDALGO', ..., 'AZCAPOTZALCO', 'IZTACALCO', 'MILPA ALTA', 'XOCHIMILCO', NaN]\n",
       "Length: 17\n",
       "Categories (16, object): ['VENUSTIANO CARRANZA', 'CUAJIMALPA', 'TLALPAN', 'MAGDALENA CONTRERAS', ..., 'AZCAPOTZALCO', 'IZTACALCO', 'MILPA ALTA', 'XOCHIMILCO']"
      ]
     },
     "execution_count": 36,
     "metadata": {},
     "output_type": "execute_result"
    }
   ],
   "source": [
    "c5.delegacion_cierre.unique()"
   ]
  },
  {
   "cell_type": "code",
   "execution_count": 37,
   "metadata": {},
   "outputs": [
    {
     "data": {
      "text/plain": [
       "array([ 1,  2,  3,  9, 10,  5,  6,  4,  8, 12,  7, 11])"
      ]
     },
     "execution_count": 37,
     "metadata": {},
     "output_type": "execute_result"
    }
   ],
   "source": [
    "c5.mes.unique()"
   ]
  },
  {
   "cell_type": "markdown",
   "metadata": {},
   "source": [
    "Convertir al tipo correcto de variable"
   ]
  },
  {
   "cell_type": "code",
   "execution_count": 43,
   "metadata": {},
   "outputs": [],
   "source": [
    "c5['fecha_creacion'] = pd.to_datetime(c5['fecha_creacion'])\n",
    "#c5['hora_creacion'] = pd.to_datetime(c5['hora_creacion'])\n",
    "c5['dia_semana'] = c5.dia_semana.astype('category')\n",
    "c5['codigo_cierre'] = c5.codigo_cierre.astype('category')\n",
    "c5['fecha_cierre'] = pd.to_datetime(c5['fecha_cierre'])\n",
    "c5['mes_cierre'] = c5.mes_cierre.astype('category')\n",
    "#c5['hora_cierre'] = pd.to_datetime(c5['hora_cierre'])\n",
    "c5['delegacion_inicio'] = c5.delegacion_inicio.astype('category')\n",
    "c5['clas_con_f_alarma'] = c5.clas_con_f_alarma.astype('category')\n",
    "c5['tipo_entrada'] = c5.tipo_entrada.astype('category')\n",
    "c5['delegacion_cierre'] = c5.delegacion_cierre.astype('category')\n",
    "#eliminar geopoint\n",
    "c5['mes'] = c5.mes.astype('category')"
   ]
  },
  {
   "cell_type": "code",
   "execution_count": 44,
   "metadata": {},
   "outputs": [
    {
     "data": {
      "text/plain": [
       "folio                        object\n",
       "fecha_creacion       datetime64[ns]\n",
       "hora_creacion                object\n",
       "dia_semana                 category\n",
       "codigo_cierre              category\n",
       "fecha_cierre         datetime64[ns]\n",
       "año_cierre                    int64\n",
       "mes_cierre                 category\n",
       "hora_cierre                  object\n",
       "delegacion_inicio          category\n",
       "incidente_c4                 object\n",
       "latitud                     float64\n",
       "longitud                    float64\n",
       "clas_con_f_alarma          category\n",
       "tipo_entrada               category\n",
       "delegacion_cierre          category\n",
       "geopoint                     object\n",
       "mes                        category\n",
       "dtype: object"
      ]
     },
     "execution_count": 44,
     "metadata": {},
     "output_type": "execute_result"
    }
   ],
   "source": [
    "c5.dtypes"
   ]
  },
  {
   "cell_type": "code",
   "execution_count": 45,
   "metadata": {},
   "outputs": [
    {
     "data": {
      "text/html": [
       "<div>\n",
       "<style scoped>\n",
       "    .dataframe tbody tr th:only-of-type {\n",
       "        vertical-align: middle;\n",
       "    }\n",
       "\n",
       "    .dataframe tbody tr th {\n",
       "        vertical-align: top;\n",
       "    }\n",
       "\n",
       "    .dataframe thead th {\n",
       "        text-align: right;\n",
       "    }\n",
       "</style>\n",
       "<table border=\"1\" class=\"dataframe\">\n",
       "  <thead>\n",
       "    <tr style=\"text-align: right;\">\n",
       "      <th></th>\n",
       "      <th>año_cierre</th>\n",
       "      <th>latitud</th>\n",
       "      <th>longitud</th>\n",
       "    </tr>\n",
       "  </thead>\n",
       "  <tbody>\n",
       "    <tr>\n",
       "      <th>count</th>\n",
       "      <td>1.383138e+06</td>\n",
       "      <td>1.382695e+06</td>\n",
       "      <td>1.382703e+06</td>\n",
       "    </tr>\n",
       "    <tr>\n",
       "      <th>mean</th>\n",
       "      <td>2.017023e+03</td>\n",
       "      <td>1.938391e+01</td>\n",
       "      <td>-9.914359e+01</td>\n",
       "    </tr>\n",
       "    <tr>\n",
       "      <th>std</th>\n",
       "      <td>1.869989e+00</td>\n",
       "      <td>2.666382e-01</td>\n",
       "      <td>2.399677e+00</td>\n",
       "    </tr>\n",
       "    <tr>\n",
       "      <th>min</th>\n",
       "      <td>2.014000e+03</td>\n",
       "      <td>1.909402e+01</td>\n",
       "      <td>-9.917640e+02</td>\n",
       "    </tr>\n",
       "    <tr>\n",
       "      <th>25%</th>\n",
       "      <td>2.015000e+03</td>\n",
       "      <td>1.933685e+01</td>\n",
       "      <td>-9.917930e+01</td>\n",
       "    </tr>\n",
       "    <tr>\n",
       "      <th>50%</th>\n",
       "      <td>2.017000e+03</td>\n",
       "      <td>1.938408e+01</td>\n",
       "      <td>-9.914023e+01</td>\n",
       "    </tr>\n",
       "    <tr>\n",
       "      <th>75%</th>\n",
       "      <td>2.019000e+03</td>\n",
       "      <td>1.943496e+01</td>\n",
       "      <td>-9.909600e+01</td>\n",
       "    </tr>\n",
       "    <tr>\n",
       "      <th>max</th>\n",
       "      <td>2.020000e+03</td>\n",
       "      <td>1.953030e+02</td>\n",
       "      <td>-9.894537e+01</td>\n",
       "    </tr>\n",
       "  </tbody>\n",
       "</table>\n",
       "</div>"
      ],
      "text/plain": [
       "         año_cierre       latitud      longitud\n",
       "count  1.383138e+06  1.382695e+06  1.382703e+06\n",
       "mean   2.017023e+03  1.938391e+01 -9.914359e+01\n",
       "std    1.869989e+00  2.666382e-01  2.399677e+00\n",
       "min    2.014000e+03  1.909402e+01 -9.917640e+02\n",
       "25%    2.015000e+03  1.933685e+01 -9.917930e+01\n",
       "50%    2.017000e+03  1.938408e+01 -9.914023e+01\n",
       "75%    2.019000e+03  1.943496e+01 -9.909600e+01\n",
       "max    2.020000e+03  1.953030e+02 -9.894537e+01"
      ]
     },
     "execution_count": 45,
     "metadata": {},
     "output_type": "execute_result"
    }
   ],
   "source": [
    "c5.describe()"
   ]
  },
  {
   "cell_type": "code",
   "execution_count": 60,
   "metadata": {},
   "outputs": [
    {
     "name": "stdout",
     "output_type": "stream",
     "text": [
      "Son 3 variables numericas ['año_cierre' 'latitud' 'longitud']\n"
     ]
    }
   ],
   "source": [
    "#variables numéricas\n",
    "nc5 = c5.select_dtypes(include='number').columns.values\n",
    "print('Son ' + str(nc5.shape[0]) + ' variables numericas' , nc5)"
   ]
  },
  {
   "cell_type": "code",
   "execution_count": 59,
   "metadata": {},
   "outputs": [
    {
     "name": "stdout",
     "output_type": "stream",
     "text": [
      "Son 2 variables de fecha ['fecha_creacion' 'fecha_cierre']\n"
     ]
    }
   ],
   "source": [
    "#variables fecha y hora\n",
    "dc5 = c5.select_dtypes(include='datetime').columns.values\n",
    "print('Son ' + str(dc5.shape[0]) + ' variables de fecha' , dc5)"
   ]
  },
  {
   "cell_type": "code",
   "execution_count": 62,
   "metadata": {},
   "outputs": [
    {
     "name": "stdout",
     "output_type": "stream",
     "text": [
      "Son 8 variables categóricas ['dia_semana' 'codigo_cierre' 'mes_cierre' 'delegacion_inicio'\n",
      " 'clas_con_f_alarma' 'tipo_entrada' 'delegacion_cierre' 'mes']\n"
     ]
    }
   ],
   "source": [
    "#variables categóricas\n",
    "cc5 = c5.select_dtypes(include='category').columns.values\n",
    "print('Son ' + str(cc5.shape[0]) + ' variables categóricas' , cc5)"
   ]
  },
  {
   "cell_type": "code",
   "execution_count": 64,
   "metadata": {},
   "outputs": [
    {
     "name": "stdout",
     "output_type": "stream",
     "text": [
      "Son 5 variables cadena ['folio' 'hora_creacion' 'hora_cierre' 'incidente_c4' 'geopoint']\n"
     ]
    }
   ],
   "source": [
    "#variables string\n",
    "sc5 = c5.select_dtypes(include='object').columns.values\n",
    "print('Son ' + str(sc5.shape[0]) + ' variables cadena' , sc5)"
   ]
  },
  {
   "cell_type": "code",
   "execution_count": 67,
   "metadata": {},
   "outputs": [
    {
     "name": "stdout",
     "output_type": "stream",
     "text": [
      "ok\n"
     ]
    }
   ],
   "source": [
    "# Validar que estén todas las variables clasificadas por tipo\n",
    "if (sum([len(nc5), len(cc5), \n",
    "      len(dc5), len(sc5)]) == c5.shape[1]): \n",
    "    print('ok')\n",
    "else:\n",
    "    print('columns missing')"
   ]
  },
  {
   "cell_type": "code",
   "execution_count": 68,
   "metadata": {},
   "outputs": [],
   "source": [
    "def get_repeated_values(df, col, top):\n",
    "    top_5 = df.groupby([col])[col]\\\n",
    "                    .count()\\\n",
    "                    .sort_values(ascending = False)\\\n",
    "                    .head(3)\n",
    "    indexes_top_5 = top_5.index\n",
    "    \n",
    "    if ((top == 1) and (len(indexes_top_5) > 0)):\n",
    "        return indexes_top_5[0]\n",
    "    elif ((top == 2) and (len(indexes_top_5) > 1)):\n",
    "        return indexes_top_5[1]\n",
    "    elif ((top == 3) and (len(indexes_top_5) > 2)):\n",
    "        return indexes_top_5[2]\n",
    "    else: \n",
    "        return 'undefined'"
   ]
  },
  {
   "cell_type": "markdown",
   "metadata": {},
   "source": [
    "Numéricas"
   ]
  },
  {
   "cell_type": "code",
   "execution_count": 75,
   "metadata": {},
   "outputs": [],
   "source": [
    "# con talacha\n",
    "def numeric_profiling(df, col):\n",
    "    \"\"\"\n",
    "    Profiling for numeric columns. \n",
    "    \n",
    "    :param: column to analyze\n",
    "    :return: dictionary\n",
    "    \"\"\"\n",
    "    profiling = {}\n",
    "\n",
    "    profiling.update({'max': df[col].max(),\n",
    "                     'min': df[col].min(),\n",
    "                     'mean': df[col].mean(),\n",
    "                     'stdv': df[col].std(),\n",
    "                     '25%': df[col].quantile(.25),\n",
    "                     'median': df[col].median(),\n",
    "                     '75%': df[col].quantile(.75),\n",
    "                     'kurtosis': df[col].kurt(),\n",
    "                     'skewness': df[col].skew(),\n",
    "                     'uniques': df[col].nunique(),\n",
    "                     'prop_missings': df[col].isna().sum()/df.shape[0]*100,\n",
    "                     'top1_repeated': get_repeated_values(df, col, 1),\n",
    "                     'top2_repeated': get_repeated_values(df, col, 2),\n",
    "                     'top3_repeated': get_repeated_values(df, col, 3)})\n",
    "    \n",
    "    \n",
    "    return profiling"
   ]
  },
  {
   "cell_type": "code",
   "execution_count": 76,
   "metadata": {},
   "outputs": [],
   "source": [
    "profiling_dict = {}\n",
    "\n",
    "numeric_profiling_output = {elem: numeric_profiling(c5, elem)\\\n",
    "                            for elem in nc5}"
   ]
  },
  {
   "cell_type": "code",
   "execution_count": 77,
   "metadata": {},
   "outputs": [
    {
     "data": {
      "text/html": [
       "<div>\n",
       "<style scoped>\n",
       "    .dataframe tbody tr th:only-of-type {\n",
       "        vertical-align: middle;\n",
       "    }\n",
       "\n",
       "    .dataframe tbody tr th {\n",
       "        vertical-align: top;\n",
       "    }\n",
       "\n",
       "    .dataframe thead th {\n",
       "        text-align: right;\n",
       "    }\n",
       "</style>\n",
       "<table border=\"1\" class=\"dataframe\">\n",
       "  <thead>\n",
       "    <tr style=\"text-align: right;\">\n",
       "      <th></th>\n",
       "      <th>metric</th>\n",
       "      <th>año_cierre</th>\n",
       "      <th>latitud</th>\n",
       "      <th>longitud</th>\n",
       "    </tr>\n",
       "  </thead>\n",
       "  <tbody>\n",
       "    <tr>\n",
       "      <th>0</th>\n",
       "      <td>max</td>\n",
       "      <td>2020.000000</td>\n",
       "      <td>195.303000</td>\n",
       "      <td>-98.945370</td>\n",
       "    </tr>\n",
       "    <tr>\n",
       "      <th>1</th>\n",
       "      <td>min</td>\n",
       "      <td>2014.000000</td>\n",
       "      <td>19.094020</td>\n",
       "      <td>-991.764000</td>\n",
       "    </tr>\n",
       "    <tr>\n",
       "      <th>2</th>\n",
       "      <td>mean</td>\n",
       "      <td>2017.022848</td>\n",
       "      <td>19.383909</td>\n",
       "      <td>-99.143590</td>\n",
       "    </tr>\n",
       "    <tr>\n",
       "      <th>3</th>\n",
       "      <td>stdv</td>\n",
       "      <td>1.869989</td>\n",
       "      <td>0.266638</td>\n",
       "      <td>2.399677</td>\n",
       "    </tr>\n",
       "    <tr>\n",
       "      <th>4</th>\n",
       "      <td>25%</td>\n",
       "      <td>2015.000000</td>\n",
       "      <td>19.336850</td>\n",
       "      <td>-99.179300</td>\n",
       "    </tr>\n",
       "    <tr>\n",
       "      <th>5</th>\n",
       "      <td>median</td>\n",
       "      <td>2017.000000</td>\n",
       "      <td>19.384080</td>\n",
       "      <td>-99.140230</td>\n",
       "    </tr>\n",
       "    <tr>\n",
       "      <th>6</th>\n",
       "      <td>75%</td>\n",
       "      <td>2019.000000</td>\n",
       "      <td>19.434960</td>\n",
       "      <td>-99.096000</td>\n",
       "    </tr>\n",
       "    <tr>\n",
       "      <th>7</th>\n",
       "      <td>kurtosis</td>\n",
       "      <td>-1.118592</td>\n",
       "      <td>400835.233813</td>\n",
       "      <td>138084.253218</td>\n",
       "    </tr>\n",
       "    <tr>\n",
       "      <th>8</th>\n",
       "      <td>skewness</td>\n",
       "      <td>-0.103726</td>\n",
       "      <td>611.376322</td>\n",
       "      <td>-371.476884</td>\n",
       "    </tr>\n",
       "    <tr>\n",
       "      <th>9</th>\n",
       "      <td>uniques</td>\n",
       "      <td>7.000000</td>\n",
       "      <td>82501.000000</td>\n",
       "      <td>78984.000000</td>\n",
       "    </tr>\n",
       "    <tr>\n",
       "      <th>10</th>\n",
       "      <td>prop_missings</td>\n",
       "      <td>0.000000</td>\n",
       "      <td>0.032029</td>\n",
       "      <td>0.031450</td>\n",
       "    </tr>\n",
       "    <tr>\n",
       "      <th>11</th>\n",
       "      <td>top1_repeated</td>\n",
       "      <td>2018.000000</td>\n",
       "      <td>19.304320</td>\n",
       "      <td>-99.080240</td>\n",
       "    </tr>\n",
       "    <tr>\n",
       "      <th>12</th>\n",
       "      <td>top2_repeated</td>\n",
       "      <td>2019.000000</td>\n",
       "      <td>19.371680</td>\n",
       "      <td>-99.087140</td>\n",
       "    </tr>\n",
       "    <tr>\n",
       "      <th>13</th>\n",
       "      <td>top3_repeated</td>\n",
       "      <td>2017.000000</td>\n",
       "      <td>19.347021</td>\n",
       "      <td>-99.180646</td>\n",
       "    </tr>\n",
       "  </tbody>\n",
       "</table>\n",
       "</div>"
      ],
      "text/plain": [
       "           metric   año_cierre        latitud       longitud\n",
       "0             max  2020.000000     195.303000     -98.945370\n",
       "1             min  2014.000000      19.094020    -991.764000\n",
       "2            mean  2017.022848      19.383909     -99.143590\n",
       "3            stdv     1.869989       0.266638       2.399677\n",
       "4             25%  2015.000000      19.336850     -99.179300\n",
       "5          median  2017.000000      19.384080     -99.140230\n",
       "6             75%  2019.000000      19.434960     -99.096000\n",
       "7        kurtosis    -1.118592  400835.233813  138084.253218\n",
       "8        skewness    -0.103726     611.376322    -371.476884\n",
       "9         uniques     7.000000   82501.000000   78984.000000\n",
       "10  prop_missings     0.000000       0.032029       0.031450\n",
       "11  top1_repeated  2018.000000      19.304320     -99.080240\n",
       "12  top2_repeated  2019.000000      19.371680     -99.087140\n",
       "13  top3_repeated  2017.000000      19.347021     -99.180646"
      ]
     },
     "execution_count": 77,
     "metadata": {},
     "output_type": "execute_result"
    }
   ],
   "source": [
    "df_numeric_profiling = pd.DataFrame(numeric_profiling_output).reset_index()\n",
    "df_numeric_profiling.rename(columns={'index': 'metric'}, inplace=True)\n",
    "df_numeric_profiling"
   ]
  },
  {
   "cell_type": "markdown",
   "metadata": {},
   "source": [
    "Categóricas"
   ]
  },
  {
   "cell_type": "code",
   "execution_count": 69,
   "metadata": {},
   "outputs": [],
   "source": [
    "# con talacha\n",
    "def category_profiling(df, col):\n",
    "    \"\"\"\n",
    "    Profiling for categoric columns. \n",
    "    \n",
    "    :param: column to analyze\n",
    "    :return: dictionary\n",
    "    \"\"\"\n",
    "    profiling = {}\n",
    "\n",
    "    profiling.update({'mode': df[col].mode().values,\n",
    "                     'num_categories': df[col].nunique(),\n",
    "                     'categories': df[col].unique(),\n",
    "                     'uniques': df[col].nunique(),\n",
    "                     'missings': df[col].isna().sum()/df[col].size*100,\n",
    "                     'top1_repeated': get_repeated_values(df, col, 1),\n",
    "                     'top2_repeated': get_repeated_values(df, col, 2),\n",
    "                     'top3_repeated': get_repeated_values(df, col, 3)})\n",
    "    \n",
    "    return profiling"
   ]
  },
  {
   "cell_type": "code",
   "execution_count": 73,
   "metadata": {},
   "outputs": [],
   "source": [
    "category_profiling_output = {elem: category_profiling(c5, elem)\\\n",
    "                             for elem in cc5}"
   ]
  },
  {
   "cell_type": "code",
   "execution_count": 74,
   "metadata": {},
   "outputs": [
    {
     "data": {
      "text/html": [
       "<div>\n",
       "<style scoped>\n",
       "    .dataframe tbody tr th:only-of-type {\n",
       "        vertical-align: middle;\n",
       "    }\n",
       "\n",
       "    .dataframe tbody tr th {\n",
       "        vertical-align: top;\n",
       "    }\n",
       "\n",
       "    .dataframe thead th {\n",
       "        text-align: right;\n",
       "    }\n",
       "</style>\n",
       "<table border=\"1\" class=\"dataframe\">\n",
       "  <thead>\n",
       "    <tr style=\"text-align: right;\">\n",
       "      <th></th>\n",
       "      <th>metric</th>\n",
       "      <th>dia_semana</th>\n",
       "      <th>codigo_cierre</th>\n",
       "      <th>mes_cierre</th>\n",
       "      <th>delegacion_inicio</th>\n",
       "      <th>clas_con_f_alarma</th>\n",
       "      <th>tipo_entrada</th>\n",
       "      <th>delegacion_cierre</th>\n",
       "      <th>mes</th>\n",
       "    </tr>\n",
       "  </thead>\n",
       "  <tbody>\n",
       "    <tr>\n",
       "      <th>0</th>\n",
       "      <td>mode</td>\n",
       "      <td>['Viernes']\n",
       "Categories (7, object): ['Domingo'...</td>\n",
       "      <td>['(A) La unidad de atención a emergencias fue ...</td>\n",
       "      <td>['Octubre']\n",
       "Categories (12, object): ['Abril',...</td>\n",
       "      <td>['IZTAPALAPA']\n",
       "Categories (16, object): ['ALVA...</td>\n",
       "      <td>['EMERGENCIA']\n",
       "Categories (4, object): ['DELIT...</td>\n",
       "      <td>['LLAMADA DEL 911']\n",
       "Categories (9, object): ['...</td>\n",
       "      <td>['IZTAPALAPA']\n",
       "Categories (16, object): ['ALVA...</td>\n",
       "      <td>[10]\n",
       "Categories (12, int64): [1, 2, 3, 4, ...,...</td>\n",
       "    </tr>\n",
       "    <tr>\n",
       "      <th>1</th>\n",
       "      <td>num_categories</td>\n",
       "      <td>7</td>\n",
       "      <td>5</td>\n",
       "      <td>12</td>\n",
       "      <td>16</td>\n",
       "      <td>4</td>\n",
       "      <td>9</td>\n",
       "      <td>16</td>\n",
       "      <td>12</td>\n",
       "    </tr>\n",
       "    <tr>\n",
       "      <th>2</th>\n",
       "      <td>categories</td>\n",
       "      <td>['Sábado', 'Domingo', 'Lunes', 'Martes', 'Miér...</td>\n",
       "      <td>['(A) La unidad de atención a emergencias fue ...</td>\n",
       "      <td>['Enero', 'Febrero', 'Marzo', 'Septiembre', 'O...</td>\n",
       "      <td>['VENUSTIANO CARRANZA', 'CUAJIMALPA', 'TLALPAN...</td>\n",
       "      <td>['EMERGENCIA', 'URGENCIAS MEDICAS', 'FALSA ALA...</td>\n",
       "      <td>['BOTÓN DE AUXILIO', 'LLAMADA DEL 066', 'RADIO...</td>\n",
       "      <td>['VENUSTIANO CARRANZA', 'CUAJIMALPA', 'TLALPAN...</td>\n",
       "      <td>[1, 2, 3, 9, 10, ..., 4, 8, 12, 7, 11]\n",
       "Length:...</td>\n",
       "    </tr>\n",
       "    <tr>\n",
       "      <th>3</th>\n",
       "      <td>uniques</td>\n",
       "      <td>7</td>\n",
       "      <td>5</td>\n",
       "      <td>12</td>\n",
       "      <td>16</td>\n",
       "      <td>4</td>\n",
       "      <td>9</td>\n",
       "      <td>16</td>\n",
       "      <td>12</td>\n",
       "    </tr>\n",
       "    <tr>\n",
       "      <th>4</th>\n",
       "      <td>missings</td>\n",
       "      <td>0</td>\n",
       "      <td>0</td>\n",
       "      <td>0</td>\n",
       "      <td>0.0114233</td>\n",
       "      <td>0</td>\n",
       "      <td>0</td>\n",
       "      <td>0.0101219</td>\n",
       "      <td>0</td>\n",
       "    </tr>\n",
       "    <tr>\n",
       "      <th>5</th>\n",
       "      <td>top1_repeated</td>\n",
       "      <td>Viernes</td>\n",
       "      <td>(A) La unidad de atención a emergencias fue de...</td>\n",
       "      <td>Octubre</td>\n",
       "      <td>IZTAPALAPA</td>\n",
       "      <td>EMERGENCIA</td>\n",
       "      <td>LLAMADA DEL 911</td>\n",
       "      <td>IZTAPALAPA</td>\n",
       "      <td>10</td>\n",
       "    </tr>\n",
       "    <tr>\n",
       "      <th>6</th>\n",
       "      <td>top2_repeated</td>\n",
       "      <td>Sábado</td>\n",
       "      <td>(D) El incidente reportado se registró en dos ...</td>\n",
       "      <td>Agosto</td>\n",
       "      <td>GUSTAVO A. MADERO</td>\n",
       "      <td>URGENCIAS MEDICAS</td>\n",
       "      <td>LLAMADA DEL 066</td>\n",
       "      <td>GUSTAVO A. MADERO</td>\n",
       "      <td>8</td>\n",
       "    </tr>\n",
       "    <tr>\n",
       "      <th>7</th>\n",
       "      <td>top3_repeated</td>\n",
       "      <td>Jueves</td>\n",
       "      <td>(N) La unidad de atención a emergencias fue de...</td>\n",
       "      <td>Septiembre</td>\n",
       "      <td>CUAUHTEMOC</td>\n",
       "      <td>FALSA ALARMA</td>\n",
       "      <td>BOTÓN DE AUXILIO</td>\n",
       "      <td>CUAUHTEMOC</td>\n",
       "      <td>9</td>\n",
       "    </tr>\n",
       "  </tbody>\n",
       "</table>\n",
       "</div>"
      ],
      "text/plain": [
       "           metric                                         dia_semana  \\\n",
       "0            mode  ['Viernes']\n",
       "Categories (7, object): ['Domingo'...   \n",
       "1  num_categories                                                  7   \n",
       "2      categories  ['Sábado', 'Domingo', 'Lunes', 'Martes', 'Miér...   \n",
       "3         uniques                                                  7   \n",
       "4        missings                                                  0   \n",
       "5   top1_repeated                                            Viernes   \n",
       "6   top2_repeated                                             Sábado   \n",
       "7   top3_repeated                                             Jueves   \n",
       "\n",
       "                                       codigo_cierre  \\\n",
       "0  ['(A) La unidad de atención a emergencias fue ...   \n",
       "1                                                  5   \n",
       "2  ['(A) La unidad de atención a emergencias fue ...   \n",
       "3                                                  5   \n",
       "4                                                  0   \n",
       "5  (A) La unidad de atención a emergencias fue de...   \n",
       "6  (D) El incidente reportado se registró en dos ...   \n",
       "7  (N) La unidad de atención a emergencias fue de...   \n",
       "\n",
       "                                          mes_cierre  \\\n",
       "0  ['Octubre']\n",
       "Categories (12, object): ['Abril',...   \n",
       "1                                                 12   \n",
       "2  ['Enero', 'Febrero', 'Marzo', 'Septiembre', 'O...   \n",
       "3                                                 12   \n",
       "4                                                  0   \n",
       "5                                            Octubre   \n",
       "6                                             Agosto   \n",
       "7                                         Septiembre   \n",
       "\n",
       "                                   delegacion_inicio  \\\n",
       "0  ['IZTAPALAPA']\n",
       "Categories (16, object): ['ALVA...   \n",
       "1                                                 16   \n",
       "2  ['VENUSTIANO CARRANZA', 'CUAJIMALPA', 'TLALPAN...   \n",
       "3                                                 16   \n",
       "4                                          0.0114233   \n",
       "5                                         IZTAPALAPA   \n",
       "6                                  GUSTAVO A. MADERO   \n",
       "7                                         CUAUHTEMOC   \n",
       "\n",
       "                                   clas_con_f_alarma  \\\n",
       "0  ['EMERGENCIA']\n",
       "Categories (4, object): ['DELIT...   \n",
       "1                                                  4   \n",
       "2  ['EMERGENCIA', 'URGENCIAS MEDICAS', 'FALSA ALA...   \n",
       "3                                                  4   \n",
       "4                                                  0   \n",
       "5                                         EMERGENCIA   \n",
       "6                                  URGENCIAS MEDICAS   \n",
       "7                                       FALSA ALARMA   \n",
       "\n",
       "                                        tipo_entrada  \\\n",
       "0  ['LLAMADA DEL 911']\n",
       "Categories (9, object): ['...   \n",
       "1                                                  9   \n",
       "2  ['BOTÓN DE AUXILIO', 'LLAMADA DEL 066', 'RADIO...   \n",
       "3                                                  9   \n",
       "4                                                  0   \n",
       "5                                    LLAMADA DEL 911   \n",
       "6                                    LLAMADA DEL 066   \n",
       "7                                   BOTÓN DE AUXILIO   \n",
       "\n",
       "                                   delegacion_cierre  \\\n",
       "0  ['IZTAPALAPA']\n",
       "Categories (16, object): ['ALVA...   \n",
       "1                                                 16   \n",
       "2  ['VENUSTIANO CARRANZA', 'CUAJIMALPA', 'TLALPAN...   \n",
       "3                                                 16   \n",
       "4                                          0.0101219   \n",
       "5                                         IZTAPALAPA   \n",
       "6                                  GUSTAVO A. MADERO   \n",
       "7                                         CUAUHTEMOC   \n",
       "\n",
       "                                                 mes  \n",
       "0  [10]\n",
       "Categories (12, int64): [1, 2, 3, 4, ...,...  \n",
       "1                                                 12  \n",
       "2  [1, 2, 3, 9, 10, ..., 4, 8, 12, 7, 11]\n",
       "Length:...  \n",
       "3                                                 12  \n",
       "4                                                  0  \n",
       "5                                                 10  \n",
       "6                                                  8  \n",
       "7                                                  9  "
      ]
     },
     "execution_count": 74,
     "metadata": {},
     "output_type": "execute_result"
    }
   ],
   "source": [
    "category_profiling_output\n",
    "df_category_profiling = pd.DataFrame(category_profiling_output).reset_index()\n",
    "df_category_profiling.rename(columns={'index': 'metric'}, inplace=True)\n",
    "df_category_profiling"
   ]
  },
  {
   "cell_type": "markdown",
   "metadata": {},
   "source": [
    "# Revisar ->"
   ]
  },
  {
   "cell_type": "code",
   "execution_count": null,
   "metadata": {},
   "outputs": [],
   "source": [
    "profile = ProfileReport(c5, title = \"Profiling\")\n",
    "profile.to_file(\"./data-profiling.html\")\n",
    "profile.to_widgets()"
   ]
  },
  {
   "cell_type": "code",
   "execution_count": 78,
   "metadata": {},
   "outputs": [],
   "source": [
    "def data_profiling(dataframe):\n",
    "    \"\"\"\n",
    "    Crea el data profiling de variables numericas y categoricas\n",
    "    \"\"\"\n",
    "    \n",
    "    # Primero asignamos un data frame con los nombres de las columnas que saldran\n",
    "    df_num = pd.DataFrame(columns = ['tipo_de_dato','observaciones','media','cuantil_25',\n",
    "                                   'cuantil_50','cuantil_75','valor_max','valor_min',\n",
    "                                   'observaciones_unicas','top_1','top_2','top_3','numero_de_nan'])\n",
    "    df_cat = pd.DataFrame(columns = ['n_de_categorias','moda','top_1','top_2','top_3','numero_de_nan'])\n",
    "    \n",
    "    \n",
    "    # Hacemos un loop para que itere sobre las columnas del data frame\n",
    "    for columna in dataframe:\n",
    "        \n",
    "        # Condicional para datos numericos\n",
    "        if pd.api.types.is_numeric_dtype(dataframe[columna]):\n",
    "            # Estadisticos\n",
    "            tipo_de_dato = dataframe[columna].dtype \n",
    "            obs = len(dataframe[columna])\n",
    "            std = dataframe[columna].std()\n",
    "            media = dataframe[columna].mean()\n",
    "            cuantil_25 = dataframe[columna].quantile(.25)\n",
    "            cuantil_50 = dataframe[columna].quantile(.5)\n",
    "            cuantil_75 = dataframe[columna].quantile(.75)\n",
    "            maximo = dataframe[columna].max()\n",
    "            minimo = dataframe[columna].min()\n",
    "            obs_unic = dataframe[columna].nunique()\n",
    "            num_de_nan = dataframe[columna].isna().sum()\n",
    "            # Top 3\n",
    "            if dataframe[columna].nunique() >= 3:\n",
    "                top_3= dataframe.groupby([columna])[columna].count().sort_values(ascending = False).head(3)\n",
    "                top_1 = top_3.index[0]\n",
    "                top_2 = top_3.index[1]\n",
    "                top_3 = top_3.index[2]\n",
    "            else:\n",
    "                top_3 = dataframe.groupby([columna])[columna].count().sort_values(ascending = False).head(3)\n",
    "                top_1 = top_3.index[0]\n",
    "                top_2 = top_3.index[0]\n",
    "                top_3 = top_3.index[0]\n",
    "                \n",
    "            # Asignamos los estadisticos a las columnas\n",
    "            datos = {'tipo_de_dato':tipo_de_dato,'observaciones':obs,'media':media,\n",
    "                    'cuantil_25':cuantil_25,'cuantil_50':cuantil_50,'cuantil_75':cuantil_75,\n",
    "                    'valor_max':maximo,'valor_min':minimo,'observaciones_unicas':obs_unic,\n",
    "                    'top_1':top_1,'top_2':top_2,'top_3':top_3,'numero_de_nan':num_de_nan}\n",
    "            \n",
    "            # Los vamos agregando a un nuevo data frame \n",
    "            df1 = pd.DataFrame(datos, index = [columna])\n",
    "            df_num = df_num.append(df1)\n",
    "        \n",
    "        # Condicional para los categoricos    \n",
    "        else:\n",
    "            # Estadisticos\n",
    "            num_cat = dataframe[columna].nunique()\n",
    "            moda = dataframe[columna].mode(dropna=True)[0]\n",
    "            num_de_nan = dataframe[columna].isna().sum()\n",
    "            # Top 3\n",
    "            if dataframe[columna].nunique() >= 3:\n",
    "                top_3= dataframe.groupby([columna])[columna].count().sort_values(ascending = False).head(3)\n",
    "                top_1 = top_3.index[0]\n",
    "                top_2 = top_3.index[1]\n",
    "                top_3 = top_3.index[2]\n",
    "            else:\n",
    "                top_3 = dataframe.groupby([columna])[columna].count().sort_values(ascending = False).head(3)\n",
    "                top_1 = top_3.index[0]\n",
    "                top_2 = top_3.index[0]\n",
    "                top_3 = top_3.index[0]\n",
    "                \n",
    "            # Asignamos estadisticos a columnas\n",
    "            datos = {'n_de_categorias':num_cat,'moda':moda,'top_1':top_1,'top_2':top_2,\n",
    "                     'top_3':top_3,'numero_de_nan':num_de_nan}\n",
    "            \n",
    "            # Los vamos agregando a un nuevo data frame\n",
    "            df1 = pd.DataFrame(datos, index = [columna])\n",
    "            df_cat = df_cat.append(df1)\n",
    "            \n",
    "    # Regresa dos bases una para las variables numericas y otro para variables categoricas\n",
    "    return df_num, df_cat"
   ]
  },
  {
   "cell_type": "code",
   "execution_count": 79,
   "metadata": {},
   "outputs": [],
   "source": [
    "numerico, categorico = data_profiling(c5)"
   ]
  },
  {
   "cell_type": "code",
   "execution_count": 80,
   "metadata": {},
   "outputs": [
    {
     "data": {
      "text/html": [
       "<div>\n",
       "<style scoped>\n",
       "    .dataframe tbody tr th:only-of-type {\n",
       "        vertical-align: middle;\n",
       "    }\n",
       "\n",
       "    .dataframe tbody tr th {\n",
       "        vertical-align: top;\n",
       "    }\n",
       "\n",
       "    .dataframe thead th {\n",
       "        text-align: right;\n",
       "    }\n",
       "</style>\n",
       "<table border=\"1\" class=\"dataframe\">\n",
       "  <thead>\n",
       "    <tr style=\"text-align: right;\">\n",
       "      <th></th>\n",
       "      <th>tipo_de_dato</th>\n",
       "      <th>observaciones</th>\n",
       "      <th>media</th>\n",
       "      <th>cuantil_25</th>\n",
       "      <th>cuantil_50</th>\n",
       "      <th>cuantil_75</th>\n",
       "      <th>valor_max</th>\n",
       "      <th>valor_min</th>\n",
       "      <th>observaciones_unicas</th>\n",
       "      <th>top_1</th>\n",
       "      <th>top_2</th>\n",
       "      <th>top_3</th>\n",
       "      <th>numero_de_nan</th>\n",
       "    </tr>\n",
       "  </thead>\n",
       "  <tbody>\n",
       "    <tr>\n",
       "      <th>año_cierre</th>\n",
       "      <td>int64</td>\n",
       "      <td>1383138</td>\n",
       "      <td>2017.022848</td>\n",
       "      <td>2015.00000</td>\n",
       "      <td>2017.00000</td>\n",
       "      <td>2019.00000</td>\n",
       "      <td>2020</td>\n",
       "      <td>2014</td>\n",
       "      <td>7</td>\n",
       "      <td>2018</td>\n",
       "      <td>2019</td>\n",
       "      <td>2017</td>\n",
       "      <td>0</td>\n",
       "    </tr>\n",
       "    <tr>\n",
       "      <th>latitud</th>\n",
       "      <td>float64</td>\n",
       "      <td>1383138</td>\n",
       "      <td>19.383909</td>\n",
       "      <td>19.33685</td>\n",
       "      <td>19.38408</td>\n",
       "      <td>19.43496</td>\n",
       "      <td>195.303</td>\n",
       "      <td>19.094</td>\n",
       "      <td>82501</td>\n",
       "      <td>19.3043</td>\n",
       "      <td>19.3717</td>\n",
       "      <td>19.347</td>\n",
       "      <td>443</td>\n",
       "    </tr>\n",
       "    <tr>\n",
       "      <th>longitud</th>\n",
       "      <td>float64</td>\n",
       "      <td>1383138</td>\n",
       "      <td>-99.143590</td>\n",
       "      <td>-99.17930</td>\n",
       "      <td>-99.14023</td>\n",
       "      <td>-99.09600</td>\n",
       "      <td>-98.9454</td>\n",
       "      <td>-991.764</td>\n",
       "      <td>78984</td>\n",
       "      <td>-99.0802</td>\n",
       "      <td>-99.0871</td>\n",
       "      <td>-99.1806</td>\n",
       "      <td>435</td>\n",
       "    </tr>\n",
       "  </tbody>\n",
       "</table>\n",
       "</div>"
      ],
      "text/plain": [
       "           tipo_de_dato observaciones        media  cuantil_25  cuantil_50  \\\n",
       "año_cierre        int64       1383138  2017.022848  2015.00000  2017.00000   \n",
       "latitud         float64       1383138    19.383909    19.33685    19.38408   \n",
       "longitud        float64       1383138   -99.143590   -99.17930   -99.14023   \n",
       "\n",
       "            cuantil_75 valor_max valor_min observaciones_unicas    top_1  \\\n",
       "año_cierre  2019.00000      2020      2014                    7     2018   \n",
       "latitud       19.43496   195.303    19.094                82501  19.3043   \n",
       "longitud     -99.09600  -98.9454  -991.764                78984 -99.0802   \n",
       "\n",
       "              top_2    top_3 numero_de_nan  \n",
       "año_cierre     2019     2017             0  \n",
       "latitud     19.3717   19.347           443  \n",
       "longitud   -99.0871 -99.1806           435  "
      ]
     },
     "metadata": {},
     "output_type": "display_data"
    }
   ],
   "source": [
    "display(numerico)"
   ]
  },
  {
   "cell_type": "code",
   "execution_count": null,
   "metadata": {},
   "outputs": [],
   "source": [
    "# Número de categorías, moda, top 3 y valores faltantes\n",
    "display(categorico)"
   ]
  },
  {
   "cell_type": "code",
   "execution_count": null,
   "metadata": {},
   "outputs": [],
   "source": [
    "# Número de observaciones por categoría y proporción de observaciones por categoría. \n",
    "\n",
    "def num_prop(df,column_data):\n",
    "    # Número de observaciones por categoría\n",
    "    num=pd.value_counts(df[column_data]) \n",
    "    # Proporción de observaciones por categoría\n",
    "    prop=100 * df[column_data].value_counts() / len(df[column_data])\n",
    "    # Unión de columnas en una y renombramiento\n",
    "    columnas_num_prop = round(pd.concat([num, prop], \n",
    "                                        keys=['num_obs_cat', 'prop_obs_cat'],\n",
    "                                        axis=1),2)\n",
    "    \n",
    "    return columnas_num_prop"
   ]
  },
  {
   "cell_type": "code",
   "execution_count": null,
   "metadata": {},
   "outputs": [],
   "source": [
    "num_prop(c5,'mes')"
   ]
  },
  {
   "cell_type": "code",
   "execution_count": null,
   "metadata": {},
   "outputs": [],
   "source": [
    "num_prop(c5,delegacion_inicio)"
   ]
  },
  {
   "cell_type": "code",
   "execution_count": null,
   "metadata": {},
   "outputs": [],
   "source": [
    "c5.groupby(['delegacion_inicio']).count()"
   ]
  },
  {
   "cell_type": "code",
   "execution_count": null,
   "metadata": {},
   "outputs": [],
   "source": []
  },
  {
   "cell_type": "code",
   "execution_count": null,
   "metadata": {},
   "outputs": [],
   "source": [
    "list(c5.columns)"
   ]
  },
  {
   "cell_type": "code",
   "execution_count": null,
   "metadata": {},
   "outputs": [],
   "source": [
    "geo = c5.geopoint.str.split(\",\", n=1, expand = True)\n",
    "geo"
   ]
  },
  {
   "cell_type": "markdown",
   "metadata": {},
   "source": [
    "# GEDA"
   ]
  },
  {
   "cell_type": "code",
   "execution_count": null,
   "metadata": {},
   "outputs": [],
   "source": [
    "consu_alca_tot = pd.DataFrame(c5,\n",
    "                      columns=['delegacion_inicio',\n",
    "                               'incidente_c4',\n",
    "                               'clas_con_f_alarma',\n",
    "                               'tipo_entrada'])\\\n",
    ".groupby(['delegacion_inicio'], as_index=False).sum()#\\\n",
    "#.sort_values(by=['consumo_prom'], ascending=False)\\\n",
    "#.melt(id_vars='delegacion_inicio')\n",
    "\n"
   ]
  },
  {
   "cell_type": "code",
   "execution_count": null,
   "metadata": {},
   "outputs": [],
   "source": [
    "sns.set(style='whitegrid',rc={'figure.figsize':(8,11)},palette='crest')\n",
    "plt1 = sns.barplot(x=\"value\", y=\"alcaldia\", \n",
    "            data=consu_alca_tot, hue = 'variable')\n",
    "plt1.set(xlabel='Consumo Agua m3')\n",
    "plt.show()"
   ]
  },
  {
   "cell_type": "markdown",
   "metadata": {},
   "source": [
    "# Cambio de variables"
   ]
  },
  {
   "cell_type": "code",
   "execution_count": null,
   "metadata": {},
   "outputs": [],
   "source": [
    "c5.dtypes"
   ]
  },
  {
   "cell_type": "markdown",
   "metadata": {},
   "source": [
    "# Imputación"
   ]
  },
  {
   "cell_type": "markdown",
   "metadata": {},
   "source": [
    "#Variables a imputar\n",
    "\n",
    "latitud\n",
    "\n",
    "longitud\n",
    "\n",
    "delegacion_inicio\n",
    "\n",
    "delegacion_cierre"
   ]
  },
  {
   "cell_type": "code",
   "execution_count": null,
   "metadata": {},
   "outputs": [],
   "source": []
  },
  {
   "cell_type": "code",
   "execution_count": null,
   "metadata": {},
   "outputs": [],
   "source": []
  },
  {
   "cell_type": "markdown",
   "metadata": {},
   "source": [
    "# Graficas Diego"
   ]
  },
  {
   "cell_type": "code",
   "execution_count": null,
   "metadata": {},
   "outputs": [],
   "source": []
  },
  {
   "cell_type": "markdown",
   "metadata": {},
   "source": [
    "Mapas"
   ]
  },
  {
   "cell_type": "code",
   "execution_count": null,
   "metadata": {},
   "outputs": [],
   "source": [
    "data.groupby('delegacion_inicio')['folio'].nunique()\n",
    "data_map=data[data.delegacion_inicio==\"IZTAPALAPA\"]"
   ]
  },
  {
   "cell_type": "code",
   "execution_count": null,
   "metadata": {},
   "outputs": [],
   "source": [
    "fig = px.scatter_mapbox(data_map, lat=\"latitud\", lon=\"longitud\",color=\"codigo_cierre\",color_continuous_scale=px.colors.cyclical.IceFire, size_max=15, zoom=3)\n",
    "fig.update_layout(mapbox_style=\"open-street-map\")\n",
    "fig.show()"
   ]
  },
  {
   "cell_type": "code",
   "execution_count": null,
   "metadata": {},
   "outputs": [],
   "source": [
    "data=data.assign(count=1)"
   ]
  },
  {
   "cell_type": "code",
   "execution_count": null,
   "metadata": {},
   "outputs": [],
   "source": [
    "pivot_1=data[['count','dia_semana','clas_con_f_alarma']].groupby(['clas_con_f_alarma','dia_semana']).sum().reset_index()"
   ]
  },
  {
   "cell_type": "code",
   "execution_count": null,
   "metadata": {},
   "outputs": [],
   "source": [
    "sns.barplot(x=\"count\", y=\"clas_con_f_alarma\", data=pivot_1)"
   ]
  }
 ],
 "metadata": {
  "kernelspec": {
   "display_name": "Python 3",
   "language": "python",
   "name": "python3"
  },
  "language_info": {
   "codemirror_mode": {
    "name": "ipython",
    "version": 3
   },
   "file_extension": ".py",
   "mimetype": "text/x-python",
   "name": "python",
   "nbconvert_exporter": "python",
   "pygments_lexer": "ipython3",
   "version": "3.7.4"
  }
 },
 "nbformat": 4,
 "nbformat_minor": 4
}
