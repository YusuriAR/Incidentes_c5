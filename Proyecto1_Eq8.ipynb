{
 "cells": [
  {
   "cell_type": "markdown",
   "metadata": {},
   "source": [
    "### **Equipo 8**\n",
    "\n",
    "- Diego Villegas Juárez     197902\n",
    "- Yedam Axel Fortiz Vargas  119523\n",
    "- Yusuri Arciga Reyes       190063\n",
    "\n",
    "### **Proyecto 1**\n",
    "\n",
    "EDA de Accidentes viales en la CDMX reportados por C5\n",
    "\n",
    "Nuestras variables son las siguientes:\n",
    "\n",
    "folio,\n",
    "fecha de creación del reporte,\n",
    "hora de creación del reporte,\n",
    "día de la semana de creación del reporte,\n",
    "fecha de cierre de reporte,\n",
    "hora de cierre de reporte,\n",
    "motivo del incidente dependiendo del tipo de emergencia,\n",
    "alcaldía donde sucedió el incidente,\n",
    "latitud y longitud del incidente,\n",
    "código de cierre del incidente reportado,\n",
    "clasificación del incidente,\n",
    "origen del incidente por tipo,\n",
    "alcaldía en que se dio resolución al incidente o emergencia\n",
    "\n",
    "En la base de datos tenemos 1,383,138 registros y 18 variables: \n",
    "\n",
    "- folio\n",
    "- fecha_creacion\n",
    "- hora_creacion\n",
    "- dia_semana\n",
    "- codigo_cierre\n",
    "- fecha_cierre\n",
    "- año_cierre\n",
    "- mes_cierre\n",
    "- hora_cierre\n",
    "- delegacion_inicio\n",
    "- incidente_c4\n",
    "- latitud\n",
    "- longitud\n",
    "- clas_con_f_alarma\n",
    "- tipo_entrada\n",
    "- delegacion_cierre\n",
    "- geopoint\n",
    "- mes\n",
    "  \n",
    "Tenemos datos de 2014-2020\n",
    "\n",
    "    Data profiling:\n",
    "     -  Tabla de data profiling para las columnas numéricas. Explica las 3 cosas más relevantes.\n",
    "     -  Tabla de data profiling para las columnas categóricas. Explica las 3 cosas más relevantes.\n",
    "        Tabla de data profiling para las columnas de fecha. Explica las 3 cosas más relevantes.\n",
    "        Tabla de data profiling para las columnas geoespaciales. Explica las 3 cosas más relevantes.\n",
    "\n",
    "\n",
    "   - Se identifica el número de registros con los que cuentan\n",
    "   - Se identifica el periodo con el se cuentan los datos\n",
    "        Saltos?\n",
    "        Todo el periodo?\n",
    "   - Se identifican las variables con las que contamos\n",
    "   - Se identifican los faltantes de datos por variable (%)\n",
    "    \n",
    "    Las gráficas no son ambiguas\n",
    "    Las gráficas no son \"barrocas\"\n",
    "    Las gráficas tienen los nombres en los ejes\n",
    "    Las etiquetas en los \"ticks\" de los ejes están con comas o con K, M, etc. de ser necesario. Por ejemplo: 100k para 100,000, o 100,000 (con coma incluido)\n",
    "    Los nombres de los ejes incluyen unidades. Por ejemplo m^3\n",
    "    Se identifican cosas \"raras\"\n",
    "    Se ocupan las gráficas adecuadas\n",
    "    Se habla en lenguaje de negocio, aún explicando cosas técnicas\n",
    "    Se cuenta una historia coherente\n"
   ]
  },
  {
   "cell_type": "code",
   "execution_count": 25,
   "metadata": {},
   "outputs": [],
   "source": [
    "import pandas as pd\n",
    "import numpy as np\n",
    "#import plotly.express as px\n",
    "import seaborn as sns\n",
    "import matplotlib.pyplot as plt\n",
    "from datetime import datetime"
   ]
  },
  {
   "cell_type": "code",
   "execution_count": 2,
   "metadata": {},
   "outputs": [],
   "source": [
    "c5 = pd.read_csv('incidentes-viales-c5.csv')"
   ]
  },
  {
   "cell_type": "code",
   "execution_count": 3,
   "metadata": {},
   "outputs": [
    {
     "data": {
      "text/plain": [
       "(1383138, 18)"
      ]
     },
     "execution_count": 3,
     "metadata": {},
     "output_type": "execute_result"
    }
   ],
   "source": [
    "c5.shape"
   ]
  },
  {
   "cell_type": "code",
   "execution_count": 5,
   "metadata": {},
   "outputs": [
    {
     "data": {
      "text/plain": [
       "folio                 object\n",
       "fecha_creacion        object\n",
       "hora_creacion         object\n",
       "dia_semana            object\n",
       "codigo_cierre         object\n",
       "fecha_cierre          object\n",
       "año_cierre             int64\n",
       "mes_cierre            object\n",
       "hora_cierre           object\n",
       "delegacion_inicio     object\n",
       "incidente_c4          object\n",
       "latitud              float64\n",
       "longitud             float64\n",
       "clas_con_f_alarma     object\n",
       "tipo_entrada          object\n",
       "delegacion_cierre     object\n",
       "geopoint              object\n",
       "mes                    int64\n",
       "dtype: object"
      ]
     },
     "execution_count": 5,
     "metadata": {},
     "output_type": "execute_result"
    }
   ],
   "source": [
    "c5.dtypes"
   ]
  },
  {
   "cell_type": "code",
   "execution_count": 11,
   "metadata": {},
   "outputs": [
    {
     "data": {
      "text/plain": [
       "Index(['folio', 'fecha_creacion', 'hora_creacion', 'dia_semana',\n",
       "       'codigo_cierre', 'fecha_cierre', 'año_cierre', 'mes_cierre',\n",
       "       'hora_cierre', 'delegacion_inicio', 'incidente_c4', 'latitud',\n",
       "       'longitud', 'clas_con_f_alarma', 'tipo_entrada', 'delegacion_cierre',\n",
       "       'geopoint', 'mes'],\n",
       "      dtype='object')"
      ]
     },
     "execution_count": 11,
     "metadata": {},
     "output_type": "execute_result"
    }
   ],
   "source": [
    "c5.columns"
   ]
  },
  {
   "cell_type": "code",
   "execution_count": 4,
   "metadata": {},
   "outputs": [
    {
     "data": {
      "text/plain": [
       "folio                1383138\n",
       "fecha_creacion          2637\n",
       "hora_creacion         105887\n",
       "dia_semana                 7\n",
       "codigo_cierre              5\n",
       "fecha_cierre            2621\n",
       "año_cierre                 7\n",
       "mes_cierre                12\n",
       "hora_cierre           106827\n",
       "delegacion_inicio         16\n",
       "incidente_c4              26\n",
       "latitud                82501\n",
       "longitud               78984\n",
       "clas_con_f_alarma          4\n",
       "tipo_entrada               9\n",
       "delegacion_cierre         16\n",
       "geopoint              134288\n",
       "mes                       12\n",
       "dtype: int64"
      ]
     },
     "execution_count": 4,
     "metadata": {},
     "output_type": "execute_result"
    }
   ],
   "source": [
    "c5.nunique()"
   ]
  },
  {
   "cell_type": "code",
   "execution_count": 14,
   "metadata": {},
   "outputs": [
    {
     "data": {
      "text/html": [
       "<div>\n",
       "<style scoped>\n",
       "    .dataframe tbody tr th:only-of-type {\n",
       "        vertical-align: middle;\n",
       "    }\n",
       "\n",
       "    .dataframe tbody tr th {\n",
       "        vertical-align: top;\n",
       "    }\n",
       "\n",
       "    .dataframe thead th {\n",
       "        text-align: right;\n",
       "    }\n",
       "</style>\n",
       "<table border=\"1\" class=\"dataframe\">\n",
       "  <thead>\n",
       "    <tr style=\"text-align: right;\">\n",
       "      <th></th>\n",
       "      <th>folio</th>\n",
       "      <th>fecha_creacion</th>\n",
       "      <th>hora_creacion</th>\n",
       "      <th>dia_semana</th>\n",
       "      <th>codigo_cierre</th>\n",
       "      <th>fecha_cierre</th>\n",
       "      <th>año_cierre</th>\n",
       "      <th>mes_cierre</th>\n",
       "      <th>hora_cierre</th>\n",
       "      <th>delegacion_inicio</th>\n",
       "      <th>incidente_c4</th>\n",
       "      <th>latitud</th>\n",
       "      <th>longitud</th>\n",
       "      <th>clas_con_f_alarma</th>\n",
       "      <th>tipo_entrada</th>\n",
       "      <th>delegacion_cierre</th>\n",
       "      <th>geopoint</th>\n",
       "      <th>mes</th>\n",
       "    </tr>\n",
       "  </thead>\n",
       "  <tbody>\n",
       "    <tr>\n",
       "      <th>0</th>\n",
       "      <td>GA/160123/05714</td>\n",
       "      <td>23/01/2016</td>\n",
       "      <td>22:35:04</td>\n",
       "      <td>Sábado</td>\n",
       "      <td>(A) La unidad de atención a emergencias fue de...</td>\n",
       "      <td>24/01/2016</td>\n",
       "      <td>2016</td>\n",
       "      <td>Enero</td>\n",
       "      <td>00:21:08</td>\n",
       "      <td>VENUSTIANO CARRANZA</td>\n",
       "      <td>accidente-choque sin lesionados</td>\n",
       "      <td>19.422113</td>\n",
       "      <td>-99.084643</td>\n",
       "      <td>EMERGENCIA</td>\n",
       "      <td>BOTÓN DE AUXILIO</td>\n",
       "      <td>VENUSTIANO CARRANZA</td>\n",
       "      <td>19.422113,-99.084643</td>\n",
       "      <td>1</td>\n",
       "    </tr>\n",
       "    <tr>\n",
       "      <th>1</th>\n",
       "      <td>AO/160123/05826</td>\n",
       "      <td>23/01/2016</td>\n",
       "      <td>22:50:49</td>\n",
       "      <td>Sábado</td>\n",
       "      <td>(A) La unidad de atención a emergencias fue de...</td>\n",
       "      <td>24/01/2016</td>\n",
       "      <td>2016</td>\n",
       "      <td>Enero</td>\n",
       "      <td>04:40:37</td>\n",
       "      <td>CUAJIMALPA</td>\n",
       "      <td>accidente-choque con lesionados</td>\n",
       "      <td>19.358320</td>\n",
       "      <td>-99.297641</td>\n",
       "      <td>URGENCIAS MEDICAS</td>\n",
       "      <td>BOTÓN DE AUXILIO</td>\n",
       "      <td>CUAJIMALPA</td>\n",
       "      <td>19.35832,-99.297641</td>\n",
       "      <td>1</td>\n",
       "    </tr>\n",
       "    <tr>\n",
       "      <th>2</th>\n",
       "      <td>C4/160124/02187</td>\n",
       "      <td>24/01/2016</td>\n",
       "      <td>09:40:11</td>\n",
       "      <td>Domingo</td>\n",
       "      <td>(N) La unidad de atención a emergencias fue de...</td>\n",
       "      <td>24/01/2016</td>\n",
       "      <td>2016</td>\n",
       "      <td>Enero</td>\n",
       "      <td>11:13:03</td>\n",
       "      <td>TLALPAN</td>\n",
       "      <td>accidente-choque sin lesionados</td>\n",
       "      <td>19.217070</td>\n",
       "      <td>-99.219070</td>\n",
       "      <td>EMERGENCIA</td>\n",
       "      <td>LLAMADA DEL 066</td>\n",
       "      <td>TLALPAN</td>\n",
       "      <td>19.21707,-99.21907008</td>\n",
       "      <td>1</td>\n",
       "    </tr>\n",
       "    <tr>\n",
       "      <th>3</th>\n",
       "      <td>C4/160124/05723</td>\n",
       "      <td>24/01/2016</td>\n",
       "      <td>22:40:57</td>\n",
       "      <td>Domingo</td>\n",
       "      <td>(N) La unidad de atención a emergencias fue de...</td>\n",
       "      <td>24/01/2016</td>\n",
       "      <td>2016</td>\n",
       "      <td>Enero</td>\n",
       "      <td>22:55:51</td>\n",
       "      <td>MAGDALENA CONTRERAS</td>\n",
       "      <td>accidente-choque sin lesionados</td>\n",
       "      <td>19.320580</td>\n",
       "      <td>-99.241010</td>\n",
       "      <td>EMERGENCIA</td>\n",
       "      <td>LLAMADA DEL 066</td>\n",
       "      <td>MAGDALENA CONTRERAS</td>\n",
       "      <td>19.32057999,-99.24100992</td>\n",
       "      <td>1</td>\n",
       "    </tr>\n",
       "    <tr>\n",
       "      <th>4</th>\n",
       "      <td>C4/160124/01334</td>\n",
       "      <td>24/01/2016</td>\n",
       "      <td>04:25:15</td>\n",
       "      <td>Domingo</td>\n",
       "      <td>(A) La unidad de atención a emergencias fue de...</td>\n",
       "      <td>24/01/2016</td>\n",
       "      <td>2016</td>\n",
       "      <td>Enero</td>\n",
       "      <td>05:03:59</td>\n",
       "      <td>MIGUEL HIDALGO</td>\n",
       "      <td>accidente-choque sin lesionados</td>\n",
       "      <td>19.452900</td>\n",
       "      <td>-99.215870</td>\n",
       "      <td>EMERGENCIA</td>\n",
       "      <td>LLAMADA DEL 066</td>\n",
       "      <td>MIGUEL HIDALGO</td>\n",
       "      <td>19.45289997,-99.21587004</td>\n",
       "      <td>1</td>\n",
       "    </tr>\n",
       "  </tbody>\n",
       "</table>\n",
       "</div>"
      ],
      "text/plain": [
       "             folio fecha_creacion hora_creacion dia_semana  \\\n",
       "0  GA/160123/05714     23/01/2016      22:35:04     Sábado   \n",
       "1  AO/160123/05826     23/01/2016      22:50:49     Sábado   \n",
       "2  C4/160124/02187     24/01/2016      09:40:11    Domingo   \n",
       "3  C4/160124/05723     24/01/2016      22:40:57    Domingo   \n",
       "4  C4/160124/01334     24/01/2016      04:25:15    Domingo   \n",
       "\n",
       "                                       codigo_cierre fecha_cierre  año_cierre  \\\n",
       "0  (A) La unidad de atención a emergencias fue de...   24/01/2016        2016   \n",
       "1  (A) La unidad de atención a emergencias fue de...   24/01/2016        2016   \n",
       "2  (N) La unidad de atención a emergencias fue de...   24/01/2016        2016   \n",
       "3  (N) La unidad de atención a emergencias fue de...   24/01/2016        2016   \n",
       "4  (A) La unidad de atención a emergencias fue de...   24/01/2016        2016   \n",
       "\n",
       "  mes_cierre hora_cierre    delegacion_inicio  \\\n",
       "0      Enero    00:21:08  VENUSTIANO CARRANZA   \n",
       "1      Enero    04:40:37           CUAJIMALPA   \n",
       "2      Enero    11:13:03              TLALPAN   \n",
       "3      Enero    22:55:51  MAGDALENA CONTRERAS   \n",
       "4      Enero    05:03:59       MIGUEL HIDALGO   \n",
       "\n",
       "                      incidente_c4    latitud   longitud  clas_con_f_alarma  \\\n",
       "0  accidente-choque sin lesionados  19.422113 -99.084643         EMERGENCIA   \n",
       "1  accidente-choque con lesionados  19.358320 -99.297641  URGENCIAS MEDICAS   \n",
       "2  accidente-choque sin lesionados  19.217070 -99.219070         EMERGENCIA   \n",
       "3  accidente-choque sin lesionados  19.320580 -99.241010         EMERGENCIA   \n",
       "4  accidente-choque sin lesionados  19.452900 -99.215870         EMERGENCIA   \n",
       "\n",
       "       tipo_entrada    delegacion_cierre                  geopoint  mes  \n",
       "0  BOTÓN DE AUXILIO  VENUSTIANO CARRANZA      19.422113,-99.084643    1  \n",
       "1  BOTÓN DE AUXILIO           CUAJIMALPA       19.35832,-99.297641    1  \n",
       "2   LLAMADA DEL 066              TLALPAN     19.21707,-99.21907008    1  \n",
       "3   LLAMADA DEL 066  MAGDALENA CONTRERAS  19.32057999,-99.24100992    1  \n",
       "4   LLAMADA DEL 066       MIGUEL HIDALGO  19.45289997,-99.21587004    1  "
      ]
     },
     "execution_count": 14,
     "metadata": {},
     "output_type": "execute_result"
    }
   ],
   "source": [
    "c5.head()"
   ]
  },
  {
   "cell_type": "code",
   "execution_count": 28,
   "metadata": {},
   "outputs": [
    {
     "data": {
      "text/plain": [
       "['Sábado', 'Domingo', 'Lunes', 'Martes', 'Miércoles', 'Jueves', 'Viernes']\n",
       "Categories (7, object): ['Sábado', 'Domingo', 'Lunes', 'Martes', 'Miércoles', 'Jueves', 'Viernes']"
      ]
     },
     "execution_count": 28,
     "metadata": {},
     "output_type": "execute_result"
    }
   ],
   "source": [
    "c5.dia_semana.unique()"
   ]
  },
  {
   "cell_type": "code",
   "execution_count": 29,
   "metadata": {},
   "outputs": [
    {
     "data": {
      "text/plain": [
       "array(['(A) La unidad de atención a emergencias fue despachada, llegó al lugar de los hechos y confirmó la emergencia reportada',\n",
       "       '(N) La unidad de atención a emergencias fue despachada, llegó al lugar de los hechos, pero en el sitio del evento nadie solicitó el apoyo de la unidad',\n",
       "       '(D) El incidente reportado se registró en dos o más ocasiones procediendo a mantener un único reporte (afirmativo, informativo, negativo o falso) como el identificador para el incidente',\n",
       "       '(F) El operador/a o despachador/a identifican, antes de dar respuesta a la emergencia, que ésta es falsa. O al ser despachada una unidad de atención a emergencias en el lugar de los hechos se percatan que el incidente no corresponde al reportado inicialmente',\n",
       "       '(I) El incidente reportado es afirmativo y se añade información adicional al evento'],\n",
       "      dtype=object)"
      ]
     },
     "execution_count": 29,
     "metadata": {},
     "output_type": "execute_result"
    }
   ],
   "source": [
    "c5.codigo_cierre.unique()"
   ]
  },
  {
   "cell_type": "code",
   "execution_count": 30,
   "metadata": {},
   "outputs": [
    {
     "data": {
      "text/plain": [
       "array([2016, 2017, 2018, 2019, 2015, 2014, 2020])"
      ]
     },
     "execution_count": 30,
     "metadata": {},
     "output_type": "execute_result"
    }
   ],
   "source": [
    "c5.año_cierre.unique()"
   ]
  },
  {
   "cell_type": "code",
   "execution_count": 31,
   "metadata": {},
   "outputs": [
    {
     "data": {
      "text/plain": [
       "array(['Enero', 'Febrero', 'Marzo', 'Septiembre', 'Octubre', 'Mayo',\n",
       "       'Junio', 'Abril', 'Agosto', 'Diciembre', 'Julio', 'Noviembre'],\n",
       "      dtype=object)"
      ]
     },
     "execution_count": 31,
     "metadata": {},
     "output_type": "execute_result"
    }
   ],
   "source": [
    "c5.mes_cierre.unique()"
   ]
  },
  {
   "cell_type": "code",
   "execution_count": 32,
   "metadata": {},
   "outputs": [
    {
     "data": {
      "text/plain": [
       "['VENUSTIANO CARRANZA', 'CUAJIMALPA', 'TLALPAN', 'MAGDALENA CONTRERAS', 'MIGUEL HIDALGO', ..., 'IZTACALCO', 'MILPA ALTA', 'ALVARO OBREGON', 'XOCHIMILCO', NaN]\n",
       "Length: 17\n",
       "Categories (16, object): ['VENUSTIANO CARRANZA', 'CUAJIMALPA', 'TLALPAN', 'MAGDALENA CONTRERAS', ..., 'IZTACALCO', 'MILPA ALTA', 'ALVARO OBREGON', 'XOCHIMILCO']"
      ]
     },
     "execution_count": 32,
     "metadata": {},
     "output_type": "execute_result"
    }
   ],
   "source": [
    "c5.delegacion_inicio.unique()"
   ]
  },
  {
   "cell_type": "code",
   "execution_count": 33,
   "metadata": {},
   "outputs": [
    {
     "data": {
      "text/plain": [
       "array(['accidente-choque sin lesionados',\n",
       "       'accidente-choque con lesionados',\n",
       "       'lesionado-accidente automovilístico', 'accidente-volcadura',\n",
       "       'lesionado-atropellado', 'accidente-otros',\n",
       "       'accidente-persona atrapada / desbarrancada',\n",
       "       'cadáver-accidente automovilístico', 'cadáver-atropellado',\n",
       "       'accidente-motociclista', 'accidente-vehiculo desbarrancado',\n",
       "       'accidente-choque con prensados', 'accidente-vehiculo atrapado',\n",
       "       'accidente-ciclista', 'accidente-monopatín',\n",
       "       'sismo-choque con lesionados',\n",
       "       'accidente-vehículo atrapado-varado',\n",
       "       'detención ciudadana-atropellado', 'accidente-ferroviario',\n",
       "       'detención ciudadana-accidente automovilístico',\n",
       "       'sismo-choque sin lesionados', 'sismo-persona atropellada',\n",
       "       'Detención ciudadana-accidente automovilístico',\n",
       "       'sismo-choque con prensados',\n",
       "       'mi ciudad-calle-incidente de tránsito',\n",
       "       'mi ciudad-taxi-incidente de tránsito'], dtype=object)"
      ]
     },
     "execution_count": 33,
     "metadata": {},
     "output_type": "execute_result"
    }
   ],
   "source": [
    "c5.incidente_c4.unique()"
   ]
  },
  {
   "cell_type": "code",
   "execution_count": 34,
   "metadata": {},
   "outputs": [
    {
     "data": {
      "text/plain": [
       "array(['EMERGENCIA', 'URGENCIAS MEDICAS', 'FALSA ALARMA', 'DELITO'],\n",
       "      dtype=object)"
      ]
     },
     "execution_count": 34,
     "metadata": {},
     "output_type": "execute_result"
    }
   ],
   "source": [
    "c5.clas_con_f_alarma.unique()"
   ]
  },
  {
   "cell_type": "code",
   "execution_count": 35,
   "metadata": {},
   "outputs": [
    {
     "data": {
      "text/plain": [
       "['BOTÓN DE AUXILIO', 'LLAMADA DEL 066', 'RADIO', 'CÁMARA', 'REDES', 'LLAMADA DEL 911', 'LLAMADA APP911', 'ZELLO', 'APLICATIVOS']\n",
       "Categories (9, object): ['BOTÓN DE AUXILIO', 'LLAMADA DEL 066', 'RADIO', 'CÁMARA', ..., 'LLAMADA DEL 911', 'LLAMADA APP911', 'ZELLO', 'APLICATIVOS']"
      ]
     },
     "execution_count": 35,
     "metadata": {},
     "output_type": "execute_result"
    }
   ],
   "source": [
    "c5.tipo_entrada.unique()"
   ]
  },
  {
   "cell_type": "code",
   "execution_count": 36,
   "metadata": {},
   "outputs": [
    {
     "data": {
      "text/plain": [
       "['VENUSTIANO CARRANZA', 'CUAJIMALPA', 'TLALPAN', 'MAGDALENA CONTRERAS', 'MIGUEL HIDALGO', ..., 'AZCAPOTZALCO', 'IZTACALCO', 'MILPA ALTA', 'XOCHIMILCO', NaN]\n",
       "Length: 17\n",
       "Categories (16, object): ['VENUSTIANO CARRANZA', 'CUAJIMALPA', 'TLALPAN', 'MAGDALENA CONTRERAS', ..., 'AZCAPOTZALCO', 'IZTACALCO', 'MILPA ALTA', 'XOCHIMILCO']"
      ]
     },
     "execution_count": 36,
     "metadata": {},
     "output_type": "execute_result"
    }
   ],
   "source": [
    "c5.delegacion_cierre.unique()"
   ]
  },
  {
   "cell_type": "code",
   "execution_count": 37,
   "metadata": {},
   "outputs": [
    {
     "data": {
      "text/plain": [
       "array([ 1,  2,  3,  9, 10,  5,  6,  4,  8, 12,  7, 11])"
      ]
     },
     "execution_count": 37,
     "metadata": {},
     "output_type": "execute_result"
    }
   ],
   "source": [
    "c5.mes.unique()"
   ]
  },
  {
   "cell_type": "markdown",
   "metadata": {},
   "source": [
    "Convertir al tipo correcto de variable"
   ]
  },
  {
   "cell_type": "code",
   "execution_count": 7,
   "metadata": {},
   "outputs": [],
   "source": [
    "c5['fecha_creacion'] = pd.to_datetime(c5['fecha_creacion'])\n",
    "#c5['hora_creacion'] = pd.to_datetime(c5['hora_creacion'])\n",
    "c5['dia_semana'] = c5.dia_semana.astype('category')\n",
    "c5['codigo_cierre'] = c5.codigo_cierre.astype('category')\n",
    "c5['fecha_cierre'] = pd.to_datetime(c5['fecha_cierre'])\n",
    "c5['mes_cierre'] = c5.mes_cierre.astype('category')\n",
    "#c5['hora_cierre'] = pd.to_datetime(c5['hora_cierre'])\n",
    "c5['delegacion_inicio'] = c5.delegacion_inicio.astype('category')\n",
    "c5['clas_con_f_alarma'] = c5.clas_con_f_alarma.astype('category')\n",
    "c5['tipo_entrada'] = c5.tipo_entrada.astype('category')\n",
    "c5['delegacion_cierre'] = c5.delegacion_cierre.astype('category')\n",
    "#eliminar geopoint\n",
    "c5['mes'] = c5.mes.astype('category')"
   ]
  },
  {
   "cell_type": "code",
   "execution_count": 4,
   "metadata": {},
   "outputs": [
    {
     "data": {
      "text/plain": [
       "folio                        object\n",
       "fecha_creacion       datetime64[ns]\n",
       "hora_creacion                object\n",
       "dia_semana                 category\n",
       "codigo_cierre              category\n",
       "fecha_cierre         datetime64[ns]\n",
       "año_cierre                    int64\n",
       "mes_cierre                 category\n",
       "hora_cierre                  object\n",
       "delegacion_inicio          category\n",
       "incidente_c4                 object\n",
       "latitud                     float64\n",
       "longitud                    float64\n",
       "clas_con_f_alarma          category\n",
       "tipo_entrada               category\n",
       "delegacion_cierre          category\n",
       "geopoint                     object\n",
       "mes                        category\n",
       "dtype: object"
      ]
     },
     "execution_count": 4,
     "metadata": {},
     "output_type": "execute_result"
    }
   ],
   "source": [
    "c5.dtypes"
   ]
  },
  {
   "cell_type": "code",
   "execution_count": 45,
   "metadata": {},
   "outputs": [
    {
     "data": {
      "text/html": [
       "<div>\n",
       "<style scoped>\n",
       "    .dataframe tbody tr th:only-of-type {\n",
       "        vertical-align: middle;\n",
       "    }\n",
       "\n",
       "    .dataframe tbody tr th {\n",
       "        vertical-align: top;\n",
       "    }\n",
       "\n",
       "    .dataframe thead th {\n",
       "        text-align: right;\n",
       "    }\n",
       "</style>\n",
       "<table border=\"1\" class=\"dataframe\">\n",
       "  <thead>\n",
       "    <tr style=\"text-align: right;\">\n",
       "      <th></th>\n",
       "      <th>año_cierre</th>\n",
       "      <th>latitud</th>\n",
       "      <th>longitud</th>\n",
       "    </tr>\n",
       "  </thead>\n",
       "  <tbody>\n",
       "    <tr>\n",
       "      <th>count</th>\n",
       "      <td>1.383138e+06</td>\n",
       "      <td>1.382695e+06</td>\n",
       "      <td>1.382703e+06</td>\n",
       "    </tr>\n",
       "    <tr>\n",
       "      <th>mean</th>\n",
       "      <td>2.017023e+03</td>\n",
       "      <td>1.938391e+01</td>\n",
       "      <td>-9.914359e+01</td>\n",
       "    </tr>\n",
       "    <tr>\n",
       "      <th>std</th>\n",
       "      <td>1.869989e+00</td>\n",
       "      <td>2.666382e-01</td>\n",
       "      <td>2.399677e+00</td>\n",
       "    </tr>\n",
       "    <tr>\n",
       "      <th>min</th>\n",
       "      <td>2.014000e+03</td>\n",
       "      <td>1.909402e+01</td>\n",
       "      <td>-9.917640e+02</td>\n",
       "    </tr>\n",
       "    <tr>\n",
       "      <th>25%</th>\n",
       "      <td>2.015000e+03</td>\n",
       "      <td>1.933685e+01</td>\n",
       "      <td>-9.917930e+01</td>\n",
       "    </tr>\n",
       "    <tr>\n",
       "      <th>50%</th>\n",
       "      <td>2.017000e+03</td>\n",
       "      <td>1.938408e+01</td>\n",
       "      <td>-9.914023e+01</td>\n",
       "    </tr>\n",
       "    <tr>\n",
       "      <th>75%</th>\n",
       "      <td>2.019000e+03</td>\n",
       "      <td>1.943496e+01</td>\n",
       "      <td>-9.909600e+01</td>\n",
       "    </tr>\n",
       "    <tr>\n",
       "      <th>max</th>\n",
       "      <td>2.020000e+03</td>\n",
       "      <td>1.953030e+02</td>\n",
       "      <td>-9.894537e+01</td>\n",
       "    </tr>\n",
       "  </tbody>\n",
       "</table>\n",
       "</div>"
      ],
      "text/plain": [
       "         año_cierre       latitud      longitud\n",
       "count  1.383138e+06  1.382695e+06  1.382703e+06\n",
       "mean   2.017023e+03  1.938391e+01 -9.914359e+01\n",
       "std    1.869989e+00  2.666382e-01  2.399677e+00\n",
       "min    2.014000e+03  1.909402e+01 -9.917640e+02\n",
       "25%    2.015000e+03  1.933685e+01 -9.917930e+01\n",
       "50%    2.017000e+03  1.938408e+01 -9.914023e+01\n",
       "75%    2.019000e+03  1.943496e+01 -9.909600e+01\n",
       "max    2.020000e+03  1.953030e+02 -9.894537e+01"
      ]
     },
     "execution_count": 45,
     "metadata": {},
     "output_type": "execute_result"
    }
   ],
   "source": [
    "c5.describe()"
   ]
  },
  {
   "cell_type": "markdown",
   "metadata": {},
   "source": [
    "### 2.1 Data Profiling"
   ]
  },
  {
   "cell_type": "code",
   "execution_count": 8,
   "metadata": {},
   "outputs": [
    {
     "name": "stdout",
     "output_type": "stream",
     "text": [
      "Son 3 variables numericas ['año_cierre' 'latitud' 'longitud']\n"
     ]
    }
   ],
   "source": [
    "#variables numéricas\n",
    "nc5 = c5.select_dtypes(include='number').columns.values\n",
    "print('Son ' + str(nc5.shape[0]) + ' variables numericas' , nc5)"
   ]
  },
  {
   "cell_type": "code",
   "execution_count": 9,
   "metadata": {},
   "outputs": [
    {
     "name": "stdout",
     "output_type": "stream",
     "text": [
      "Son 2 variables de fecha ['fecha_creacion' 'fecha_cierre']\n"
     ]
    }
   ],
   "source": [
    "#variables fecha y hora\n",
    "dc5 = c5.select_dtypes(include='datetime').columns.values\n",
    "print('Son ' + str(dc5.shape[0]) + ' variables de fecha' , dc5)"
   ]
  },
  {
   "cell_type": "code",
   "execution_count": 10,
   "metadata": {},
   "outputs": [
    {
     "name": "stdout",
     "output_type": "stream",
     "text": [
      "Son 8 variables categóricas ['dia_semana' 'codigo_cierre' 'mes_cierre' 'delegacion_inicio'\n",
      " 'clas_con_f_alarma' 'tipo_entrada' 'delegacion_cierre' 'mes']\n"
     ]
    }
   ],
   "source": [
    "#variables categóricas\n",
    "cc5 = c5.select_dtypes(include='category').columns.values\n",
    "print('Son ' + str(cc5.shape[0]) + ' variables categóricas' , cc5)"
   ]
  },
  {
   "cell_type": "code",
   "execution_count": 11,
   "metadata": {},
   "outputs": [
    {
     "name": "stdout",
     "output_type": "stream",
     "text": [
      "Son 5 variables cadena ['folio' 'hora_creacion' 'hora_cierre' 'incidente_c4' 'geopoint']\n"
     ]
    }
   ],
   "source": [
    "#variables string\n",
    "sc5 = c5.select_dtypes(include='object').columns.values\n",
    "print('Son ' + str(sc5.shape[0]) + ' variables cadena' , sc5)"
   ]
  },
  {
   "cell_type": "code",
   "execution_count": 12,
   "metadata": {},
   "outputs": [
    {
     "name": "stdout",
     "output_type": "stream",
     "text": [
      "ok\n"
     ]
    }
   ],
   "source": [
    "# Validar que estén todas las variables clasificadas por tipo\n",
    "if (sum([len(nc5), len(cc5), \n",
    "      len(dc5), len(sc5)]) == c5.shape[1]): \n",
    "    print('ok')\n",
    "else:\n",
    "    print('columns missing')"
   ]
  },
  {
   "cell_type": "code",
   "execution_count": 13,
   "metadata": {},
   "outputs": [],
   "source": [
    "def get_repeated_values(df, col, top):\n",
    "    top_5 = df.groupby([col])[col]\\\n",
    "                    .count()\\\n",
    "                    .sort_values(ascending = False)\\\n",
    "                    .head(3)\n",
    "    indexes_top_5 = top_5.index\n",
    "    \n",
    "    if ((top == 1) and (len(indexes_top_5) > 0)):\n",
    "        return indexes_top_5[0]\n",
    "    elif ((top == 2) and (len(indexes_top_5) > 1)):\n",
    "        return indexes_top_5[1]\n",
    "    elif ((top == 3) and (len(indexes_top_5) > 2)):\n",
    "        return indexes_top_5[2]\n",
    "    else: \n",
    "        return 'undefined'"
   ]
  },
  {
   "cell_type": "markdown",
   "metadata": {},
   "source": [
    "Numéricas"
   ]
  },
  {
   "cell_type": "code",
   "execution_count": 26,
   "metadata": {},
   "outputs": [],
   "source": [
    "def numeric_profiling(df, col):\n",
    "    \"\"\"\n",
    "    Profiling for numeric columns. \n",
    "    \n",
    "    :param: column to analyze\n",
    "    :return: dictionary\n",
    "    \"\"\"\n",
    "    profiling = {}\n",
    "\n",
    "    profiling.update({'max': df[col].max(),\n",
    "                     'min': df[col].min(),\n",
    "                     'mean': df[col].mean(),\n",
    "                     'stdv': df[col].std(),\n",
    "                     '25%': df[col].quantile(.25),\n",
    "                     'median': df[col].median(),\n",
    "                     '75%': df[col].quantile(.75),\n",
    "                     'kurtosis': df[col].kurt(),\n",
    "                     'skewness': df[col].skew(),\n",
    "                     'uniques': df[col].nunique(),\n",
    "                     'prop_missings': df[col].isna().sum()/df.shape[0]*100,\n",
    "                     'num_na': df[col].isna().sum(),\n",
    "                     'top1_repeated': get_repeated_values(df, col, 1),\n",
    "                     'top2_repeated': get_repeated_values(df, col, 2),\n",
    "                     'top3_repeated': get_repeated_values(df, col, 3)})\n",
    "    \n",
    "    \n",
    "    return profiling"
   ]
  },
  {
   "cell_type": "code",
   "execution_count": 27,
   "metadata": {},
   "outputs": [],
   "source": [
    "profiling_dict = {}\n",
    "\n",
    "numeric_profiling_output = {elem: numeric_profiling(c5, elem)\\\n",
    "                            for elem in nc5}"
   ]
  },
  {
   "cell_type": "code",
   "execution_count": 28,
   "metadata": {},
   "outputs": [
    {
     "data": {
      "text/html": [
       "<div>\n",
       "<style scoped>\n",
       "    .dataframe tbody tr th:only-of-type {\n",
       "        vertical-align: middle;\n",
       "    }\n",
       "\n",
       "    .dataframe tbody tr th {\n",
       "        vertical-align: top;\n",
       "    }\n",
       "\n",
       "    .dataframe thead th {\n",
       "        text-align: right;\n",
       "    }\n",
       "</style>\n",
       "<table border=\"1\" class=\"dataframe\">\n",
       "  <thead>\n",
       "    <tr style=\"text-align: right;\">\n",
       "      <th></th>\n",
       "      <th>metric</th>\n",
       "      <th>año_cierre</th>\n",
       "      <th>latitud</th>\n",
       "      <th>longitud</th>\n",
       "    </tr>\n",
       "  </thead>\n",
       "  <tbody>\n",
       "    <tr>\n",
       "      <th>0</th>\n",
       "      <td>max</td>\n",
       "      <td>2020.000000</td>\n",
       "      <td>195.303000</td>\n",
       "      <td>-98.945370</td>\n",
       "    </tr>\n",
       "    <tr>\n",
       "      <th>1</th>\n",
       "      <td>min</td>\n",
       "      <td>2014.000000</td>\n",
       "      <td>19.094020</td>\n",
       "      <td>-991.764000</td>\n",
       "    </tr>\n",
       "    <tr>\n",
       "      <th>2</th>\n",
       "      <td>mean</td>\n",
       "      <td>2017.022848</td>\n",
       "      <td>19.383909</td>\n",
       "      <td>-99.143590</td>\n",
       "    </tr>\n",
       "    <tr>\n",
       "      <th>3</th>\n",
       "      <td>stdv</td>\n",
       "      <td>1.869989</td>\n",
       "      <td>0.266638</td>\n",
       "      <td>2.399677</td>\n",
       "    </tr>\n",
       "    <tr>\n",
       "      <th>4</th>\n",
       "      <td>25%</td>\n",
       "      <td>2015.000000</td>\n",
       "      <td>19.336850</td>\n",
       "      <td>-99.179300</td>\n",
       "    </tr>\n",
       "    <tr>\n",
       "      <th>5</th>\n",
       "      <td>median</td>\n",
       "      <td>2017.000000</td>\n",
       "      <td>19.384080</td>\n",
       "      <td>-99.140230</td>\n",
       "    </tr>\n",
       "    <tr>\n",
       "      <th>6</th>\n",
       "      <td>75%</td>\n",
       "      <td>2019.000000</td>\n",
       "      <td>19.434960</td>\n",
       "      <td>-99.096000</td>\n",
       "    </tr>\n",
       "    <tr>\n",
       "      <th>7</th>\n",
       "      <td>kurtosis</td>\n",
       "      <td>-1.118592</td>\n",
       "      <td>400835.233813</td>\n",
       "      <td>138084.253218</td>\n",
       "    </tr>\n",
       "    <tr>\n",
       "      <th>8</th>\n",
       "      <td>skewness</td>\n",
       "      <td>-0.103726</td>\n",
       "      <td>611.376322</td>\n",
       "      <td>-371.476884</td>\n",
       "    </tr>\n",
       "    <tr>\n",
       "      <th>9</th>\n",
       "      <td>uniques</td>\n",
       "      <td>7.000000</td>\n",
       "      <td>82501.000000</td>\n",
       "      <td>78984.000000</td>\n",
       "    </tr>\n",
       "    <tr>\n",
       "      <th>10</th>\n",
       "      <td>prop_missings</td>\n",
       "      <td>0.000000</td>\n",
       "      <td>0.032029</td>\n",
       "      <td>0.031450</td>\n",
       "    </tr>\n",
       "    <tr>\n",
       "      <th>11</th>\n",
       "      <td>num_na</td>\n",
       "      <td>0.000000</td>\n",
       "      <td>443.000000</td>\n",
       "      <td>435.000000</td>\n",
       "    </tr>\n",
       "    <tr>\n",
       "      <th>12</th>\n",
       "      <td>top1_repeated</td>\n",
       "      <td>2018.000000</td>\n",
       "      <td>19.304320</td>\n",
       "      <td>-99.080240</td>\n",
       "    </tr>\n",
       "    <tr>\n",
       "      <th>13</th>\n",
       "      <td>top2_repeated</td>\n",
       "      <td>2019.000000</td>\n",
       "      <td>19.371680</td>\n",
       "      <td>-99.087140</td>\n",
       "    </tr>\n",
       "    <tr>\n",
       "      <th>14</th>\n",
       "      <td>top3_repeated</td>\n",
       "      <td>2017.000000</td>\n",
       "      <td>19.347021</td>\n",
       "      <td>-99.180646</td>\n",
       "    </tr>\n",
       "  </tbody>\n",
       "</table>\n",
       "</div>"
      ],
      "text/plain": [
       "           metric   año_cierre        latitud       longitud\n",
       "0             max  2020.000000     195.303000     -98.945370\n",
       "1             min  2014.000000      19.094020    -991.764000\n",
       "2            mean  2017.022848      19.383909     -99.143590\n",
       "3            stdv     1.869989       0.266638       2.399677\n",
       "4             25%  2015.000000      19.336850     -99.179300\n",
       "5          median  2017.000000      19.384080     -99.140230\n",
       "6             75%  2019.000000      19.434960     -99.096000\n",
       "7        kurtosis    -1.118592  400835.233813  138084.253218\n",
       "8        skewness    -0.103726     611.376322    -371.476884\n",
       "9         uniques     7.000000   82501.000000   78984.000000\n",
       "10  prop_missings     0.000000       0.032029       0.031450\n",
       "11         num_na     0.000000     443.000000     435.000000\n",
       "12  top1_repeated  2018.000000      19.304320     -99.080240\n",
       "13  top2_repeated  2019.000000      19.371680     -99.087140\n",
       "14  top3_repeated  2017.000000      19.347021     -99.180646"
      ]
     },
     "execution_count": 28,
     "metadata": {},
     "output_type": "execute_result"
    }
   ],
   "source": [
    "df_numeric_profiling = pd.DataFrame(numeric_profiling_output).reset_index()\n",
    "df_numeric_profiling.rename(columns={'index': 'metric'}, inplace=True)\n",
    "df_numeric_profiling"
   ]
  },
  {
   "cell_type": "markdown",
   "metadata": {},
   "source": [
    "Categóricas"
   ]
  },
  {
   "cell_type": "code",
   "execution_count": 29,
   "metadata": {},
   "outputs": [],
   "source": [
    "def category_profiling(df, col):\n",
    "    \"\"\"\n",
    "    Profiling for categoric columns. \n",
    "    \n",
    "    :param: column to analyze\n",
    "    :return: dictionary\n",
    "    \"\"\"\n",
    "    profiling = {}\n",
    "\n",
    "    profiling.update({'mode': df[col].mode().values,\n",
    "                     'num_categories': df[col].nunique(),\n",
    "                     'categories': df[col].unique(),\n",
    "                     'uniques': df[col].nunique(),\n",
    "                     'prop_missings': df[col].isna().sum()/df[col].size*100,\n",
    "                     'num_na': df[col].isna().sum(),\n",
    "                     'top1_repeated': get_repeated_values(df, col, 1),\n",
    "                     'top2_repeated': get_repeated_values(df, col, 2),\n",
    "                     'top3_repeated': get_repeated_values(df, col, 3)})\n",
    "    \n",
    "    return profiling"
   ]
  },
  {
   "cell_type": "code",
   "execution_count": 30,
   "metadata": {},
   "outputs": [],
   "source": [
    "category_profiling_output = {elem: category_profiling(c5, elem)\\\n",
    "                             for elem in cc5}"
   ]
  },
  {
   "cell_type": "code",
   "execution_count": 31,
   "metadata": {},
   "outputs": [
    {
     "data": {
      "text/html": [
       "<div>\n",
       "<style scoped>\n",
       "    .dataframe tbody tr th:only-of-type {\n",
       "        vertical-align: middle;\n",
       "    }\n",
       "\n",
       "    .dataframe tbody tr th {\n",
       "        vertical-align: top;\n",
       "    }\n",
       "\n",
       "    .dataframe thead th {\n",
       "        text-align: right;\n",
       "    }\n",
       "</style>\n",
       "<table border=\"1\" class=\"dataframe\">\n",
       "  <thead>\n",
       "    <tr style=\"text-align: right;\">\n",
       "      <th></th>\n",
       "      <th>metric</th>\n",
       "      <th>dia_semana</th>\n",
       "      <th>codigo_cierre</th>\n",
       "      <th>mes_cierre</th>\n",
       "      <th>delegacion_inicio</th>\n",
       "      <th>clas_con_f_alarma</th>\n",
       "      <th>tipo_entrada</th>\n",
       "      <th>delegacion_cierre</th>\n",
       "      <th>mes</th>\n",
       "    </tr>\n",
       "  </thead>\n",
       "  <tbody>\n",
       "    <tr>\n",
       "      <th>0</th>\n",
       "      <td>mode</td>\n",
       "      <td>['Viernes']\n",
       "Categories (7, object): ['Domingo'...</td>\n",
       "      <td>['(A) La unidad de atención a emergencias fue ...</td>\n",
       "      <td>['Octubre']\n",
       "Categories (12, object): ['Abril',...</td>\n",
       "      <td>['IZTAPALAPA']\n",
       "Categories (16, object): ['ALVA...</td>\n",
       "      <td>['EMERGENCIA']\n",
       "Categories (4, object): ['DELIT...</td>\n",
       "      <td>['LLAMADA DEL 911']\n",
       "Categories (9, object): ['...</td>\n",
       "      <td>['IZTAPALAPA']\n",
       "Categories (16, object): ['ALVA...</td>\n",
       "      <td>[10]\n",
       "Categories (12, int64): [1, 2, 3, 4, ...,...</td>\n",
       "    </tr>\n",
       "    <tr>\n",
       "      <th>1</th>\n",
       "      <td>num_categories</td>\n",
       "      <td>7</td>\n",
       "      <td>5</td>\n",
       "      <td>12</td>\n",
       "      <td>16</td>\n",
       "      <td>4</td>\n",
       "      <td>9</td>\n",
       "      <td>16</td>\n",
       "      <td>12</td>\n",
       "    </tr>\n",
       "    <tr>\n",
       "      <th>2</th>\n",
       "      <td>categories</td>\n",
       "      <td>['Sábado', 'Domingo', 'Lunes', 'Martes', 'Miér...</td>\n",
       "      <td>['(A) La unidad de atención a emergencias fue ...</td>\n",
       "      <td>['Enero', 'Febrero', 'Marzo', 'Septiembre', 'O...</td>\n",
       "      <td>['VENUSTIANO CARRANZA', 'CUAJIMALPA', 'TLALPAN...</td>\n",
       "      <td>['EMERGENCIA', 'URGENCIAS MEDICAS', 'FALSA ALA...</td>\n",
       "      <td>['BOTÓN DE AUXILIO', 'LLAMADA DEL 066', 'RADIO...</td>\n",
       "      <td>['VENUSTIANO CARRANZA', 'CUAJIMALPA', 'TLALPAN...</td>\n",
       "      <td>[1, 2, 3, 9, 10, ..., 4, 8, 12, 7, 11]\n",
       "Length:...</td>\n",
       "    </tr>\n",
       "    <tr>\n",
       "      <th>3</th>\n",
       "      <td>uniques</td>\n",
       "      <td>7</td>\n",
       "      <td>5</td>\n",
       "      <td>12</td>\n",
       "      <td>16</td>\n",
       "      <td>4</td>\n",
       "      <td>9</td>\n",
       "      <td>16</td>\n",
       "      <td>12</td>\n",
       "    </tr>\n",
       "    <tr>\n",
       "      <th>4</th>\n",
       "      <td>prop_missings</td>\n",
       "      <td>0</td>\n",
       "      <td>0</td>\n",
       "      <td>0</td>\n",
       "      <td>0.0114233</td>\n",
       "      <td>0</td>\n",
       "      <td>0</td>\n",
       "      <td>0.0101219</td>\n",
       "      <td>0</td>\n",
       "    </tr>\n",
       "    <tr>\n",
       "      <th>5</th>\n",
       "      <td>num_na</td>\n",
       "      <td>0</td>\n",
       "      <td>0</td>\n",
       "      <td>0</td>\n",
       "      <td>158</td>\n",
       "      <td>0</td>\n",
       "      <td>0</td>\n",
       "      <td>140</td>\n",
       "      <td>0</td>\n",
       "    </tr>\n",
       "    <tr>\n",
       "      <th>6</th>\n",
       "      <td>top1_repeated</td>\n",
       "      <td>Viernes</td>\n",
       "      <td>(A) La unidad de atención a emergencias fue de...</td>\n",
       "      <td>Octubre</td>\n",
       "      <td>IZTAPALAPA</td>\n",
       "      <td>EMERGENCIA</td>\n",
       "      <td>LLAMADA DEL 911</td>\n",
       "      <td>IZTAPALAPA</td>\n",
       "      <td>10</td>\n",
       "    </tr>\n",
       "    <tr>\n",
       "      <th>7</th>\n",
       "      <td>top2_repeated</td>\n",
       "      <td>Sábado</td>\n",
       "      <td>(D) El incidente reportado se registró en dos ...</td>\n",
       "      <td>Agosto</td>\n",
       "      <td>GUSTAVO A. MADERO</td>\n",
       "      <td>URGENCIAS MEDICAS</td>\n",
       "      <td>LLAMADA DEL 066</td>\n",
       "      <td>GUSTAVO A. MADERO</td>\n",
       "      <td>8</td>\n",
       "    </tr>\n",
       "    <tr>\n",
       "      <th>8</th>\n",
       "      <td>top3_repeated</td>\n",
       "      <td>Jueves</td>\n",
       "      <td>(N) La unidad de atención a emergencias fue de...</td>\n",
       "      <td>Septiembre</td>\n",
       "      <td>CUAUHTEMOC</td>\n",
       "      <td>FALSA ALARMA</td>\n",
       "      <td>BOTÓN DE AUXILIO</td>\n",
       "      <td>CUAUHTEMOC</td>\n",
       "      <td>9</td>\n",
       "    </tr>\n",
       "  </tbody>\n",
       "</table>\n",
       "</div>"
      ],
      "text/plain": [
       "           metric                                         dia_semana  \\\n",
       "0            mode  ['Viernes']\n",
       "Categories (7, object): ['Domingo'...   \n",
       "1  num_categories                                                  7   \n",
       "2      categories  ['Sábado', 'Domingo', 'Lunes', 'Martes', 'Miér...   \n",
       "3         uniques                                                  7   \n",
       "4   prop_missings                                                  0   \n",
       "5          num_na                                                  0   \n",
       "6   top1_repeated                                            Viernes   \n",
       "7   top2_repeated                                             Sábado   \n",
       "8   top3_repeated                                             Jueves   \n",
       "\n",
       "                                       codigo_cierre  \\\n",
       "0  ['(A) La unidad de atención a emergencias fue ...   \n",
       "1                                                  5   \n",
       "2  ['(A) La unidad de atención a emergencias fue ...   \n",
       "3                                                  5   \n",
       "4                                                  0   \n",
       "5                                                  0   \n",
       "6  (A) La unidad de atención a emergencias fue de...   \n",
       "7  (D) El incidente reportado se registró en dos ...   \n",
       "8  (N) La unidad de atención a emergencias fue de...   \n",
       "\n",
       "                                          mes_cierre  \\\n",
       "0  ['Octubre']\n",
       "Categories (12, object): ['Abril',...   \n",
       "1                                                 12   \n",
       "2  ['Enero', 'Febrero', 'Marzo', 'Septiembre', 'O...   \n",
       "3                                                 12   \n",
       "4                                                  0   \n",
       "5                                                  0   \n",
       "6                                            Octubre   \n",
       "7                                             Agosto   \n",
       "8                                         Septiembre   \n",
       "\n",
       "                                   delegacion_inicio  \\\n",
       "0  ['IZTAPALAPA']\n",
       "Categories (16, object): ['ALVA...   \n",
       "1                                                 16   \n",
       "2  ['VENUSTIANO CARRANZA', 'CUAJIMALPA', 'TLALPAN...   \n",
       "3                                                 16   \n",
       "4                                          0.0114233   \n",
       "5                                                158   \n",
       "6                                         IZTAPALAPA   \n",
       "7                                  GUSTAVO A. MADERO   \n",
       "8                                         CUAUHTEMOC   \n",
       "\n",
       "                                   clas_con_f_alarma  \\\n",
       "0  ['EMERGENCIA']\n",
       "Categories (4, object): ['DELIT...   \n",
       "1                                                  4   \n",
       "2  ['EMERGENCIA', 'URGENCIAS MEDICAS', 'FALSA ALA...   \n",
       "3                                                  4   \n",
       "4                                                  0   \n",
       "5                                                  0   \n",
       "6                                         EMERGENCIA   \n",
       "7                                  URGENCIAS MEDICAS   \n",
       "8                                       FALSA ALARMA   \n",
       "\n",
       "                                        tipo_entrada  \\\n",
       "0  ['LLAMADA DEL 911']\n",
       "Categories (9, object): ['...   \n",
       "1                                                  9   \n",
       "2  ['BOTÓN DE AUXILIO', 'LLAMADA DEL 066', 'RADIO...   \n",
       "3                                                  9   \n",
       "4                                                  0   \n",
       "5                                                  0   \n",
       "6                                    LLAMADA DEL 911   \n",
       "7                                    LLAMADA DEL 066   \n",
       "8                                   BOTÓN DE AUXILIO   \n",
       "\n",
       "                                   delegacion_cierre  \\\n",
       "0  ['IZTAPALAPA']\n",
       "Categories (16, object): ['ALVA...   \n",
       "1                                                 16   \n",
       "2  ['VENUSTIANO CARRANZA', 'CUAJIMALPA', 'TLALPAN...   \n",
       "3                                                 16   \n",
       "4                                          0.0101219   \n",
       "5                                                140   \n",
       "6                                         IZTAPALAPA   \n",
       "7                                  GUSTAVO A. MADERO   \n",
       "8                                         CUAUHTEMOC   \n",
       "\n",
       "                                                 mes  \n",
       "0  [10]\n",
       "Categories (12, int64): [1, 2, 3, 4, ...,...  \n",
       "1                                                 12  \n",
       "2  [1, 2, 3, 9, 10, ..., 4, 8, 12, 7, 11]\n",
       "Length:...  \n",
       "3                                                 12  \n",
       "4                                                  0  \n",
       "5                                                  0  \n",
       "6                                                 10  \n",
       "7                                                  8  \n",
       "8                                                  9  "
      ]
     },
     "execution_count": 31,
     "metadata": {},
     "output_type": "execute_result"
    }
   ],
   "source": [
    "category_profiling_output\n",
    "df_category_profiling = pd.DataFrame(category_profiling_output).reset_index()\n",
    "df_category_profiling.rename(columns={'index': 'metric'}, inplace=True)\n",
    "df_category_profiling"
   ]
  },
  {
   "cell_type": "code",
   "execution_count": 32,
   "metadata": {},
   "outputs": [],
   "source": [
    "# Número de observaciones por categoría y proporción de observaciones por categoría. \n",
    "\n",
    "def num_prop(df,column_data):\n",
    "    # Número de observaciones por categoría\n",
    "    num=pd.value_counts(df[column_data]) \n",
    "    # Proporción de observaciones por categoría\n",
    "    prop=100 * df[column_data].value_counts() / len(df[column_data])\n",
    "    # Unión de columnas en una y renombramiento\n",
    "    columnas_num_prop = round(pd.concat([num, prop], \n",
    "                                        keys=['num_obs_cat', 'prop_obs_cat'],\n",
    "                                        axis=1),2)\n",
    "    \n",
    "    return columnas_num_prop"
   ]
  },
  {
   "cell_type": "code",
   "execution_count": 33,
   "metadata": {},
   "outputs": [
    {
     "data": {
      "text/html": [
       "<div>\n",
       "<style scoped>\n",
       "    .dataframe tbody tr th:only-of-type {\n",
       "        vertical-align: middle;\n",
       "    }\n",
       "\n",
       "    .dataframe tbody tr th {\n",
       "        vertical-align: top;\n",
       "    }\n",
       "\n",
       "    .dataframe thead th {\n",
       "        text-align: right;\n",
       "    }\n",
       "</style>\n",
       "<table border=\"1\" class=\"dataframe\">\n",
       "  <thead>\n",
       "    <tr style=\"text-align: right;\">\n",
       "      <th></th>\n",
       "      <th>num_obs_cat</th>\n",
       "      <th>prop_obs_cat</th>\n",
       "    </tr>\n",
       "  </thead>\n",
       "  <tbody>\n",
       "    <tr>\n",
       "      <th>10</th>\n",
       "      <td>133641</td>\n",
       "      <td>9.66</td>\n",
       "    </tr>\n",
       "    <tr>\n",
       "      <th>8</th>\n",
       "      <td>121123</td>\n",
       "      <td>8.76</td>\n",
       "    </tr>\n",
       "    <tr>\n",
       "      <th>9</th>\n",
       "      <td>120581</td>\n",
       "      <td>8.72</td>\n",
       "    </tr>\n",
       "    <tr>\n",
       "      <th>3</th>\n",
       "      <td>120335</td>\n",
       "      <td>8.70</td>\n",
       "    </tr>\n",
       "    <tr>\n",
       "      <th>12</th>\n",
       "      <td>117616</td>\n",
       "      <td>8.50</td>\n",
       "    </tr>\n",
       "    <tr>\n",
       "      <th>2</th>\n",
       "      <td>115988</td>\n",
       "      <td>8.39</td>\n",
       "    </tr>\n",
       "    <tr>\n",
       "      <th>11</th>\n",
       "      <td>115055</td>\n",
       "      <td>8.32</td>\n",
       "    </tr>\n",
       "    <tr>\n",
       "      <th>6</th>\n",
       "      <td>111782</td>\n",
       "      <td>8.08</td>\n",
       "    </tr>\n",
       "    <tr>\n",
       "      <th>7</th>\n",
       "      <td>109880</td>\n",
       "      <td>7.94</td>\n",
       "    </tr>\n",
       "    <tr>\n",
       "      <th>5</th>\n",
       "      <td>108590</td>\n",
       "      <td>7.85</td>\n",
       "    </tr>\n",
       "    <tr>\n",
       "      <th>1</th>\n",
       "      <td>108430</td>\n",
       "      <td>7.84</td>\n",
       "    </tr>\n",
       "    <tr>\n",
       "      <th>4</th>\n",
       "      <td>100117</td>\n",
       "      <td>7.24</td>\n",
       "    </tr>\n",
       "  </tbody>\n",
       "</table>\n",
       "</div>"
      ],
      "text/plain": [
       "    num_obs_cat  prop_obs_cat\n",
       "10       133641          9.66\n",
       "8        121123          8.76\n",
       "9        120581          8.72\n",
       "3        120335          8.70\n",
       "12       117616          8.50\n",
       "2        115988          8.39\n",
       "11       115055          8.32\n",
       "6        111782          8.08\n",
       "7        109880          7.94\n",
       "5        108590          7.85\n",
       "1        108430          7.84\n",
       "4        100117          7.24"
      ]
     },
     "execution_count": 33,
     "metadata": {},
     "output_type": "execute_result"
    }
   ],
   "source": [
    "num_prop(c5,'mes')"
   ]
  },
  {
   "cell_type": "code",
   "execution_count": 34,
   "metadata": {},
   "outputs": [
    {
     "data": {
      "text/html": [
       "<div>\n",
       "<style scoped>\n",
       "    .dataframe tbody tr th:only-of-type {\n",
       "        vertical-align: middle;\n",
       "    }\n",
       "\n",
       "    .dataframe tbody tr th {\n",
       "        vertical-align: top;\n",
       "    }\n",
       "\n",
       "    .dataframe thead th {\n",
       "        text-align: right;\n",
       "    }\n",
       "</style>\n",
       "<table border=\"1\" class=\"dataframe\">\n",
       "  <thead>\n",
       "    <tr style=\"text-align: right;\">\n",
       "      <th></th>\n",
       "      <th>num_obs_cat</th>\n",
       "      <th>prop_obs_cat</th>\n",
       "    </tr>\n",
       "  </thead>\n",
       "  <tbody>\n",
       "    <tr>\n",
       "      <th>IZTAPALAPA</th>\n",
       "      <td>223687</td>\n",
       "      <td>16.17</td>\n",
       "    </tr>\n",
       "    <tr>\n",
       "      <th>GUSTAVO A. MADERO</th>\n",
       "      <td>144620</td>\n",
       "      <td>10.46</td>\n",
       "    </tr>\n",
       "    <tr>\n",
       "      <th>CUAUHTEMOC</th>\n",
       "      <td>141391</td>\n",
       "      <td>10.22</td>\n",
       "    </tr>\n",
       "    <tr>\n",
       "      <th>MIGUEL HIDALGO</th>\n",
       "      <td>115864</td>\n",
       "      <td>8.38</td>\n",
       "    </tr>\n",
       "    <tr>\n",
       "      <th>COYOACAN</th>\n",
       "      <td>110146</td>\n",
       "      <td>7.96</td>\n",
       "    </tr>\n",
       "    <tr>\n",
       "      <th>BENITO JUAREZ</th>\n",
       "      <td>104322</td>\n",
       "      <td>7.54</td>\n",
       "    </tr>\n",
       "    <tr>\n",
       "      <th>ALVARO OBREGON</th>\n",
       "      <td>102071</td>\n",
       "      <td>7.38</td>\n",
       "    </tr>\n",
       "    <tr>\n",
       "      <th>VENUSTIANO CARRANZA</th>\n",
       "      <td>94393</td>\n",
       "      <td>6.82</td>\n",
       "    </tr>\n",
       "    <tr>\n",
       "      <th>TLALPAN</th>\n",
       "      <td>87339</td>\n",
       "      <td>6.31</td>\n",
       "    </tr>\n",
       "    <tr>\n",
       "      <th>AZCAPOTZALCO</th>\n",
       "      <td>60823</td>\n",
       "      <td>4.40</td>\n",
       "    </tr>\n",
       "    <tr>\n",
       "      <th>IZTACALCO</th>\n",
       "      <td>58567</td>\n",
       "      <td>4.23</td>\n",
       "    </tr>\n",
       "    <tr>\n",
       "      <th>XOCHIMILCO</th>\n",
       "      <td>52575</td>\n",
       "      <td>3.80</td>\n",
       "    </tr>\n",
       "    <tr>\n",
       "      <th>TLAHUAC</th>\n",
       "      <td>33420</td>\n",
       "      <td>2.42</td>\n",
       "    </tr>\n",
       "    <tr>\n",
       "      <th>CUAJIMALPA</th>\n",
       "      <td>26714</td>\n",
       "      <td>1.93</td>\n",
       "    </tr>\n",
       "    <tr>\n",
       "      <th>MAGDALENA CONTRERAS</th>\n",
       "      <td>20062</td>\n",
       "      <td>1.45</td>\n",
       "    </tr>\n",
       "    <tr>\n",
       "      <th>MILPA ALTA</th>\n",
       "      <td>6986</td>\n",
       "      <td>0.51</td>\n",
       "    </tr>\n",
       "  </tbody>\n",
       "</table>\n",
       "</div>"
      ],
      "text/plain": [
       "                     num_obs_cat  prop_obs_cat\n",
       "IZTAPALAPA                223687         16.17\n",
       "GUSTAVO A. MADERO         144620         10.46\n",
       "CUAUHTEMOC                141391         10.22\n",
       "MIGUEL HIDALGO            115864          8.38\n",
       "COYOACAN                  110146          7.96\n",
       "BENITO JUAREZ             104322          7.54\n",
       "ALVARO OBREGON            102071          7.38\n",
       "VENUSTIANO CARRANZA        94393          6.82\n",
       "TLALPAN                    87339          6.31\n",
       "AZCAPOTZALCO               60823          4.40\n",
       "IZTACALCO                  58567          4.23\n",
       "XOCHIMILCO                 52575          3.80\n",
       "TLAHUAC                    33420          2.42\n",
       "CUAJIMALPA                 26714          1.93\n",
       "MAGDALENA CONTRERAS        20062          1.45\n",
       "MILPA ALTA                  6986          0.51"
      ]
     },
     "execution_count": 34,
     "metadata": {},
     "output_type": "execute_result"
    }
   ],
   "source": [
    "num_prop(c5,'delegacion_inicio')"
   ]
  },
  {
   "cell_type": "code",
   "execution_count": 35,
   "metadata": {},
   "outputs": [
    {
     "data": {
      "text/html": [
       "<div>\n",
       "<style scoped>\n",
       "    .dataframe tbody tr th:only-of-type {\n",
       "        vertical-align: middle;\n",
       "    }\n",
       "\n",
       "    .dataframe tbody tr th {\n",
       "        vertical-align: top;\n",
       "    }\n",
       "\n",
       "    .dataframe thead th {\n",
       "        text-align: right;\n",
       "    }\n",
       "</style>\n",
       "<table border=\"1\" class=\"dataframe\">\n",
       "  <thead>\n",
       "    <tr style=\"text-align: right;\">\n",
       "      <th></th>\n",
       "      <th>folio</th>\n",
       "      <th>fecha_creacion</th>\n",
       "      <th>hora_creacion</th>\n",
       "      <th>dia_semana</th>\n",
       "      <th>codigo_cierre</th>\n",
       "      <th>fecha_cierre</th>\n",
       "      <th>año_cierre</th>\n",
       "      <th>mes_cierre</th>\n",
       "      <th>hora_cierre</th>\n",
       "      <th>incidente_c4</th>\n",
       "      <th>latitud</th>\n",
       "      <th>longitud</th>\n",
       "      <th>clas_con_f_alarma</th>\n",
       "      <th>tipo_entrada</th>\n",
       "      <th>delegacion_cierre</th>\n",
       "      <th>geopoint</th>\n",
       "      <th>mes</th>\n",
       "    </tr>\n",
       "    <tr>\n",
       "      <th>delegacion_inicio</th>\n",
       "      <th></th>\n",
       "      <th></th>\n",
       "      <th></th>\n",
       "      <th></th>\n",
       "      <th></th>\n",
       "      <th></th>\n",
       "      <th></th>\n",
       "      <th></th>\n",
       "      <th></th>\n",
       "      <th></th>\n",
       "      <th></th>\n",
       "      <th></th>\n",
       "      <th></th>\n",
       "      <th></th>\n",
       "      <th></th>\n",
       "      <th></th>\n",
       "      <th></th>\n",
       "    </tr>\n",
       "  </thead>\n",
       "  <tbody>\n",
       "    <tr>\n",
       "      <th>ALVARO OBREGON</th>\n",
       "      <td>102071</td>\n",
       "      <td>102071</td>\n",
       "      <td>102071</td>\n",
       "      <td>102071</td>\n",
       "      <td>102071</td>\n",
       "      <td>102071</td>\n",
       "      <td>102071</td>\n",
       "      <td>102071</td>\n",
       "      <td>102071</td>\n",
       "      <td>102071</td>\n",
       "      <td>102049</td>\n",
       "      <td>102049</td>\n",
       "      <td>102071</td>\n",
       "      <td>102071</td>\n",
       "      <td>102071</td>\n",
       "      <td>102049</td>\n",
       "      <td>102071</td>\n",
       "    </tr>\n",
       "    <tr>\n",
       "      <th>AZCAPOTZALCO</th>\n",
       "      <td>60823</td>\n",
       "      <td>60823</td>\n",
       "      <td>60823</td>\n",
       "      <td>60823</td>\n",
       "      <td>60823</td>\n",
       "      <td>60823</td>\n",
       "      <td>60823</td>\n",
       "      <td>60823</td>\n",
       "      <td>60823</td>\n",
       "      <td>60823</td>\n",
       "      <td>60808</td>\n",
       "      <td>60811</td>\n",
       "      <td>60823</td>\n",
       "      <td>60823</td>\n",
       "      <td>60823</td>\n",
       "      <td>60808</td>\n",
       "      <td>60823</td>\n",
       "    </tr>\n",
       "    <tr>\n",
       "      <th>BENITO JUAREZ</th>\n",
       "      <td>104322</td>\n",
       "      <td>104322</td>\n",
       "      <td>104322</td>\n",
       "      <td>104322</td>\n",
       "      <td>104322</td>\n",
       "      <td>104322</td>\n",
       "      <td>104322</td>\n",
       "      <td>104322</td>\n",
       "      <td>104322</td>\n",
       "      <td>104322</td>\n",
       "      <td>104302</td>\n",
       "      <td>104301</td>\n",
       "      <td>104322</td>\n",
       "      <td>104322</td>\n",
       "      <td>104322</td>\n",
       "      <td>104301</td>\n",
       "      <td>104322</td>\n",
       "    </tr>\n",
       "    <tr>\n",
       "      <th>COYOACAN</th>\n",
       "      <td>110146</td>\n",
       "      <td>110146</td>\n",
       "      <td>110146</td>\n",
       "      <td>110146</td>\n",
       "      <td>110146</td>\n",
       "      <td>110146</td>\n",
       "      <td>110146</td>\n",
       "      <td>110146</td>\n",
       "      <td>110146</td>\n",
       "      <td>110146</td>\n",
       "      <td>110119</td>\n",
       "      <td>110119</td>\n",
       "      <td>110146</td>\n",
       "      <td>110146</td>\n",
       "      <td>110146</td>\n",
       "      <td>110119</td>\n",
       "      <td>110146</td>\n",
       "    </tr>\n",
       "    <tr>\n",
       "      <th>CUAJIMALPA</th>\n",
       "      <td>26714</td>\n",
       "      <td>26714</td>\n",
       "      <td>26714</td>\n",
       "      <td>26714</td>\n",
       "      <td>26714</td>\n",
       "      <td>26714</td>\n",
       "      <td>26714</td>\n",
       "      <td>26714</td>\n",
       "      <td>26714</td>\n",
       "      <td>26714</td>\n",
       "      <td>26707</td>\n",
       "      <td>26707</td>\n",
       "      <td>26714</td>\n",
       "      <td>26714</td>\n",
       "      <td>26714</td>\n",
       "      <td>26707</td>\n",
       "      <td>26714</td>\n",
       "    </tr>\n",
       "    <tr>\n",
       "      <th>CUAUHTEMOC</th>\n",
       "      <td>141391</td>\n",
       "      <td>141391</td>\n",
       "      <td>141391</td>\n",
       "      <td>141391</td>\n",
       "      <td>141391</td>\n",
       "      <td>141391</td>\n",
       "      <td>141391</td>\n",
       "      <td>141391</td>\n",
       "      <td>141391</td>\n",
       "      <td>141391</td>\n",
       "      <td>141322</td>\n",
       "      <td>141326</td>\n",
       "      <td>141391</td>\n",
       "      <td>141391</td>\n",
       "      <td>141391</td>\n",
       "      <td>141322</td>\n",
       "      <td>141391</td>\n",
       "    </tr>\n",
       "    <tr>\n",
       "      <th>GUSTAVO A. MADERO</th>\n",
       "      <td>144620</td>\n",
       "      <td>144620</td>\n",
       "      <td>144620</td>\n",
       "      <td>144620</td>\n",
       "      <td>144620</td>\n",
       "      <td>144620</td>\n",
       "      <td>144620</td>\n",
       "      <td>144620</td>\n",
       "      <td>144620</td>\n",
       "      <td>144620</td>\n",
       "      <td>144576</td>\n",
       "      <td>144575</td>\n",
       "      <td>144620</td>\n",
       "      <td>144620</td>\n",
       "      <td>144620</td>\n",
       "      <td>144575</td>\n",
       "      <td>144620</td>\n",
       "    </tr>\n",
       "    <tr>\n",
       "      <th>IZTACALCO</th>\n",
       "      <td>58567</td>\n",
       "      <td>58567</td>\n",
       "      <td>58567</td>\n",
       "      <td>58567</td>\n",
       "      <td>58567</td>\n",
       "      <td>58567</td>\n",
       "      <td>58567</td>\n",
       "      <td>58567</td>\n",
       "      <td>58567</td>\n",
       "      <td>58567</td>\n",
       "      <td>58554</td>\n",
       "      <td>58555</td>\n",
       "      <td>58567</td>\n",
       "      <td>58567</td>\n",
       "      <td>58567</td>\n",
       "      <td>58554</td>\n",
       "      <td>58567</td>\n",
       "    </tr>\n",
       "    <tr>\n",
       "      <th>IZTAPALAPA</th>\n",
       "      <td>223687</td>\n",
       "      <td>223687</td>\n",
       "      <td>223687</td>\n",
       "      <td>223687</td>\n",
       "      <td>223687</td>\n",
       "      <td>223687</td>\n",
       "      <td>223687</td>\n",
       "      <td>223687</td>\n",
       "      <td>223687</td>\n",
       "      <td>223687</td>\n",
       "      <td>223603</td>\n",
       "      <td>223604</td>\n",
       "      <td>223687</td>\n",
       "      <td>223687</td>\n",
       "      <td>223687</td>\n",
       "      <td>223602</td>\n",
       "      <td>223687</td>\n",
       "    </tr>\n",
       "    <tr>\n",
       "      <th>MAGDALENA CONTRERAS</th>\n",
       "      <td>20062</td>\n",
       "      <td>20062</td>\n",
       "      <td>20062</td>\n",
       "      <td>20062</td>\n",
       "      <td>20062</td>\n",
       "      <td>20062</td>\n",
       "      <td>20062</td>\n",
       "      <td>20062</td>\n",
       "      <td>20062</td>\n",
       "      <td>20062</td>\n",
       "      <td>20051</td>\n",
       "      <td>20051</td>\n",
       "      <td>20062</td>\n",
       "      <td>20062</td>\n",
       "      <td>20062</td>\n",
       "      <td>20051</td>\n",
       "      <td>20062</td>\n",
       "    </tr>\n",
       "    <tr>\n",
       "      <th>MIGUEL HIDALGO</th>\n",
       "      <td>115864</td>\n",
       "      <td>115864</td>\n",
       "      <td>115864</td>\n",
       "      <td>115864</td>\n",
       "      <td>115864</td>\n",
       "      <td>115864</td>\n",
       "      <td>115864</td>\n",
       "      <td>115864</td>\n",
       "      <td>115864</td>\n",
       "      <td>115864</td>\n",
       "      <td>115842</td>\n",
       "      <td>115842</td>\n",
       "      <td>115864</td>\n",
       "      <td>115864</td>\n",
       "      <td>115864</td>\n",
       "      <td>115842</td>\n",
       "      <td>115864</td>\n",
       "    </tr>\n",
       "    <tr>\n",
       "      <th>MILPA ALTA</th>\n",
       "      <td>6986</td>\n",
       "      <td>6986</td>\n",
       "      <td>6986</td>\n",
       "      <td>6986</td>\n",
       "      <td>6986</td>\n",
       "      <td>6986</td>\n",
       "      <td>6986</td>\n",
       "      <td>6986</td>\n",
       "      <td>6986</td>\n",
       "      <td>6986</td>\n",
       "      <td>6980</td>\n",
       "      <td>6980</td>\n",
       "      <td>6986</td>\n",
       "      <td>6986</td>\n",
       "      <td>6986</td>\n",
       "      <td>6980</td>\n",
       "      <td>6986</td>\n",
       "    </tr>\n",
       "    <tr>\n",
       "      <th>TLAHUAC</th>\n",
       "      <td>33420</td>\n",
       "      <td>33420</td>\n",
       "      <td>33420</td>\n",
       "      <td>33420</td>\n",
       "      <td>33420</td>\n",
       "      <td>33420</td>\n",
       "      <td>33420</td>\n",
       "      <td>33420</td>\n",
       "      <td>33420</td>\n",
       "      <td>33420</td>\n",
       "      <td>33407</td>\n",
       "      <td>33408</td>\n",
       "      <td>33420</td>\n",
       "      <td>33420</td>\n",
       "      <td>33420</td>\n",
       "      <td>33407</td>\n",
       "      <td>33420</td>\n",
       "    </tr>\n",
       "    <tr>\n",
       "      <th>TLALPAN</th>\n",
       "      <td>87339</td>\n",
       "      <td>87339</td>\n",
       "      <td>87339</td>\n",
       "      <td>87339</td>\n",
       "      <td>87339</td>\n",
       "      <td>87339</td>\n",
       "      <td>87339</td>\n",
       "      <td>87339</td>\n",
       "      <td>87339</td>\n",
       "      <td>87339</td>\n",
       "      <td>87322</td>\n",
       "      <td>87322</td>\n",
       "      <td>87339</td>\n",
       "      <td>87339</td>\n",
       "      <td>87339</td>\n",
       "      <td>87322</td>\n",
       "      <td>87339</td>\n",
       "    </tr>\n",
       "    <tr>\n",
       "      <th>VENUSTIANO CARRANZA</th>\n",
       "      <td>94393</td>\n",
       "      <td>94393</td>\n",
       "      <td>94393</td>\n",
       "      <td>94393</td>\n",
       "      <td>94393</td>\n",
       "      <td>94393</td>\n",
       "      <td>94393</td>\n",
       "      <td>94393</td>\n",
       "      <td>94393</td>\n",
       "      <td>94393</td>\n",
       "      <td>94349</td>\n",
       "      <td>94349</td>\n",
       "      <td>94393</td>\n",
       "      <td>94393</td>\n",
       "      <td>94393</td>\n",
       "      <td>94349</td>\n",
       "      <td>94393</td>\n",
       "    </tr>\n",
       "    <tr>\n",
       "      <th>XOCHIMILCO</th>\n",
       "      <td>52575</td>\n",
       "      <td>52575</td>\n",
       "      <td>52575</td>\n",
       "      <td>52575</td>\n",
       "      <td>52575</td>\n",
       "      <td>52575</td>\n",
       "      <td>52575</td>\n",
       "      <td>52575</td>\n",
       "      <td>52575</td>\n",
       "      <td>52575</td>\n",
       "      <td>52546</td>\n",
       "      <td>52546</td>\n",
       "      <td>52575</td>\n",
       "      <td>52575</td>\n",
       "      <td>52575</td>\n",
       "      <td>52546</td>\n",
       "      <td>52575</td>\n",
       "    </tr>\n",
       "  </tbody>\n",
       "</table>\n",
       "</div>"
      ],
      "text/plain": [
       "                      folio  fecha_creacion  hora_creacion  dia_semana  \\\n",
       "delegacion_inicio                                                        \n",
       "ALVARO OBREGON       102071          102071         102071      102071   \n",
       "AZCAPOTZALCO          60823           60823          60823       60823   \n",
       "BENITO JUAREZ        104322          104322         104322      104322   \n",
       "COYOACAN             110146          110146         110146      110146   \n",
       "CUAJIMALPA            26714           26714          26714       26714   \n",
       "CUAUHTEMOC           141391          141391         141391      141391   \n",
       "GUSTAVO A. MADERO    144620          144620         144620      144620   \n",
       "IZTACALCO             58567           58567          58567       58567   \n",
       "IZTAPALAPA           223687          223687         223687      223687   \n",
       "MAGDALENA CONTRERAS   20062           20062          20062       20062   \n",
       "MIGUEL HIDALGO       115864          115864         115864      115864   \n",
       "MILPA ALTA             6986            6986           6986        6986   \n",
       "TLAHUAC               33420           33420          33420       33420   \n",
       "TLALPAN               87339           87339          87339       87339   \n",
       "VENUSTIANO CARRANZA   94393           94393          94393       94393   \n",
       "XOCHIMILCO            52575           52575          52575       52575   \n",
       "\n",
       "                     codigo_cierre  fecha_cierre  año_cierre  mes_cierre  \\\n",
       "delegacion_inicio                                                          \n",
       "ALVARO OBREGON              102071        102071      102071      102071   \n",
       "AZCAPOTZALCO                 60823         60823       60823       60823   \n",
       "BENITO JUAREZ               104322        104322      104322      104322   \n",
       "COYOACAN                    110146        110146      110146      110146   \n",
       "CUAJIMALPA                   26714         26714       26714       26714   \n",
       "CUAUHTEMOC                  141391        141391      141391      141391   \n",
       "GUSTAVO A. MADERO           144620        144620      144620      144620   \n",
       "IZTACALCO                    58567         58567       58567       58567   \n",
       "IZTAPALAPA                  223687        223687      223687      223687   \n",
       "MAGDALENA CONTRERAS          20062         20062       20062       20062   \n",
       "MIGUEL HIDALGO              115864        115864      115864      115864   \n",
       "MILPA ALTA                    6986          6986        6986        6986   \n",
       "TLAHUAC                      33420         33420       33420       33420   \n",
       "TLALPAN                      87339         87339       87339       87339   \n",
       "VENUSTIANO CARRANZA          94393         94393       94393       94393   \n",
       "XOCHIMILCO                   52575         52575       52575       52575   \n",
       "\n",
       "                     hora_cierre  incidente_c4  latitud  longitud  \\\n",
       "delegacion_inicio                                                   \n",
       "ALVARO OBREGON            102071        102071   102049    102049   \n",
       "AZCAPOTZALCO               60823         60823    60808     60811   \n",
       "BENITO JUAREZ             104322        104322   104302    104301   \n",
       "COYOACAN                  110146        110146   110119    110119   \n",
       "CUAJIMALPA                 26714         26714    26707     26707   \n",
       "CUAUHTEMOC                141391        141391   141322    141326   \n",
       "GUSTAVO A. MADERO         144620        144620   144576    144575   \n",
       "IZTACALCO                  58567         58567    58554     58555   \n",
       "IZTAPALAPA                223687        223687   223603    223604   \n",
       "MAGDALENA CONTRERAS        20062         20062    20051     20051   \n",
       "MIGUEL HIDALGO            115864        115864   115842    115842   \n",
       "MILPA ALTA                  6986          6986     6980      6980   \n",
       "TLAHUAC                    33420         33420    33407     33408   \n",
       "TLALPAN                    87339         87339    87322     87322   \n",
       "VENUSTIANO CARRANZA        94393         94393    94349     94349   \n",
       "XOCHIMILCO                 52575         52575    52546     52546   \n",
       "\n",
       "                     clas_con_f_alarma  tipo_entrada  delegacion_cierre  \\\n",
       "delegacion_inicio                                                         \n",
       "ALVARO OBREGON                  102071        102071             102071   \n",
       "AZCAPOTZALCO                     60823         60823              60823   \n",
       "BENITO JUAREZ                   104322        104322             104322   \n",
       "COYOACAN                        110146        110146             110146   \n",
       "CUAJIMALPA                       26714         26714              26714   \n",
       "CUAUHTEMOC                      141391        141391             141391   \n",
       "GUSTAVO A. MADERO               144620        144620             144620   \n",
       "IZTACALCO                        58567         58567              58567   \n",
       "IZTAPALAPA                      223687        223687             223687   \n",
       "MAGDALENA CONTRERAS              20062         20062              20062   \n",
       "MIGUEL HIDALGO                  115864        115864             115864   \n",
       "MILPA ALTA                        6986          6986               6986   \n",
       "TLAHUAC                          33420         33420              33420   \n",
       "TLALPAN                          87339         87339              87339   \n",
       "VENUSTIANO CARRANZA              94393         94393              94393   \n",
       "XOCHIMILCO                       52575         52575              52575   \n",
       "\n",
       "                     geopoint     mes  \n",
       "delegacion_inicio                      \n",
       "ALVARO OBREGON         102049  102071  \n",
       "AZCAPOTZALCO            60808   60823  \n",
       "BENITO JUAREZ          104301  104322  \n",
       "COYOACAN               110119  110146  \n",
       "CUAJIMALPA              26707   26714  \n",
       "CUAUHTEMOC             141322  141391  \n",
       "GUSTAVO A. MADERO      144575  144620  \n",
       "IZTACALCO               58554   58567  \n",
       "IZTAPALAPA             223602  223687  \n",
       "MAGDALENA CONTRERAS     20051   20062  \n",
       "MIGUEL HIDALGO         115842  115864  \n",
       "MILPA ALTA               6980    6986  \n",
       "TLAHUAC                 33407   33420  \n",
       "TLALPAN                 87322   87339  \n",
       "VENUSTIANO CARRANZA     94349   94393  \n",
       "XOCHIMILCO              52546   52575  "
      ]
     },
     "execution_count": 35,
     "metadata": {},
     "output_type": "execute_result"
    }
   ],
   "source": [
    "c5.groupby(['delegacion_inicio']).count()"
   ]
  },
  {
   "cell_type": "code",
   "execution_count": 36,
   "metadata": {},
   "outputs": [
    {
     "data": {
      "text/html": [
       "<div>\n",
       "<style scoped>\n",
       "    .dataframe tbody tr th:only-of-type {\n",
       "        vertical-align: middle;\n",
       "    }\n",
       "\n",
       "    .dataframe tbody tr th {\n",
       "        vertical-align: top;\n",
       "    }\n",
       "\n",
       "    .dataframe thead th {\n",
       "        text-align: right;\n",
       "    }\n",
       "</style>\n",
       "<table border=\"1\" class=\"dataframe\">\n",
       "  <thead>\n",
       "    <tr style=\"text-align: right;\">\n",
       "      <th></th>\n",
       "      <th>0</th>\n",
       "      <th>1</th>\n",
       "    </tr>\n",
       "  </thead>\n",
       "  <tbody>\n",
       "    <tr>\n",
       "      <th>0</th>\n",
       "      <td>19.422113</td>\n",
       "      <td>-99.084643</td>\n",
       "    </tr>\n",
       "    <tr>\n",
       "      <th>1</th>\n",
       "      <td>19.35832</td>\n",
       "      <td>-99.297641</td>\n",
       "    </tr>\n",
       "    <tr>\n",
       "      <th>2</th>\n",
       "      <td>19.21707</td>\n",
       "      <td>-99.21907008</td>\n",
       "    </tr>\n",
       "    <tr>\n",
       "      <th>3</th>\n",
       "      <td>19.32057999</td>\n",
       "      <td>-99.24100992</td>\n",
       "    </tr>\n",
       "    <tr>\n",
       "      <th>4</th>\n",
       "      <td>19.45289997</td>\n",
       "      <td>-99.21587004</td>\n",
       "    </tr>\n",
       "    <tr>\n",
       "      <th>...</th>\n",
       "      <td>...</td>\n",
       "      <td>...</td>\n",
       "    </tr>\n",
       "    <tr>\n",
       "      <th>1383133</th>\n",
       "      <td>19.48631004</td>\n",
       "      <td>-99.11811996</td>\n",
       "    </tr>\n",
       "    <tr>\n",
       "      <th>1383134</th>\n",
       "      <td>19.427274</td>\n",
       "      <td>-99.115814</td>\n",
       "    </tr>\n",
       "    <tr>\n",
       "      <th>1383135</th>\n",
       "      <td>19.46718</td>\n",
       "      <td>-99.17525016</td>\n",
       "    </tr>\n",
       "    <tr>\n",
       "      <th>1383136</th>\n",
       "      <td>19.42728003</td>\n",
       "      <td>-99.09686016</td>\n",
       "    </tr>\n",
       "    <tr>\n",
       "      <th>1383137</th>\n",
       "      <td>19.34577999</td>\n",
       "      <td>-99.06297984</td>\n",
       "    </tr>\n",
       "  </tbody>\n",
       "</table>\n",
       "<p>1383138 rows × 2 columns</p>\n",
       "</div>"
      ],
      "text/plain": [
       "                   0             1\n",
       "0          19.422113    -99.084643\n",
       "1           19.35832    -99.297641\n",
       "2           19.21707  -99.21907008\n",
       "3        19.32057999  -99.24100992\n",
       "4        19.45289997  -99.21587004\n",
       "...              ...           ...\n",
       "1383133  19.48631004  -99.11811996\n",
       "1383134    19.427274    -99.115814\n",
       "1383135     19.46718  -99.17525016\n",
       "1383136  19.42728003  -99.09686016\n",
       "1383137  19.34577999  -99.06297984\n",
       "\n",
       "[1383138 rows x 2 columns]"
      ]
     },
     "execution_count": 36,
     "metadata": {},
     "output_type": "execute_result"
    }
   ],
   "source": [
    "geo = c5.geopoint.str.split(\",\", n=1, expand = True)\n",
    "geo"
   ]
  },
  {
   "cell_type": "markdown",
   "metadata": {},
   "source": [
    "\n",
    "\n",
    "Tabla de data profiling para las columnas numéricas. Explica las 3 cosas más relevantes.\n",
    "\n",
    "Tabla de data profiling para las columnas categóricas. Explica las 3 cosas más relevantes.\n",
    "\n",
    "\n",
    "#Las variables año y mes de cierre corresponden a la informacion de fecha de cierre?\n",
    "\n",
    "\n",
    "\n",
    "Tabla de data profiling para las columnas de fecha. Explica las 3 cosas más relevantes.\n",
    "\n",
    "\n",
    "#Al leer la data, los datos se transforman correctamente o tenemos alguna fecha irregular?\n",
    "#Cual es el tiempo que tardan en cerrar un incidente?\n",
    "#Que porcentaje de los incidentes se reportan y cierran en el mismo año?\n",
    "\n",
    "\n",
    "\n",
    "Tabla de data profiling para las columnas geoespaciales. Explica las 3 cosas más relevantes.\n",
    "\n",
    "#Latitud & Altitud es igual a GeoPoint?"
   ]
  },
  {
   "cell_type": "markdown",
   "metadata": {},
   "source": [
    "### GEDA"
   ]
  },
  {
   "cell_type": "code",
   "execution_count": 37,
   "metadata": {},
   "outputs": [],
   "source": [
    "# Crear variable de incidentes_reales\n",
    "row_indexes=c5[c5['codigo_cierre']=='(A) La unidad de atención a emergencias fue despachada, llegó al lugar de los hechos y confirmó la emergencia reportada'].index\n",
    "c5.loc[row_indexes,'incidente_real']=\"1\"\n",
    "c5['incidente_real'] = c5['incidente_real'].replace(np.nan, '-1')"
   ]
  },
  {
   "cell_type": "code",
   "execution_count": 38,
   "metadata": {},
   "outputs": [],
   "source": [
    "# Crear variable de incidentes_reales_aux para uso del mapa\n",
    "row_indexes_aux=c5[c5['codigo_cierre']=='(A) La unidad de atención a emergencias fue despachada, llegó al lugar de los hechos y confirmó la emergencia reportada'].index\n",
    "c5.loc[row_indexes_aux,'incidente_real_aux']='red'\n",
    "c5['incidente_real_aux'] = c5['incidente_real_aux'].replace(np.nan, 'blue')"
   ]
  },
  {
   "cell_type": "code",
   "execution_count": 39,
   "metadata": {},
   "outputs": [
    {
     "data": {
      "text/plain": [
       "0         2016-01-23\n",
       "1         2016-01-23\n",
       "2         2016-01-24\n",
       "3         2016-01-24\n",
       "4         2016-01-24\n",
       "             ...    \n",
       "1383133   2020-10-22\n",
       "1383134   2020-10-22\n",
       "1383135   2020-10-22\n",
       "1383136   2020-10-22\n",
       "1383137   2020-10-22\n",
       "Name: fecha_creacion, Length: 1383138, dtype: datetime64[ns]"
      ]
     },
     "execution_count": 39,
     "metadata": {},
     "output_type": "execute_result"
    }
   ],
   "source": [
    "c5['fecha_creacion']"
   ]
  },
  {
   "cell_type": "code",
   "execution_count": 40,
   "metadata": {},
   "outputs": [
    {
     "data": {
      "text/html": [
       "<div>\n",
       "<style scoped>\n",
       "    .dataframe tbody tr th:only-of-type {\n",
       "        vertical-align: middle;\n",
       "    }\n",
       "\n",
       "    .dataframe tbody tr th {\n",
       "        vertical-align: top;\n",
       "    }\n",
       "\n",
       "    .dataframe thead th {\n",
       "        text-align: right;\n",
       "    }\n",
       "</style>\n",
       "<table border=\"1\" class=\"dataframe\">\n",
       "  <thead>\n",
       "    <tr style=\"text-align: right;\">\n",
       "      <th></th>\n",
       "      <th>folio</th>\n",
       "      <th>fecha_creacion</th>\n",
       "      <th>hora_creacion</th>\n",
       "      <th>dia_semana</th>\n",
       "      <th>codigo_cierre</th>\n",
       "      <th>fecha_cierre</th>\n",
       "      <th>año_cierre</th>\n",
       "      <th>mes_cierre</th>\n",
       "      <th>hora_cierre</th>\n",
       "      <th>delegacion_inicio</th>\n",
       "      <th>incidente_c4</th>\n",
       "      <th>latitud</th>\n",
       "      <th>longitud</th>\n",
       "      <th>clas_con_f_alarma</th>\n",
       "      <th>tipo_entrada</th>\n",
       "      <th>delegacion_cierre</th>\n",
       "      <th>geopoint</th>\n",
       "      <th>mes</th>\n",
       "      <th>incidente_real</th>\n",
       "      <th>incidente_real_aux</th>\n",
       "    </tr>\n",
       "  </thead>\n",
       "  <tbody>\n",
       "    <tr>\n",
       "      <th>0</th>\n",
       "      <td>GA/160123/05714</td>\n",
       "      <td>2016-01-23</td>\n",
       "      <td>22:35:04</td>\n",
       "      <td>Sábado</td>\n",
       "      <td>(A) La unidad de atención a emergencias fue de...</td>\n",
       "      <td>2016-01-24</td>\n",
       "      <td>2016</td>\n",
       "      <td>Enero</td>\n",
       "      <td>00:21:08</td>\n",
       "      <td>VENUSTIANO CARRANZA</td>\n",
       "      <td>accidente-choque sin lesionados</td>\n",
       "      <td>19.422113</td>\n",
       "      <td>-99.084643</td>\n",
       "      <td>EMERGENCIA</td>\n",
       "      <td>BOTÓN DE AUXILIO</td>\n",
       "      <td>VENUSTIANO CARRANZA</td>\n",
       "      <td>19.422113,-99.084643</td>\n",
       "      <td>1</td>\n",
       "      <td>1</td>\n",
       "      <td>red</td>\n",
       "    </tr>\n",
       "    <tr>\n",
       "      <th>1</th>\n",
       "      <td>AO/160123/05826</td>\n",
       "      <td>2016-01-23</td>\n",
       "      <td>22:50:49</td>\n",
       "      <td>Sábado</td>\n",
       "      <td>(A) La unidad de atención a emergencias fue de...</td>\n",
       "      <td>2016-01-24</td>\n",
       "      <td>2016</td>\n",
       "      <td>Enero</td>\n",
       "      <td>04:40:37</td>\n",
       "      <td>CUAJIMALPA</td>\n",
       "      <td>accidente-choque con lesionados</td>\n",
       "      <td>19.358320</td>\n",
       "      <td>-99.297641</td>\n",
       "      <td>URGENCIAS MEDICAS</td>\n",
       "      <td>BOTÓN DE AUXILIO</td>\n",
       "      <td>CUAJIMALPA</td>\n",
       "      <td>19.35832,-99.297641</td>\n",
       "      <td>1</td>\n",
       "      <td>1</td>\n",
       "      <td>red</td>\n",
       "    </tr>\n",
       "    <tr>\n",
       "      <th>2</th>\n",
       "      <td>C4/160124/02187</td>\n",
       "      <td>2016-01-24</td>\n",
       "      <td>09:40:11</td>\n",
       "      <td>Domingo</td>\n",
       "      <td>(N) La unidad de atención a emergencias fue de...</td>\n",
       "      <td>2016-01-24</td>\n",
       "      <td>2016</td>\n",
       "      <td>Enero</td>\n",
       "      <td>11:13:03</td>\n",
       "      <td>TLALPAN</td>\n",
       "      <td>accidente-choque sin lesionados</td>\n",
       "      <td>19.217070</td>\n",
       "      <td>-99.219070</td>\n",
       "      <td>EMERGENCIA</td>\n",
       "      <td>LLAMADA DEL 066</td>\n",
       "      <td>TLALPAN</td>\n",
       "      <td>19.21707,-99.21907008</td>\n",
       "      <td>1</td>\n",
       "      <td>-1</td>\n",
       "      <td>blue</td>\n",
       "    </tr>\n",
       "    <tr>\n",
       "      <th>3</th>\n",
       "      <td>C4/160124/05723</td>\n",
       "      <td>2016-01-24</td>\n",
       "      <td>22:40:57</td>\n",
       "      <td>Domingo</td>\n",
       "      <td>(N) La unidad de atención a emergencias fue de...</td>\n",
       "      <td>2016-01-24</td>\n",
       "      <td>2016</td>\n",
       "      <td>Enero</td>\n",
       "      <td>22:55:51</td>\n",
       "      <td>MAGDALENA CONTRERAS</td>\n",
       "      <td>accidente-choque sin lesionados</td>\n",
       "      <td>19.320580</td>\n",
       "      <td>-99.241010</td>\n",
       "      <td>EMERGENCIA</td>\n",
       "      <td>LLAMADA DEL 066</td>\n",
       "      <td>MAGDALENA CONTRERAS</td>\n",
       "      <td>19.32057999,-99.24100992</td>\n",
       "      <td>1</td>\n",
       "      <td>-1</td>\n",
       "      <td>blue</td>\n",
       "    </tr>\n",
       "    <tr>\n",
       "      <th>4</th>\n",
       "      <td>C4/160124/01334</td>\n",
       "      <td>2016-01-24</td>\n",
       "      <td>04:25:15</td>\n",
       "      <td>Domingo</td>\n",
       "      <td>(A) La unidad de atención a emergencias fue de...</td>\n",
       "      <td>2016-01-24</td>\n",
       "      <td>2016</td>\n",
       "      <td>Enero</td>\n",
       "      <td>05:03:59</td>\n",
       "      <td>MIGUEL HIDALGO</td>\n",
       "      <td>accidente-choque sin lesionados</td>\n",
       "      <td>19.452900</td>\n",
       "      <td>-99.215870</td>\n",
       "      <td>EMERGENCIA</td>\n",
       "      <td>LLAMADA DEL 066</td>\n",
       "      <td>MIGUEL HIDALGO</td>\n",
       "      <td>19.45289997,-99.21587004</td>\n",
       "      <td>1</td>\n",
       "      <td>1</td>\n",
       "      <td>red</td>\n",
       "    </tr>\n",
       "  </tbody>\n",
       "</table>\n",
       "</div>"
      ],
      "text/plain": [
       "             folio fecha_creacion hora_creacion dia_semana  \\\n",
       "0  GA/160123/05714     2016-01-23      22:35:04     Sábado   \n",
       "1  AO/160123/05826     2016-01-23      22:50:49     Sábado   \n",
       "2  C4/160124/02187     2016-01-24      09:40:11    Domingo   \n",
       "3  C4/160124/05723     2016-01-24      22:40:57    Domingo   \n",
       "4  C4/160124/01334     2016-01-24      04:25:15    Domingo   \n",
       "\n",
       "                                       codigo_cierre fecha_cierre  año_cierre  \\\n",
       "0  (A) La unidad de atención a emergencias fue de...   2016-01-24        2016   \n",
       "1  (A) La unidad de atención a emergencias fue de...   2016-01-24        2016   \n",
       "2  (N) La unidad de atención a emergencias fue de...   2016-01-24        2016   \n",
       "3  (N) La unidad de atención a emergencias fue de...   2016-01-24        2016   \n",
       "4  (A) La unidad de atención a emergencias fue de...   2016-01-24        2016   \n",
       "\n",
       "  mes_cierre hora_cierre    delegacion_inicio  \\\n",
       "0      Enero    00:21:08  VENUSTIANO CARRANZA   \n",
       "1      Enero    04:40:37           CUAJIMALPA   \n",
       "2      Enero    11:13:03              TLALPAN   \n",
       "3      Enero    22:55:51  MAGDALENA CONTRERAS   \n",
       "4      Enero    05:03:59       MIGUEL HIDALGO   \n",
       "\n",
       "                      incidente_c4    latitud   longitud  clas_con_f_alarma  \\\n",
       "0  accidente-choque sin lesionados  19.422113 -99.084643         EMERGENCIA   \n",
       "1  accidente-choque con lesionados  19.358320 -99.297641  URGENCIAS MEDICAS   \n",
       "2  accidente-choque sin lesionados  19.217070 -99.219070         EMERGENCIA   \n",
       "3  accidente-choque sin lesionados  19.320580 -99.241010         EMERGENCIA   \n",
       "4  accidente-choque sin lesionados  19.452900 -99.215870         EMERGENCIA   \n",
       "\n",
       "       tipo_entrada    delegacion_cierre                  geopoint mes  \\\n",
       "0  BOTÓN DE AUXILIO  VENUSTIANO CARRANZA      19.422113,-99.084643   1   \n",
       "1  BOTÓN DE AUXILIO           CUAJIMALPA       19.35832,-99.297641   1   \n",
       "2   LLAMADA DEL 066              TLALPAN     19.21707,-99.21907008   1   \n",
       "3   LLAMADA DEL 066  MAGDALENA CONTRERAS  19.32057999,-99.24100992   1   \n",
       "4   LLAMADA DEL 066       MIGUEL HIDALGO  19.45289997,-99.21587004   1   \n",
       "\n",
       "  incidente_real incidente_real_aux  \n",
       "0              1                red  \n",
       "1              1                red  \n",
       "2             -1               blue  \n",
       "3             -1               blue  \n",
       "4              1                red  "
      ]
     },
     "execution_count": 40,
     "metadata": {},
     "output_type": "execute_result"
    }
   ],
   "source": [
    "c5.head()"
   ]
  },
  {
   "cell_type": "code",
   "execution_count": 41,
   "metadata": {},
   "outputs": [
    {
     "data": {
      "image/png": "[encoded data removed]",
      "text/plain": [
       "<Figure size 432x288 with 1 Axes>"
      ]
     },
     "metadata": {
      "needs_background": "light"
     },
     "output_type": "display_data"
    }
   ],
   "source": [
    "plt1 = sns.countplot(x=\"codigo_cierre\",data=c5)\n",
    "#ticks = plt1.axes[0][0].get_xticks()\n",
    "#ylabels = ['$' + '{:,.0f}'.format(y) for y in ticks]\n",
    "#plt1.axes[0][0]#.get_xticks()\n"
   ]
  },
  {
   "cell_type": "code",
   "execution_count": 42,
   "metadata": {},
   "outputs": [
    {
     "data": {
      "text/plain": [
       "<AxesSubplot:xlabel='count', ylabel='codigo_cierre'>"
      ]
     },
     "execution_count": 42,
     "metadata": {},
     "output_type": "execute_result"
    },
    {
     "data": {
      "image/png": "[encoded data removed]",
      "text/plain": [
       "<Figure size 432x288 with 1 Axes>"
      ]
     },
     "metadata": {
      "needs_background": "light"
     },
     "output_type": "display_data"
    }
   ],
   "source": [
    "sns.countplot(y=\"codigo_cierre\",data=c5)"
   ]
  },
  {
   "cell_type": "code",
   "execution_count": 43,
   "metadata": {},
   "outputs": [
    {
     "data": {
      "text/plain": [
       "<AxesSubplot:xlabel='año_cierre', ylabel='count'>"
      ]
     },
     "execution_count": 43,
     "metadata": {},
     "output_type": "execute_result"
    },
    {
     "data": {
      "image/png": "[encoded data removed]",
      "text/plain": [
       "<Figure size 432x288 with 1 Axes>"
      ]
     },
     "metadata": {
      "needs_background": "light"
     },
     "output_type": "display_data"
    }
   ],
   "source": [
    "sns.countplot(x=\"año_cierre\",hue='codigo_cierre',data=c5)"
   ]
  },
  {
   "cell_type": "code",
   "execution_count": 44,
   "metadata": {},
   "outputs": [
    {
     "data": {
      "text/plain": [
       "<AxesSubplot:xlabel='incidente_real', ylabel='count'>"
      ]
     },
     "execution_count": 44,
     "metadata": {},
     "output_type": "execute_result"
    },
    {
     "data": {
      "image/png": "[encoded data removed]",
      "text/plain": [
       "<Figure size 432x288 with 1 Axes>"
      ]
     },
     "metadata": {
      "needs_background": "light"
     },
     "output_type": "display_data"
    }
   ],
   "source": [
    "sns.countplot(x=\"incidente_real\",data=c5)"
   ]
  },
  {
   "cell_type": "code",
   "execution_count": 45,
   "metadata": {},
   "outputs": [
    {
     "data": {
      "text/plain": [
       "<AxesSubplot:xlabel='año_cierre', ylabel='count'>"
      ]
     },
     "execution_count": 45,
     "metadata": {},
     "output_type": "execute_result"
    },
    {
     "data": {
      "image/png": "[encoded data removed]",
      "text/plain": [
       "<Figure size 432x288 with 1 Axes>"
      ]
     },
     "metadata": {
      "needs_background": "light"
     },
     "output_type": "display_data"
    }
   ],
   "source": [
    "sns.countplot(x=\"año_cierre\",hue='incidente_real',data=c5)"
   ]
  },
  {
   "cell_type": "code",
   "execution_count": 46,
   "metadata": {},
   "outputs": [],
   "source": [
    "#pd.crosstab(c5['incidente_c4'],c5['incidente_real'],dropna=False,normalize='index')"
   ]
  },
  {
   "cell_type": "code",
   "execution_count": 47,
   "metadata": {},
   "outputs": [
    {
     "data": {
      "text/plain": [
       "<AxesSubplot:xlabel='incidente_real', ylabel='incidente_c4'>"
      ]
     },
     "execution_count": 47,
     "metadata": {},
     "output_type": "execute_result"
    },
    {
     "data": {
      "image/png": "[encoded data removed]",
      "text/plain": [
       "<Figure size 432x288 with 1 Axes>"
      ]
     },
     "metadata": {
      "needs_background": "light"
     },
     "output_type": "display_data"
    }
   ],
   "source": [
    "sns.heatmap(pd.crosstab(c5['incidente_c4'],c5['incidente_real'],dropna=False,normalize='index'),\n",
    "            cmap=\"YlGnBu\", \n",
    "            annot=True, cbar=False)"
   ]
  },
  {
   "cell_type": "code",
   "execution_count": 48,
   "metadata": {},
   "outputs": [
    {
     "data": {
      "text/plain": [
       "<AxesSubplot:xlabel='incidente_real', ylabel='tipo_entrada'>"
      ]
     },
     "execution_count": 48,
     "metadata": {},
     "output_type": "execute_result"
    },
    {
     "data": {
      "image/png": "[encoded data removed]",
      "text/plain": [
       "<Figure size 432x288 with 1 Axes>"
      ]
     },
     "metadata": {
      "needs_background": "light"
     },
     "output_type": "display_data"
    }
   ],
   "source": [
    "sns.heatmap(pd.crosstab(c5['tipo_entrada'],c5['incidente_real'],dropna=False,normalize='index'),\n",
    "            cmap=\"YlGnBu\", \n",
    "            annot=True, cbar=False)"
   ]
  },
  {
   "cell_type": "markdown",
   "metadata": {},
   "source": [
    "#### Comportamiento por colonia"
   ]
  },
  {
   "cell_type": "code",
   "execution_count": 49,
   "metadata": {},
   "outputs": [
    {
     "data": {
      "text/plain": [
       "<AxesSubplot:xlabel='delegacion_cierre', ylabel='delegacion_inicio'>"
      ]
     },
     "execution_count": 49,
     "metadata": {},
     "output_type": "execute_result"
    },
    {
     "data": {
      "image/png": "[encoded data removed]",
      "text/plain": [
       "<Figure size 432x288 with 1 Axes>"
      ]
     },
     "metadata": {
      "needs_background": "light"
     },
     "output_type": "display_data"
    }
   ],
   "source": [
    "sns.heatmap(pd.crosstab(c5['delegacion_inicio'],c5['delegacion_cierre'],dropna=False,normalize='index'),\n",
    "            cmap=\"YlGnBu\", \n",
    "            annot=True, cbar=False)"
   ]
  },
  {
   "cell_type": "code",
   "execution_count": 50,
   "metadata": {},
   "outputs": [
    {
     "data": {
      "text/plain": [
       "<AxesSubplot:xlabel='count', ylabel='delegacion_inicio'>"
      ]
     },
     "execution_count": 50,
     "metadata": {},
     "output_type": "execute_result"
    },
    {
     "data": {
      "image/png": "[encoded data removed]",
      "text/plain": [
       "<Figure size 432x288 with 1 Axes>"
      ]
     },
     "metadata": {
      "needs_background": "light"
     },
     "output_type": "display_data"
    }
   ],
   "source": [
    "sns.countplot(y='delegacion_inicio',hue=\"incidente_real\",data=c5)"
   ]
  },
  {
   "cell_type": "code",
   "execution_count": 51,
   "metadata": {},
   "outputs": [
    {
     "data": {
      "text/plain": [
       "<AxesSubplot:xlabel='incidente_real', ylabel='delegacion_inicio'>"
      ]
     },
     "execution_count": 51,
     "metadata": {},
     "output_type": "execute_result"
    },
    {
     "data": {
      "image/png": "[encoded data removed]",
      "text/plain": [
       "<Figure size 432x288 with 1 Axes>"
      ]
     },
     "metadata": {
      "needs_background": "light"
     },
     "output_type": "display_data"
    }
   ],
   "source": [
    "sns.heatmap(pd.crosstab(c5['delegacion_inicio'],c5['incidente_real'],dropna=False,normalize='index'),\n",
    "            cmap=\"YlGnBu\", \n",
    "            annot=True, cbar=False)"
   ]
  },
  {
   "cell_type": "markdown",
   "metadata": {},
   "source": [
    "analisis por dia de la semana"
   ]
  },
  {
   "cell_type": "code",
   "execution_count": 53,
   "metadata": {},
   "outputs": [
    {
     "data": {
      "text/plain": [
       "<AxesSubplot:xlabel='dia_semana', ylabel='count'>"
      ]
     },
     "execution_count": 53,
     "metadata": {},
     "output_type": "execute_result"
    },
    {
     "data": {
      "image/png": "[encoded data removed]",
      "text/plain": [
       "<Figure size 432x288 with 1 Axes>"
      ]
     },
     "metadata": {
      "needs_background": "light"
     },
     "output_type": "display_data"
    }
   ],
   "source": [
    "sns.countplot(x=\"dia_semana\",hue='incidente_real',data=c5)"
   ]
  },
  {
   "cell_type": "code",
   "execution_count": 55,
   "metadata": {},
   "outputs": [
    {
     "data": {
      "text/plain": [
       "<AxesSubplot:xlabel='incidente_real', ylabel='dia_semana'>"
      ]
     },
     "execution_count": 55,
     "metadata": {},
     "output_type": "execute_result"
    },
    {
     "data": {
      "image/png": "[encoded data removed]",
      "text/plain": [
       "<Figure size 432x288 with 1 Axes>"
      ]
     },
     "metadata": {
      "needs_background": "light"
     },
     "output_type": "display_data"
    }
   ],
   "source": [
    "sns.heatmap(pd.crosstab(c5['dia_semana'],c5['incidente_real'],dropna=False,normalize='index'),\n",
    "            cmap=\"YlGnBu\", \n",
    "            annot=True, cbar=False)"
   ]
  },
  {
   "cell_type": "code",
   "execution_count": 56,
   "metadata": {},
   "outputs": [
    {
     "data": {
      "text/plain": [
       "<seaborn.axisgrid.FacetGrid at 0x7fbba34aa1d0>"
      ]
     },
     "execution_count": 56,
     "metadata": {},
     "output_type": "execute_result"
    },
    {
     "data": {
      "image/png": "[encoded data removed]",
      "text/plain": [
       "<Figure size 5838.5x360 with 16 Axes>"
      ]
     },
     "metadata": {
      "needs_background": "light"
     },
     "output_type": "display_data"
    }
   ],
   "source": [
    "sns.catplot(y='dia_semana',hue='incidente_real',col='delegacion_inicio',\n",
    "            data=c5,kind='count')"
   ]
  },
  {
   "cell_type": "markdown",
   "metadata": {},
   "source": [
    "agregar mapa"
   ]
  },
  {
   "cell_type": "markdown",
   "metadata": {},
   "source": [
    "analisis por hora del dia\n",
    "agregar gráfica de tiempo en que tardan en responder\n",
    "\n",
    "**falta convertir adecuadamente las columnas de fecha**"
   ]
  },
  {
   "cell_type": "markdown",
   "metadata": {},
   "source": [
    "agregar titulos\n",
    "modificar unidades en que se presentan"
   ]
  },
  {
   "cell_type": "code",
   "execution_count": 57,
   "metadata": {},
   "outputs": [],
   "source": [
    "\n",
    "\n",
    "##consu_alca_tot = pd.DataFrame(c5,\n",
    "##                      columns=['delegacion_inicio',\n",
    "##                              'incidente_c4',\n",
    "##                               'clas_con_f_alarma',\n",
    "##                               'tipo_entrada'])\\\n",
    "##.groupby(['delegacion_inicio'], as_index=False).sum()#\\\n",
    "#.sort_values(by=['consumo_prom'], ascending=False)\\\n",
    "#.melt(id_vars='delegacion_inicio')\n",
    "\n"
   ]
  },
  {
   "cell_type": "code",
   "execution_count": 58,
   "metadata": {},
   "outputs": [],
   "source": [
    "##sns.set(style='whitegrid',rc={'figure.figsize':(8,11)},palette='crest')\n",
    "##plt1 = sns.barplot(x=\"value\", y=\"alcaldia\", \n",
    "##            data=consu_alca_tot, hue = 'variable')\n",
    "##plt1.set(xlabel='Consumo Agua m3')\n",
    "##plt.show()\n"
   ]
  },
  {
   "cell_type": "code",
   "execution_count": 59,
   "metadata": {},
   "outputs": [],
   "source": [
    "##c5.dtypes"
   ]
  },
  {
   "cell_type": "code",
   "execution_count": 60,
   "metadata": {},
   "outputs": [],
   "source": [
    "#Mapa"
   ]
  },
  {
   "cell_type": "code",
   "execution_count": 61,
   "metadata": {},
   "outputs": [
    {
     "data": {
      "text/html": [
       "<div>\n",
       "<style scoped>\n",
       "    .dataframe tbody tr th:only-of-type {\n",
       "        vertical-align: middle;\n",
       "    }\n",
       "\n",
       "    .dataframe tbody tr th {\n",
       "        vertical-align: top;\n",
       "    }\n",
       "\n",
       "    .dataframe thead th {\n",
       "        text-align: right;\n",
       "    }\n",
       "</style>\n",
       "<table border=\"1\" class=\"dataframe\">\n",
       "  <thead>\n",
       "    <tr style=\"text-align: right;\">\n",
       "      <th></th>\n",
       "      <th>folio</th>\n",
       "      <th>fecha_creacion</th>\n",
       "      <th>hora_creacion</th>\n",
       "      <th>dia_semana</th>\n",
       "      <th>codigo_cierre</th>\n",
       "      <th>fecha_cierre</th>\n",
       "      <th>año_cierre</th>\n",
       "      <th>mes_cierre</th>\n",
       "      <th>hora_cierre</th>\n",
       "      <th>delegacion_inicio</th>\n",
       "      <th>incidente_c4</th>\n",
       "      <th>latitud</th>\n",
       "      <th>longitud</th>\n",
       "      <th>clas_con_f_alarma</th>\n",
       "      <th>tipo_entrada</th>\n",
       "      <th>delegacion_cierre</th>\n",
       "      <th>geopoint</th>\n",
       "      <th>mes</th>\n",
       "      <th>incidente_real</th>\n",
       "      <th>incidente_real_aux</th>\n",
       "    </tr>\n",
       "  </thead>\n",
       "  <tbody>\n",
       "    <tr>\n",
       "      <th>0</th>\n",
       "      <td>GA/160123/05714</td>\n",
       "      <td>2016-01-23</td>\n",
       "      <td>22:35:04</td>\n",
       "      <td>Sábado</td>\n",
       "      <td>(A) La unidad de atención a emergencias fue de...</td>\n",
       "      <td>2016-01-24</td>\n",
       "      <td>2016</td>\n",
       "      <td>Enero</td>\n",
       "      <td>00:21:08</td>\n",
       "      <td>VENUSTIANO CARRANZA</td>\n",
       "      <td>accidente-choque sin lesionados</td>\n",
       "      <td>19.422113</td>\n",
       "      <td>-99.084643</td>\n",
       "      <td>EMERGENCIA</td>\n",
       "      <td>BOTÓN DE AUXILIO</td>\n",
       "      <td>VENUSTIANO CARRANZA</td>\n",
       "      <td>19.422113,-99.084643</td>\n",
       "      <td>1</td>\n",
       "      <td>1</td>\n",
       "      <td>red</td>\n",
       "    </tr>\n",
       "    <tr>\n",
       "      <th>1</th>\n",
       "      <td>AO/160123/05826</td>\n",
       "      <td>2016-01-23</td>\n",
       "      <td>22:50:49</td>\n",
       "      <td>Sábado</td>\n",
       "      <td>(A) La unidad de atención a emergencias fue de...</td>\n",
       "      <td>2016-01-24</td>\n",
       "      <td>2016</td>\n",
       "      <td>Enero</td>\n",
       "      <td>04:40:37</td>\n",
       "      <td>CUAJIMALPA</td>\n",
       "      <td>accidente-choque con lesionados</td>\n",
       "      <td>19.358320</td>\n",
       "      <td>-99.297641</td>\n",
       "      <td>URGENCIAS MEDICAS</td>\n",
       "      <td>BOTÓN DE AUXILIO</td>\n",
       "      <td>CUAJIMALPA</td>\n",
       "      <td>19.35832,-99.297641</td>\n",
       "      <td>1</td>\n",
       "      <td>1</td>\n",
       "      <td>red</td>\n",
       "    </tr>\n",
       "    <tr>\n",
       "      <th>2</th>\n",
       "      <td>C4/160124/02187</td>\n",
       "      <td>2016-01-24</td>\n",
       "      <td>09:40:11</td>\n",
       "      <td>Domingo</td>\n",
       "      <td>(N) La unidad de atención a emergencias fue de...</td>\n",
       "      <td>2016-01-24</td>\n",
       "      <td>2016</td>\n",
       "      <td>Enero</td>\n",
       "      <td>11:13:03</td>\n",
       "      <td>TLALPAN</td>\n",
       "      <td>accidente-choque sin lesionados</td>\n",
       "      <td>19.217070</td>\n",
       "      <td>-99.219070</td>\n",
       "      <td>EMERGENCIA</td>\n",
       "      <td>LLAMADA DEL 066</td>\n",
       "      <td>TLALPAN</td>\n",
       "      <td>19.21707,-99.21907008</td>\n",
       "      <td>1</td>\n",
       "      <td>-1</td>\n",
       "      <td>blue</td>\n",
       "    </tr>\n",
       "    <tr>\n",
       "      <th>3</th>\n",
       "      <td>C4/160124/05723</td>\n",
       "      <td>2016-01-24</td>\n",
       "      <td>22:40:57</td>\n",
       "      <td>Domingo</td>\n",
       "      <td>(N) La unidad de atención a emergencias fue de...</td>\n",
       "      <td>2016-01-24</td>\n",
       "      <td>2016</td>\n",
       "      <td>Enero</td>\n",
       "      <td>22:55:51</td>\n",
       "      <td>MAGDALENA CONTRERAS</td>\n",
       "      <td>accidente-choque sin lesionados</td>\n",
       "      <td>19.320580</td>\n",
       "      <td>-99.241010</td>\n",
       "      <td>EMERGENCIA</td>\n",
       "      <td>LLAMADA DEL 066</td>\n",
       "      <td>MAGDALENA CONTRERAS</td>\n",
       "      <td>19.32057999,-99.24100992</td>\n",
       "      <td>1</td>\n",
       "      <td>-1</td>\n",
       "      <td>blue</td>\n",
       "    </tr>\n",
       "    <tr>\n",
       "      <th>4</th>\n",
       "      <td>C4/160124/01334</td>\n",
       "      <td>2016-01-24</td>\n",
       "      <td>04:25:15</td>\n",
       "      <td>Domingo</td>\n",
       "      <td>(A) La unidad de atención a emergencias fue de...</td>\n",
       "      <td>2016-01-24</td>\n",
       "      <td>2016</td>\n",
       "      <td>Enero</td>\n",
       "      <td>05:03:59</td>\n",
       "      <td>MIGUEL HIDALGO</td>\n",
       "      <td>accidente-choque sin lesionados</td>\n",
       "      <td>19.452900</td>\n",
       "      <td>-99.215870</td>\n",
       "      <td>EMERGENCIA</td>\n",
       "      <td>LLAMADA DEL 066</td>\n",
       "      <td>MIGUEL HIDALGO</td>\n",
       "      <td>19.45289997,-99.21587004</td>\n",
       "      <td>1</td>\n",
       "      <td>1</td>\n",
       "      <td>red</td>\n",
       "    </tr>\n",
       "  </tbody>\n",
       "</table>\n",
       "</div>"
      ],
      "text/plain": [
       "             folio fecha_creacion hora_creacion dia_semana  \\\n",
       "0  GA/160123/05714     2016-01-23      22:35:04     Sábado   \n",
       "1  AO/160123/05826     2016-01-23      22:50:49     Sábado   \n",
       "2  C4/160124/02187     2016-01-24      09:40:11    Domingo   \n",
       "3  C4/160124/05723     2016-01-24      22:40:57    Domingo   \n",
       "4  C4/160124/01334     2016-01-24      04:25:15    Domingo   \n",
       "\n",
       "                                       codigo_cierre fecha_cierre  año_cierre  \\\n",
       "0  (A) La unidad de atención a emergencias fue de...   2016-01-24        2016   \n",
       "1  (A) La unidad de atención a emergencias fue de...   2016-01-24        2016   \n",
       "2  (N) La unidad de atención a emergencias fue de...   2016-01-24        2016   \n",
       "3  (N) La unidad de atención a emergencias fue de...   2016-01-24        2016   \n",
       "4  (A) La unidad de atención a emergencias fue de...   2016-01-24        2016   \n",
       "\n",
       "  mes_cierre hora_cierre    delegacion_inicio  \\\n",
       "0      Enero    00:21:08  VENUSTIANO CARRANZA   \n",
       "1      Enero    04:40:37           CUAJIMALPA   \n",
       "2      Enero    11:13:03              TLALPAN   \n",
       "3      Enero    22:55:51  MAGDALENA CONTRERAS   \n",
       "4      Enero    05:03:59       MIGUEL HIDALGO   \n",
       "\n",
       "                      incidente_c4    latitud   longitud  clas_con_f_alarma  \\\n",
       "0  accidente-choque sin lesionados  19.422113 -99.084643         EMERGENCIA   \n",
       "1  accidente-choque con lesionados  19.358320 -99.297641  URGENCIAS MEDICAS   \n",
       "2  accidente-choque sin lesionados  19.217070 -99.219070         EMERGENCIA   \n",
       "3  accidente-choque sin lesionados  19.320580 -99.241010         EMERGENCIA   \n",
       "4  accidente-choque sin lesionados  19.452900 -99.215870         EMERGENCIA   \n",
       "\n",
       "       tipo_entrada    delegacion_cierre                  geopoint mes  \\\n",
       "0  BOTÓN DE AUXILIO  VENUSTIANO CARRANZA      19.422113,-99.084643   1   \n",
       "1  BOTÓN DE AUXILIO           CUAJIMALPA       19.35832,-99.297641   1   \n",
       "2   LLAMADA DEL 066              TLALPAN     19.21707,-99.21907008   1   \n",
       "3   LLAMADA DEL 066  MAGDALENA CONTRERAS  19.32057999,-99.24100992   1   \n",
       "4   LLAMADA DEL 066       MIGUEL HIDALGO  19.45289997,-99.21587004   1   \n",
       "\n",
       "  incidente_real incidente_real_aux  \n",
       "0              1                red  \n",
       "1              1                red  \n",
       "2             -1               blue  \n",
       "3             -1               blue  \n",
       "4              1                red  "
      ]
     },
     "execution_count": 61,
     "metadata": {},
     "output_type": "execute_result"
    }
   ],
   "source": [
    "c5.head()"
   ]
  },
  {
   "cell_type": "code",
   "execution_count": 62,
   "metadata": {},
   "outputs": [
    {
     "data": {
      "image/png": "[encoded data removed]",
      "text/plain": [
       "<Figure size 432x288 with 1 Axes>"
      ]
     },
     "metadata": {
      "needs_background": "light"
     },
     "output_type": "display_data"
    }
   ],
   "source": [
    "c5.plot(kind=\"scatter\",x='latitud',y='longitud',c='incidente_real_aux',\n",
    "        alpha=0.05)\n",
    "plt.show()"
   ]
  },
  {
   "cell_type": "code",
   "execution_count": 63,
   "metadata": {},
   "outputs": [],
   "source": [
    "##data=c5.copy()"
   ]
  },
  {
   "cell_type": "code",
   "execution_count": 64,
   "metadata": {},
   "outputs": [],
   "source": [
    "##data.groupby('delegacion_inicio')['folio'].nunique()\n",
    "##data_map=data[data.delegacion_inicio==\"MIGUEL HIDALGO\"]"
   ]
  },
  {
   "cell_type": "code",
   "execution_count": 65,
   "metadata": {},
   "outputs": [],
   "source": [
    "##fig = px.scatter_mapbox(data_map, lat=\"latitud\", lon=\"longitud\",color=\"incidente_real\",color_continuous_scale=px.colors.cyclical.IceFire)\n",
    "##                        , size_max=15, zoom=3)\n",
    "##fig.update_layout(mapbox_style=\"open-street-map\")\n",
    "##fig.show()"
   ]
  },
  {
   "cell_type": "code",
   "execution_count": 67,
   "metadata": {},
   "outputs": [],
   "source": [
    "##data=data.assign(count=1)"
   ]
  },
  {
   "cell_type": "code",
   "execution_count": 68,
   "metadata": {},
   "outputs": [],
   "source": [
    "##pivot_1=data[['count','dia_semana','clas_con_f_alarma']].groupby(['clas_con_f_alarma','dia_semana']).sum().reset_index()"
   ]
  },
  {
   "cell_type": "code",
   "execution_count": 69,
   "metadata": {},
   "outputs": [],
   "source": [
    "##sns.barplot(x=\"count\", y=\"clas_con_f_alarma\", data=pivot_1)"
   ]
  },
  {
   "cell_type": "markdown",
   "metadata": {},
   "source": [
    "### 3 Transformación de variables"
   ]
  },
  {
   "cell_type": "code",
   "execution_count": null,
   "metadata": {},
   "outputs": [],
   "source": []
  },
  {
   "cell_type": "markdown",
   "metadata": {},
   "source": [
    "### 4 Imputación de variables"
   ]
  },
  {
   "cell_type": "markdown",
   "metadata": {},
   "source": [
    "#Variables a imputar\n",
    "\n",
    "latitud\n",
    "\n",
    "longitud\n",
    "\n",
    "delegacion_inicio\n",
    "\n",
    "delegacion_cierre"
   ]
  }
 ],
 "metadata": {
  "kernelspec": {
   "display_name": "Python 3",
   "language": "python",
   "name": "python3"
  },
  "language_info": {
   "codemirror_mode": {
    "name": "ipython",
    "version": 3
   },
   "file_extension": ".py",
   "mimetype": "text/x-python",
   "name": "python",
   "nbconvert_exporter": "python",
   "pygments_lexer": "ipython3",
   "version": "3.7.4"
  }
 },
 "nbformat": 4,
 "nbformat_minor": 4
}
